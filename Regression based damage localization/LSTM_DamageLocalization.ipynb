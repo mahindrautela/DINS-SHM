{
 "cells": [
  {
   "cell_type": "markdown",
   "metadata": {
    "colab_type": "text",
    "id": "PqlepXJ1Qc2u"
   },
   "source": [
    "# LSTM code for damage localization based on time-history dataset "
   ]
  },
  {
   "cell_type": "markdown",
   "metadata": {
    "colab_type": "text",
    "id": "Q30maC5Wxofc"
   },
   "source": [
    "# Define Functions"
   ]
  },
  {
   "cell_type": "markdown",
   "metadata": {
    "colab_type": "text",
    "id": "MMGFS1P_O5sW"
   },
   "source": [
    "### Function for R^2 coefficient"
   ]
  },
  {
   "cell_type": "code",
   "execution_count": 1,
   "metadata": {
    "colab": {},
    "colab_type": "code",
    "id": "w5_G-B8BORzd"
   },
   "outputs": [],
   "source": [
    "#--------------------------------R^2 coefficient for variance------------\n",
    "def r_square(y_true, y_pred):\n",
    "    from keras import backend as K\n",
    "    SS_res =  K.sum(K.square(y_true - y_pred)) \n",
    "    SS_tot = K.sum(K.square(y_true - K.mean(y_true))) \n",
    "    return ( 1 - SS_res/(SS_tot + K.epsilon()) )"
   ]
  },
  {
   "cell_type": "markdown",
   "metadata": {},
   "source": [
    "### Split"
   ]
  },
  {
   "cell_type": "code",
   "execution_count": 2,
   "metadata": {},
   "outputs": [],
   "source": [
    "def split1(X, y, mvalid, mtest): # full dataset\n",
    "    \n",
    "    # split\n",
    "    X1, Xtest, y1, ytest = train_test_split(X,y, test_size = mtest, random_state = 42)\n",
    "    Xtrain, Xvalid, ytrain, yvalid = train_test_split(X1,y1, test_size = mvalid, random_state = 42)\n",
    "    \n",
    "    return [Xtrain, ytrain, Xvalid, yvalid, Xtest, ytest];"
   ]
  },
  {
   "cell_type": "code",
   "execution_count": 3,
   "metadata": {},
   "outputs": [],
   "source": [
    "def split2(Xn, yn, mvalid, mtest): # for noise + full dataset\n",
    "    \n",
    "    import random\n",
    "    \n",
    "    # split\n",
    "    X1, Xtest, y1, ytest = train_test_split(Xn,yn, test_size = mtest, random_state = 42)\n",
    "    Xtrain, Xvalid, ytrain, yvalid = train_test_split(X1,y1, test_size = mvalid, random_state = 42)\n",
    "    \n",
    "    return [Xtrain, ytrain, Xvalid, yvalid, Xtest, ytest];"
   ]
  },
  {
   "cell_type": "code",
   "execution_count": 4,
   "metadata": {},
   "outputs": [],
   "source": [
    "def split3(Xn, yn, m, mvalid, mtest): # noise + reduced dataset\n",
    "    \n",
    "    import random\n",
    "    \n",
    "    # dataset\n",
    "    n = random.sample(range(1, Xn.shape[0]), m)\n",
    "    Xn = Xn[n,:] # Xn should be defined\n",
    "    yn = yn[n]   # yn should be defined\n",
    "    \n",
    "    # split\n",
    "    X1, Xtest, y1, ytest = train_test_split(Xn,yn, test_size = mtest, random_state = 42)\n",
    "    Xtrain, Xvalid, ytrain, yvalid = train_test_split(X1,y1, test_size = mvalid, random_state = 42)\n",
    "    \n",
    "    return [Xtrain, ytrain, Xvalid, yvalid, Xtest, ytest];"
   ]
  },
  {
   "cell_type": "markdown",
   "metadata": {},
   "source": [
    "### Model architecture"
   ]
  },
  {
   "cell_type": "code",
   "execution_count": 5,
   "metadata": {},
   "outputs": [],
   "source": [
    "def RNN(n_timesteps,n_features, nlstm):\n",
    "    \n",
    "    # define model architecture : 1DCNN for regression\n",
    "    model = Sequential()\n",
    "    \n",
    "    # LSTM layers\n",
    "    model.add(LSTM(nlstm, return_sequences = True, input_shape=(n_timesteps,n_features)))\n",
    "    model.add(Dropout(0.05))\n",
    "    #model.add(CuDNNLSTM(8, return_sequences = True))\n",
    "    #model.add(Dropout(0.05))\n",
    "    \n",
    "    model.add(Flatten())\n",
    "    \n",
    "    # Dense Layers\n",
    "    model.add(Dense(512, activation='relu'))\n",
    "    model.add(Dropout(0.25))\n",
    "    model.add(Dense(128, activation='relu'))\n",
    "    model.add(Dropout(0.2))\n",
    "    #model.add(Dense(16, activation='relu'))\n",
    "    \n",
    "    # Output Layer\n",
    "    model.add(Dense(2, activation='linear'))\n",
    "    \n",
    "    return model"
   ]
  },
  {
   "cell_type": "markdown",
   "metadata": {},
   "source": [
    "### Training"
   ]
  },
  {
   "cell_type": "code",
   "execution_count": 6,
   "metadata": {},
   "outputs": [],
   "source": [
    "def train(Xtrain, ytrain, Xvalid, yvalid, model, alpha, nepoch, batchsize):\n",
    "    \n",
    "    # otherparameters\n",
    "    m_train = Xtrain.shape[0]\n",
    "    m_valid = Xvalid.shape[0]\n",
    "    \n",
    "    # reshape the array\n",
    "    Xtrain = np.reshape(Xtrain, (m_train,n_timesteps,n_features)) # n_timesteps and n_feature = defined\n",
    "    Xvalid = np.reshape(Xvalid, (m_valid,n_timesteps,n_features))\n",
    "    \n",
    "    model.compile(loss='mse', optimizer=Adam(lr=alpha,beta_1=0.9,beta_2=0.999), metrics=['mape','mae',r_square])\n",
    "    \n",
    "    # train the model\n",
    "    \n",
    "    history = model.fit(Xtrain, ytrain, validation_data=(Xvalid, yvalid), epochs=nepoch, batch_size = batchsize, verbose=2, shuffle = True)\n",
    "    \n",
    "    return [model, history];"
   ]
  },
  {
   "cell_type": "markdown",
   "metadata": {},
   "source": [
    "### Plots "
   ]
  },
  {
   "cell_type": "code",
   "execution_count": 7,
   "metadata": {},
   "outputs": [],
   "source": [
    "def mseplot(history, lb, ub, font, ep1, ep2):\n",
    "    plt.figure(figsize=(14,8))\n",
    "    plt.plot(history.history['loss'],'-o')\n",
    "    plt.plot(history.history['val_loss'],'-s')\n",
    "    plt.title('MSE loss for Damage localization (LSTM)',fontsize=font+2)\n",
    "    plt.ylabel('MSE',fontsize=font)\n",
    "    plt.xticks(fontsize=font)\n",
    "    plt.yticks(fontsize=font)\n",
    "    plt.xlabel('Number of epochs',fontsize=font)\n",
    "    plt.legend(['train', 'test'], loc='upper right',fontsize=font)\n",
    "    plt.axis([ep1,ep2,lb,ub])\n",
    "    return plt.show()\n",
    "\n",
    "def maeplot(history, lb, ub, font, ep1, ep2):\n",
    "    plt.figure(figsize=(14,8))\n",
    "    plt.plot(history.history['mae'],'-o')\n",
    "    plt.plot(history.history['val_mae'],'-s')\n",
    "    plt.title('MAE for Damage localization (LSTM)',fontsize=font+2)\n",
    "    plt.ylabel('MAE',fontsize=font)\n",
    "    plt.xticks(fontsize=font)\n",
    "    plt.yticks(fontsize=font)\n",
    "    plt.xlabel('Number of epochs',fontsize=font)\n",
    "    plt.legend(['train', 'test'], loc='upper right',fontsize=font)\n",
    "    plt.axis([ep1,ep2,lb,ub])\n",
    "    return plt.show()\n",
    "\n",
    "def mapeplot(history, lb, ub, font, ep1, ep2):\n",
    "    plt.figure(figsize=(14,8))\n",
    "    plt.plot(history.history['mape'],'-o')\n",
    "    plt.plot(history.history['val_mape'],'-s')\n",
    "    plt.title('MAPE for Damage localization (LSTM)',fontsize=font+2)\n",
    "    plt.ylabel('MAPE',fontsize=font)\n",
    "    plt.xticks(fontsize=font)\n",
    "    plt.yticks(fontsize=font)\n",
    "    plt.xlabel('Number of epochs',fontsize=font)\n",
    "    plt.legend(['train', 'test'], loc='upper right',fontsize=font)\n",
    "    plt.axis([ep1,ep2,lb,ub])\n",
    "    return plt.show()\n",
    "\n",
    "def r2plot(history, lb, ub, font, ep1, ep2):\n",
    "    plt.figure(figsize=(14,8))\n",
    "    plt.plot(history.history['r_square'],'-o')\n",
    "    plt.plot(history.history['val_r_square'],'-s')\n",
    "    plt.title('R^2 for Damage localization (LSTM)',fontsize=font+2)\n",
    "    plt.ylabel('R^2',fontsize=font)\n",
    "    plt.xticks(fontsize=font)\n",
    "    plt.yticks(fontsize=font)\n",
    "    plt.xlabel('Number of epochs',fontsize=font)\n",
    "    plt.legend(['train', 'test'], loc='upper right',fontsize=font)\n",
    "    plt.axis([ep1,ep2,lb,ub])\n",
    "    return plt.show()"
   ]
  },
  {
   "cell_type": "markdown",
   "metadata": {},
   "source": [
    "### Prediction "
   ]
  },
  {
   "cell_type": "code",
   "execution_count": 8,
   "metadata": {},
   "outputs": [],
   "source": [
    "def pred(model,Xtest,ytest,name):\n",
    "    \n",
    "    m_test = Xtest.shape[0]\n",
    "    Xtest = np.reshape(Xtest,(m_test,n_timesteps,n_features))\n",
    "    y_predicted = model.predict(Xtest, verbose=2)\n",
    "    y_predicted = np.array(y_predicted)\n",
    "    y_actual = ytest\n",
    "    \n",
    "    diff = y_predicted - y_actual\n",
    "    percentDiff = (diff / y_actual) * 100\n",
    "    absPercentDiff = np.abs(percentDiff)\n",
    "    APD = pd.DataFrame(absPercentDiff)\n",
    "    APD = round(APD,2)\n",
    "    \n",
    "    import xlsxwriter\n",
    "    \n",
    "    y_actual = np.array(y_actual)\n",
    "    APD = np.array(APD)\n",
    "  \n",
    "    workbook = xlsxwriter.Workbook(name) \n",
    "  \n",
    "    # By default worksheet names in the spreadsheet will be  \n",
    "    # Sheet1, Sheet2 etc., but we can also specify a name. \n",
    "    worksheet = workbook.add_worksheet(\"My sheet\") \n",
    "\n",
    "    worksheet.write(0, 0, 'True values (x)') \n",
    "    worksheet.write(0, 1, 'True values (a)')\n",
    "    worksheet.write(0, 2, 'Predicted values (x)') \n",
    "    worksheet.write(0, 3, 'Predicted values (a)')\n",
    "    worksheet.write(0, 4, 'APD (x)') \n",
    "    worksheet.write(0, 5, 'APD (a)') \n",
    "\n",
    "    # columns are indexed from 1. \n",
    "    row = 1\n",
    "    col = 0\n",
    "\n",
    "    # Iterate over the data and write it out row by row. \n",
    "    for i in range(0, len(y_actual)):\n",
    "        worksheet.write(row, col, y_actual[i,0])\n",
    "        worksheet.write(row, col + 1, y_actual[i,1]) \n",
    "        worksheet.write(row, col + 2, y_predicted[i,0])\n",
    "        worksheet.write(row, col + 3, y_predicted[i,1])\n",
    "        worksheet.write(row, col + 4, APD[i,0]) \n",
    "        worksheet.write(row, col + 5, APD[i,1]) \n",
    "        row += 1\n",
    "  \n",
    "    workbook.close()\n",
    "\n",
    "    excel = pd.read_excel(name)\n",
    "    \n",
    "    return excel"
   ]
  },
  {
   "cell_type": "markdown",
   "metadata": {
    "colab_type": "text",
    "id": "hdUg4PtmxKu3"
   },
   "source": [
    "## Importing APIs"
   ]
  },
  {
   "cell_type": "code",
   "execution_count": 9,
   "metadata": {},
   "outputs": [],
   "source": [
    "#import os, signal\n",
    "#os.kill(os.getpid(), signal.SIGTERM)"
   ]
  },
  {
   "cell_type": "code",
   "execution_count": 10,
   "metadata": {
    "colab": {
     "base_uri": "https://localhost:8080/",
     "height": 81
    },
    "colab_type": "code",
    "executionInfo": {
     "elapsed": 29003,
     "status": "ok",
     "timestamp": 1576243410532,
     "user": {
      "displayName": "Mahindra Singh Rautela",
      "photoUrl": "https://lh3.googleusercontent.com/a-/AAuE7mBTSnpeHr1j42u0w7ABMmG3BYbWyCtFQVbOvr6sAA=s64",
      "userId": "15859880813264051870"
     },
     "user_tz": -330
    },
    "id": "CRBGtfZ58PCo",
    "outputId": "6322b267-fbc1-4703-e2d8-7567b907a9f8"
   },
   "outputs": [
    {
     "name": "stderr",
     "output_type": "stream",
     "text": [
      "Using TensorFlow backend.\n"
     ]
    }
   ],
   "source": [
    "#------------------------------------------imports----------------------------\n",
    "%matplotlib inline\n",
    "import tensorflow as tf\n",
    "\n",
    "import numpy as np\n",
    "import pandas as pd\n",
    "\n",
    "from tensorflow.keras.models import Sequential\n",
    "from tensorflow.keras.layers import Flatten, Activation, MaxPooling1D, Dropout, Lambda \n",
    "from tensorflow.keras.layers import Dense, Conv1D, SimpleRNN, LSTM\n",
    "from tensorflow.compat.v1.keras.layers import CuDNNLSTM\n",
    "from tensorflow.keras.layers import BatchNormalization\n",
    "from tensorflow.keras.optimizers import SGD, Adam, RMSprop\n",
    "\n",
    "from matplotlib import pyplot\n",
    "from sklearn.model_selection import train_test_split\n",
    "from keras.utils import to_categorical, plot_model\n",
    "from sklearn.metrics import confusion_matrix, classification_report\n",
    "import matplotlib.pyplot as plt\n",
    "from sklearn.datasets import make_regression"
   ]
  },
  {
   "cell_type": "code",
   "execution_count": 11,
   "metadata": {},
   "outputs": [],
   "source": [
    "from tensorflow.compat.v1 import ConfigProto\n",
    "from tensorflow.compat.v1 import InteractiveSession\n",
    "config = ConfigProto()\n",
    "config.gpu_options.allow_growth = True\n",
    "session = InteractiveSession(config=config)"
   ]
  },
  {
   "cell_type": "markdown",
   "metadata": {
    "colab_type": "text",
    "id": "D8PgsiDsxSZI"
   },
   "source": [
    "## Callbacks"
   ]
  },
  {
   "cell_type": "code",
   "execution_count": 12,
   "metadata": {
    "colab": {
     "base_uri": "https://localhost:8080/",
     "height": 34
    },
    "colab_type": "code",
    "executionInfo": {
     "elapsed": 50850,
     "status": "ok",
     "timestamp": 1576243461448,
     "user": {
      "displayName": "Mahindra Singh Rautela",
      "photoUrl": "https://lh3.googleusercontent.com/a-/AAuE7mBTSnpeHr1j42u0w7ABMmG3BYbWyCtFQVbOvr6sAA=s64",
      "userId": "15859880813264051870"
     },
     "user_tz": -330
    },
    "id": "hdYWXfnLw222",
    "outputId": "214095cc-d92a-455b-b6df-3aa0b1af3b62"
   },
   "outputs": [
    {
     "name": "stdout",
     "output_type": "stream",
     "text": [
      "WARNING:tensorflow:`period` argument is deprecated. Please use `save_freq` to specify the frequency in number of samples seen.\n"
     ]
    }
   ],
   "source": [
    "#-----------------------------------------callbacks---------------------------\n",
    "# 1. Epoch Schedule\n",
    "class myCallback(tf.keras.callbacks.Callback):\n",
    "  def on_epoch_end(self, epoch, logs={}):\n",
    "    if (logs.get('val_mean_absolute_error')<1.25) and (logs.get('mean_absolute_error')<1.25) and (logs.get('val_loss')<3) and (logs.get('loss')<3) and (abs(logs.get('val_loss') - logs.get('loss')) < 0.5):\n",
    "      print(\"\\nReached perfect accuracy so cancelling training!\")\n",
    "      self.model.stop_training = True\n",
    "\n",
    "epoch_schedule = myCallback()\n",
    "\n",
    "# 2. Saving weight checkpoint\n",
    "\n",
    "filepath = \"gdrive/My Drive/save_weights/epochs:{epoch:03d}-loss:{loss:.3f}.hdf5\"\n",
    "checkpoint = tf.keras.callbacks.ModelCheckpoint(filepath, monitor='loss', verbose=1, save_best_only=True, mode='min',period=100)\n",
    "\n",
    "# 3. Learning Rate Schedule      \n",
    "lr_schedule = tf.keras.callbacks.LearningRateScheduler(\n",
    "    lambda epoch: 1e-6 * 10**(epoch / 2.5))"
   ]
  },
  {
   "cell_type": "markdown",
   "metadata": {
    "colab_type": "text",
    "id": "NXjLB7X4xW_h"
   },
   "source": [
    "## Importing Dataset"
   ]
  },
  {
   "cell_type": "code",
   "execution_count": 13,
   "metadata": {
    "colab": {
     "base_uri": "https://localhost:8080/",
     "height": 34
    },
    "colab_type": "code",
    "executionInfo": {
     "elapsed": 59125,
     "status": "ok",
     "timestamp": 1576243469735,
     "user": {
      "displayName": "Mahindra Singh Rautela",
      "photoUrl": "https://lh3.googleusercontent.com/a-/AAuE7mBTSnpeHr1j42u0w7ABMmG3BYbWyCtFQVbOvr6sAA=s64",
      "userId": "15859880813264051870"
     },
     "user_tz": -330
    },
    "id": "1siNunAUQdHS",
    "outputId": "509ebbc7-2feb-4039-e7e8-4dea43ddbcfb"
   },
   "outputs": [],
   "source": [
    "df_D_Ax = pd.read_csv('D:/SDE/1_SDEisotropicDL/CollectData/0_DataSet/Ax2500_D_03Aug20.txt',header=None)\n",
    "df_D_Flex = pd.read_csv('D:/SDE/1_SDEisotropicDL/CollectData/0_DataSet/Flex2500_D_03Aug20.txt',header=None)\n",
    "y = pd.read_excel('D:/SDE/1_SDEisotropicDL/CollectData/2_Labels/labelsD.xlsx',header=None)"
   ]
  },
  {
   "cell_type": "code",
   "execution_count": 14,
   "metadata": {},
   "outputs": [
    {
     "name": "stdout",
     "output_type": "stream",
     "text": [
      "(2500, 8192)\n",
      "(2500, 8192)\n",
      "(2500, 2)\n"
     ]
    }
   ],
   "source": [
    "print(df_D_Ax.shape)\n",
    "print(df_D_Flex.shape)\n",
    "print(y.shape)"
   ]
  },
  {
   "cell_type": "markdown",
   "metadata": {},
   "source": [
    "## Plots "
   ]
  },
  {
   "cell_type": "code",
   "execution_count": 15,
   "metadata": {},
   "outputs": [
    {
     "name": "stdout",
     "output_type": "stream",
     "text": [
      "[0.0000e+00 5.0000e-07 1.0000e-06 ... 4.0940e-03 4.0945e-03 4.0950e-03]\n"
     ]
    }
   ],
   "source": [
    "nfft = 1024*8\n",
    "T = 0.5e-6*nfft\n",
    "q = 120e3\n",
    "deltaT = T/nfft\n",
    "t = np.arange(0,(nfft-1)/nfft,1/nfft)\n",
    "time = t*T\n",
    "print(time)"
   ]
  },
  {
   "cell_type": "code",
   "execution_count": 16,
   "metadata": {
    "colab": {
     "base_uri": "https://localhost:8080/",
     "height": 330
    },
    "colab_type": "code",
    "executionInfo": {
     "elapsed": 59101,
     "status": "ok",
     "timestamp": 1576243469737,
     "user": {
      "displayName": "Mahindra Singh Rautela",
      "photoUrl": "https://lh3.googleusercontent.com/a-/AAuE7mBTSnpeHr1j42u0w7ABMmG3BYbWyCtFQVbOvr6sAA=s64",
      "userId": "15859880813264051870"
     },
     "user_tz": -330
    },
    "id": "85-oRLxFsu3x",
    "outputId": "af7b8027-8d2b-4d5a-e742-90bc3484f690"
   },
   "outputs": [
    {
     "name": "stdout",
     "output_type": "stream",
     "text": [
      "1570\n"
     ]
    },
    {
     "data": {
      "text/plain": [
       "Text(0, 0.5, 'Amplitude')"
      ]
     },
     "execution_count": 16,
     "metadata": {},
     "output_type": "execute_result"
    },
    {
     "data": {
      "image/png": "[encoded data removed]",
      "text/plain": [
       "<Figure size 720x288 with 1 Axes>"
      ]
     },
     "metadata": {
      "needs_background": "light"
     },
     "output_type": "display_data"
    }
   ],
   "source": [
    "import random \n",
    "N = random.randint(1, 2500)\n",
    "plt.figure(figsize=(10,4))\n",
    "plt.plot(time, df_D_Ax.iloc[N, 0 : df_D_Ax.shape[1]-1])\n",
    "plt.title('Damaged Ax sample',fontsize=22)\n",
    "print(N)\n",
    "plt.xticks(fontsize=18)\n",
    "plt.yticks(fontsize=18)\n",
    "plt.xlabel('Time is seconds',fontsize=18)\n",
    "plt.ylabel('Amplitude',fontsize=18)"
   ]
  },
  {
   "cell_type": "code",
   "execution_count": 17,
   "metadata": {},
   "outputs": [
    {
     "name": "stdout",
     "output_type": "stream",
     "text": [
      "1570\n"
     ]
    },
    {
     "data": {
      "text/plain": [
       "Text(0, 0.5, 'Amplitude')"
      ]
     },
     "execution_count": 17,
     "metadata": {},
     "output_type": "execute_result"
    },
    {
     "data": {
      "image/png": "[encoded data removed]",
      "text/plain": [
       "<Figure size 720x288 with 1 Axes>"
      ]
     },
     "metadata": {
      "needs_background": "light"
     },
     "output_type": "display_data"
    }
   ],
   "source": [
    "plt.figure(figsize=(10,4))\n",
    "plt.plot(time, df_D_Flex.iloc[N, 0 : df_D_Flex.shape[1]-1])\n",
    "plt.title('Damaged Flex sample',fontsize=22)\n",
    "print(N)\n",
    "plt.xticks(fontsize=18)\n",
    "plt.yticks(fontsize=18)\n",
    "plt.xlabel('Time is seconds',fontsize=18)\n",
    "plt.ylabel('Amplitude',fontsize=18)"
   ]
  },
  {
   "cell_type": "markdown",
   "metadata": {},
   "source": [
    "## Combined "
   ]
  },
  {
   "cell_type": "code",
   "execution_count": 18,
   "metadata": {},
   "outputs": [],
   "source": [
    "df_D = df_D_Ax + df_D_Flex"
   ]
  },
  {
   "cell_type": "code",
   "execution_count": 19,
   "metadata": {},
   "outputs": [
    {
     "name": "stdout",
     "output_type": "stream",
     "text": [
      "1570\n"
     ]
    },
    {
     "data": {
      "text/plain": [
       "Text(0, 0.5, 'Amplitude')"
      ]
     },
     "execution_count": 19,
     "metadata": {},
     "output_type": "execute_result"
    },
    {
     "data": {
      "image/png": "[encoded data removed]",
      "text/plain": [
       "<Figure size 720x288 with 1 Axes>"
      ]
     },
     "metadata": {
      "needs_background": "light"
     },
     "output_type": "display_data"
    }
   ],
   "source": [
    "plt.figure(figsize=(10,4))\n",
    "plt.plot(time, df_D.iloc[N, 0 : df_D.shape[1]-1])\n",
    "plt.title('Damaged sample',fontsize=22)\n",
    "print(N)\n",
    "plt.xticks(fontsize=18)\n",
    "plt.yticks(fontsize=18)\n",
    "plt.xlabel('Time is seconds',fontsize=18)\n",
    "plt.ylabel('Amplitude',fontsize=18)"
   ]
  },
  {
   "cell_type": "markdown",
   "metadata": {
    "colab_type": "text",
    "id": "aFmNpCUHxho1"
   },
   "source": [
    "## Deciding Features and Labels"
   ]
  },
  {
   "cell_type": "code",
   "execution_count": 20,
   "metadata": {
    "colab": {},
    "colab_type": "code",
    "id": "ca05RbnQ8TqK"
   },
   "outputs": [
    {
     "name": "stdout",
     "output_type": "stream",
     "text": [
      "2000\n"
     ]
    }
   ],
   "source": [
    "index = np.where(time == 1e-03)\n",
    "index = int(index[0])\n",
    "print(index)"
   ]
  },
  {
   "cell_type": "code",
   "execution_count": 21,
   "metadata": {},
   "outputs": [
    {
     "name": "stdout",
     "output_type": "stream",
     "text": [
      "(2500, 2000)\n",
      "(2500, 2)\n"
     ]
    }
   ],
   "source": [
    "DAx = df_D_Ax.iloc[:, 0 : index]\n",
    "DFlex = df_D_Flex.iloc[:, 0 : index]\n",
    "X = DAx + DFlex\n",
    "# X = np.concatenate([DAx,DFlex], axis=1)\n",
    "X = np.array(X)\n",
    "y = np.array(y)\n",
    "print(X.shape)\n",
    "print(y.shape)"
   ]
  },
  {
   "cell_type": "code",
   "execution_count": 22,
   "metadata": {},
   "outputs": [],
   "source": [
    "n_timesteps = index\n",
    "n_features = 1\n",
    "n_outputs = 2"
   ]
  },
  {
   "cell_type": "markdown",
   "metadata": {},
   "source": [
    "# Dataset with Noise"
   ]
  },
  {
   "cell_type": "markdown",
   "metadata": {},
   "source": [
    "## Noise "
   ]
  },
  {
   "cell_type": "code",
   "execution_count": 23,
   "metadata": {},
   "outputs": [
    {
     "name": "stdout",
     "output_type": "stream",
     "text": [
      "SNR :  11.399021050993099\n"
     ]
    }
   ],
   "source": [
    "#---Random gaussian noise parameter\n",
    "beta1 = 0.01\n",
    "beta2 = 0.02\n",
    "beta3 = 0.03\n",
    "mu = 0\n",
    "sigma = 1\n",
    "r = sigma*np.random.randn(2000,1) + mu   #random parameter with gaussian distribution\n",
    "r = np.transpose(r)\n",
    "\n",
    "#---Noisy signal\n",
    "n1 = beta1*r*np.max(X)\n",
    "n2 = beta2*r*np.max(X)\n",
    "n3 = beta3*r*np.max(X)\n",
    "Xn1 = X + n1\n",
    "Xn2 = X + n2\n",
    "Xn3 = X + n3\n",
    "\n",
    "#---Signal to noise ratio\n",
    "import math\n",
    "\n",
    "rms_Xn = np.sqrt(np.mean(Xn3**2))\n",
    "Power_Xn = rms_Xn**2\n",
    "\n",
    "rms_n = np.sqrt(np.mean(n3**2))\n",
    "Power_n = rms_n**2\n",
    "\n",
    "SNR_dB = 10*math.log10(Power_Xn/Power_n)\n",
    "print(\"SNR : \",SNR_dB)"
   ]
  },
  {
   "cell_type": "markdown",
   "metadata": {},
   "source": [
    "## Plots "
   ]
  },
  {
   "cell_type": "code",
   "execution_count": 24,
   "metadata": {},
   "outputs": [
    {
     "name": "stdout",
     "output_type": "stream",
     "text": [
      "809\n"
     ]
    },
    {
     "data": {
      "text/plain": [
       "Text(0.5, 1.0, 'Dam')"
      ]
     },
     "execution_count": 24,
     "metadata": {},
     "output_type": "execute_result"
    },
    {
     "data": {
      "image/png": "[encoded data removed]",
      "text/plain": [
       "<Figure size 720x288 with 1 Axes>"
      ]
     },
     "metadata": {
      "needs_background": "light"
     },
     "output_type": "display_data"
    }
   ],
   "source": [
    "#---Plot non-noisy signal\n",
    "D = random.randint(1, 2500)\n",
    "print(D)\n",
    "\n",
    "plt.figure(figsize=(10,4))\n",
    "plt.plot(time[0:index-1], Xn3[D, 0 : index-1])\n",
    "plt.title('Dam')"
   ]
  },
  {
   "cell_type": "markdown",
   "metadata": {},
   "source": [
    "## New Dataset (with noise)"
   ]
  },
  {
   "cell_type": "code",
   "execution_count": 25,
   "metadata": {},
   "outputs": [
    {
     "name": "stdout",
     "output_type": "stream",
     "text": [
      "(10000, 2000)\n",
      "(10000, 2)\n"
     ]
    }
   ],
   "source": [
    "Xn = np.concatenate([X,Xn1,Xn2,Xn3], axis=0)\n",
    "yn = np.concatenate([y,y,y,y], axis=0)\n",
    "print(Xn.shape)\n",
    "print(yn.shape)"
   ]
  },
  {
   "cell_type": "code",
   "execution_count": 26,
   "metadata": {},
   "outputs": [
    {
     "name": "stdout",
     "output_type": "stream",
     "text": [
      "(8550, 2000)\n",
      "(500, 2000)\n"
     ]
    }
   ],
   "source": [
    "# call split function\n",
    "[Xtrain,ytrain,Xvalid,yvalid,Xtest,ytest] = split2(Xn, yn, 0.1, 0.05)\n",
    "print(Xtrain.shape)\n",
    "print(Xtest.shape)"
   ]
  },
  {
   "cell_type": "code",
   "execution_count": 27,
   "metadata": {},
   "outputs": [
    {
     "name": "stdout",
     "output_type": "stream",
     "text": [
      "Model: \"sequential\"\n",
      "_________________________________________________________________\n",
      "Layer (type)                 Output Shape              Param #   \n",
      "=================================================================\n",
      "lstm (LSTM)                  (None, 2000, 16)          1152      \n",
      "_________________________________________________________________\n",
      "dropout (Dropout)            (None, 2000, 16)          0         \n",
      "_________________________________________________________________\n",
      "flatten (Flatten)            (None, 32000)             0         \n",
      "_________________________________________________________________\n",
      "dense (Dense)                (None, 512)               16384512  \n",
      "_________________________________________________________________\n",
      "dropout_1 (Dropout)          (None, 512)               0         \n",
      "_________________________________________________________________\n",
      "dense_1 (Dense)              (None, 128)               65664     \n",
      "_________________________________________________________________\n",
      "dropout_2 (Dropout)          (None, 128)               0         \n",
      "_________________________________________________________________\n",
      "dense_2 (Dense)              (None, 2)                 258       \n",
      "=================================================================\n",
      "Total params: 16,451,586\n",
      "Trainable params: 16,451,586\n",
      "Non-trainable params: 0\n",
      "_________________________________________________________________\n"
     ]
    }
   ],
   "source": [
    "# call model architecture\n",
    "model = RNN(2000, 1, 16)\n",
    "model.summary()"
   ]
  },
  {
   "cell_type": "code",
   "execution_count": 28,
   "metadata": {},
   "outputs": [
    {
     "name": "stdout",
     "output_type": "stream",
     "text": [
      "Train on 8550 samples, validate on 950 samples\n",
      "Epoch 1/500\n",
      "8550/8550 - 48s - loss: 0.0297 - mape: 99.9163 - mae: 0.1200 - r_square: 0.5409 - val_loss: 0.0246 - val_mape: 84.8595 - val_mae: 0.1076 - val_r_square: 0.6288\n",
      "Epoch 2/500\n",
      "8550/8550 - 45s - loss: 0.0268 - mape: 93.7698 - mae: 0.1139 - r_square: 0.5849 - val_loss: 0.0243 - val_mape: 87.3278 - val_mae: 0.1072 - val_r_square: 0.6257\n",
      "Epoch 3/500\n",
      "8550/8550 - 45s - loss: 0.0263 - mape: 91.0147 - mae: 0.1124 - r_square: 0.5843 - val_loss: 0.0242 - val_mape: 90.4868 - val_mae: 0.1073 - val_r_square: 0.6267\n",
      "Epoch 4/500\n",
      "8550/8550 - 46s - loss: 0.0259 - mape: 88.6285 - mae: 0.1116 - r_square: 0.5903 - val_loss: 0.0240 - val_mape: 76.6771 - val_mae: 0.1064 - val_r_square: 0.6327\n",
      "Epoch 5/500\n",
      "8550/8550 - 46s - loss: 0.0254 - mape: 87.5738 - mae: 0.1102 - r_square: 0.6027 - val_loss: 0.0237 - val_mape: 78.7573 - val_mae: 0.1059 - val_r_square: 0.6339\n",
      "Epoch 6/500\n",
      "8550/8550 - 46s - loss: 0.0249 - mape: 86.4659 - mae: 0.1089 - r_square: 0.6123 - val_loss: 0.0235 - val_mape: 81.5384 - val_mae: 0.1053 - val_r_square: 0.6331\n",
      "Epoch 7/500\n",
      "8550/8550 - 46s - loss: 0.0243 - mape: 85.2379 - mae: 0.1076 - r_square: 0.6213 - val_loss: 0.0233 - val_mape: 81.2492 - val_mae: 0.1049 - val_r_square: 0.6472\n",
      "Epoch 8/500\n",
      "8550/8550 - 46s - loss: 0.0239 - mape: 85.0741 - mae: 0.1063 - r_square: 0.6278 - val_loss: 0.0227 - val_mape: 79.1819 - val_mae: 0.1033 - val_r_square: 0.6456\n",
      "Epoch 9/500\n",
      "8550/8550 - 46s - loss: 0.0234 - mape: 84.2757 - mae: 0.1049 - r_square: 0.6340 - val_loss: 0.0219 - val_mape: 76.1769 - val_mae: 0.1012 - val_r_square: 0.6618\n",
      "Epoch 10/500\n",
      "8550/8550 - 45s - loss: 0.0223 - mape: 82.5566 - mae: 0.1020 - r_square: 0.6480 - val_loss: 0.0217 - val_mape: 71.8325 - val_mae: 0.0996 - val_r_square: 0.6779\n",
      "Epoch 11/500\n",
      "8550/8550 - 46s - loss: 0.0203 - mape: 81.2439 - mae: 0.0970 - r_square: 0.6790 - val_loss: 0.0184 - val_mape: 72.5350 - val_mae: 0.0922 - val_r_square: 0.7192\n",
      "Epoch 12/500\n",
      "8550/8550 - 46s - loss: 0.0174 - mape: 78.3647 - mae: 0.0892 - r_square: 0.7268 - val_loss: 0.0136 - val_mape: 70.4522 - val_mae: 0.0793 - val_r_square: 0.7890\n",
      "Epoch 13/500\n",
      "8550/8550 - 46s - loss: 0.0117 - mape: 72.9810 - mae: 0.0734 - r_square: 0.8181 - val_loss: 0.0075 - val_mape: 62.4915 - val_mae: 0.0579 - val_r_square: 0.8861\n",
      "Epoch 14/500\n",
      "8550/8550 - 46s - loss: 0.0080 - mape: 66.2521 - mae: 0.0599 - r_square: 0.8761 - val_loss: 0.0051 - val_mape: 61.1623 - val_mae: 0.0489 - val_r_square: 0.9221\n",
      "Epoch 15/500\n",
      "8550/8550 - 46s - loss: 0.0065 - mape: 64.2355 - mae: 0.0537 - r_square: 0.9009 - val_loss: 0.0041 - val_mape: 57.2845 - val_mae: 0.0436 - val_r_square: 0.9386\n",
      "Epoch 16/500\n",
      "8550/8550 - 46s - loss: 0.0058 - mape: 62.7694 - mae: 0.0502 - r_square: 0.9126 - val_loss: 0.0038 - val_mape: 53.9132 - val_mae: 0.0413 - val_r_square: 0.9432\n",
      "Epoch 17/500\n",
      "8550/8550 - 46s - loss: 0.0052 - mape: 61.9418 - mae: 0.0481 - r_square: 0.9199 - val_loss: 0.0033 - val_mape: 53.7365 - val_mae: 0.0385 - val_r_square: 0.9513\n",
      "Epoch 18/500\n",
      "8550/8550 - 46s - loss: 0.0047 - mape: 61.2808 - mae: 0.0461 - r_square: 0.9284 - val_loss: 0.0032 - val_mape: 55.2982 - val_mae: 0.0400 - val_r_square: 0.9506\n",
      "Epoch 19/500\n",
      "8550/8550 - 46s - loss: 0.0044 - mape: 61.5322 - mae: 0.0447 - r_square: 0.9329 - val_loss: 0.0027 - val_mape: 56.3310 - val_mae: 0.0361 - val_r_square: 0.9587\n",
      "Epoch 20/500\n",
      "8550/8550 - 46s - loss: 0.0041 - mape: 60.5196 - mae: 0.0431 - r_square: 0.9382 - val_loss: 0.0027 - val_mape: 54.1262 - val_mae: 0.0360 - val_r_square: 0.9591\n",
      "Epoch 21/500\n",
      "8550/8550 - 46s - loss: 0.0038 - mape: 60.4928 - mae: 0.0422 - r_square: 0.9416 - val_loss: 0.0024 - val_mape: 53.4779 - val_mae: 0.0345 - val_r_square: 0.9639\n",
      "Epoch 22/500\n",
      "8550/8550 - 46s - loss: 0.0037 - mape: 59.9782 - mae: 0.0414 - r_square: 0.9423 - val_loss: 0.0023 - val_mape: 54.6038 - val_mae: 0.0334 - val_r_square: 0.9654\n",
      "Epoch 23/500\n",
      "8550/8550 - 46s - loss: 0.0035 - mape: 59.5579 - mae: 0.0407 - r_square: 0.9451 - val_loss: 0.0021 - val_mape: 51.3506 - val_mae: 0.0320 - val_r_square: 0.9681\n",
      "Epoch 24/500\n",
      "8550/8550 - 46s - loss: 0.0033 - mape: 59.4576 - mae: 0.0396 - r_square: 0.9500 - val_loss: 0.0020 - val_mape: 51.6645 - val_mae: 0.0317 - val_r_square: 0.9695\n",
      "Epoch 25/500\n",
      "8550/8550 - 46s - loss: 0.0031 - mape: 59.0122 - mae: 0.0388 - r_square: 0.9527 - val_loss: 0.0019 - val_mape: 53.9893 - val_mae: 0.0303 - val_r_square: 0.9718\n",
      "Epoch 26/500\n",
      "8550/8550 - 46s - loss: 0.0030 - mape: 58.9410 - mae: 0.0382 - r_square: 0.9537 - val_loss: 0.0018 - val_mape: 49.9624 - val_mae: 0.0298 - val_r_square: 0.9731\n",
      "Epoch 27/500\n",
      "8550/8550 - 46s - loss: 0.0029 - mape: 58.1667 - mae: 0.0372 - r_square: 0.9562 - val_loss: 0.0018 - val_mape: 52.4606 - val_mae: 0.0295 - val_r_square: 0.9736\n",
      "Epoch 28/500\n",
      "8550/8550 - 46s - loss: 0.0028 - mape: 58.3740 - mae: 0.0370 - r_square: 0.9572 - val_loss: 0.0017 - val_mape: 50.9615 - val_mae: 0.0290 - val_r_square: 0.9745\n",
      "Epoch 29/500\n",
      "8550/8550 - 45s - loss: 0.0027 - mape: 58.0468 - mae: 0.0363 - r_square: 0.9580 - val_loss: 0.0020 - val_mape: 55.4217 - val_mae: 0.0331 - val_r_square: 0.9684\n",
      "Epoch 30/500\n",
      "8550/8550 - 46s - loss: 0.0026 - mape: 57.9962 - mae: 0.0359 - r_square: 0.9589 - val_loss: 0.0016 - val_mape: 50.6580 - val_mae: 0.0287 - val_r_square: 0.9756\n",
      "Epoch 31/500\n",
      "8550/8550 - 46s - loss: 0.0025 - mape: 57.8706 - mae: 0.0356 - r_square: 0.9614 - val_loss: 0.0016 - val_mape: 51.9368 - val_mae: 0.0284 - val_r_square: 0.9756\n",
      "Epoch 32/500\n",
      "8550/8550 - 47s - loss: 0.0025 - mape: 57.6960 - mae: 0.0353 - r_square: 0.9621 - val_loss: 0.0015 - val_mape: 52.3081 - val_mae: 0.0278 - val_r_square: 0.9773\n",
      "Epoch 33/500\n",
      "8550/8550 - 46s - loss: 0.0024 - mape: 57.4322 - mae: 0.0350 - r_square: 0.9620 - val_loss: 0.0015 - val_mape: 51.1699 - val_mae: 0.0273 - val_r_square: 0.9776\n",
      "Epoch 34/500\n",
      "8550/8550 - 46s - loss: 0.0023 - mape: 57.0181 - mae: 0.0344 - r_square: 0.9639 - val_loss: 0.0014 - val_mape: 50.6402 - val_mae: 0.0267 - val_r_square: 0.9786\n",
      "Epoch 35/500\n",
      "8550/8550 - 46s - loss: 0.0022 - mape: 57.0161 - mae: 0.0340 - r_square: 0.9660 - val_loss: 0.0014 - val_mape: 51.0421 - val_mae: 0.0262 - val_r_square: 0.9793\n",
      "Epoch 36/500\n",
      "8550/8550 - 46s - loss: 0.0021 - mape: 56.8274 - mae: 0.0332 - r_square: 0.9665 - val_loss: 0.0013 - val_mape: 50.6241 - val_mae: 0.0258 - val_r_square: 0.9802\n",
      "Epoch 37/500\n",
      "8550/8550 - 46s - loss: 0.0021 - mape: 56.5528 - mae: 0.0331 - r_square: 0.9672 - val_loss: 0.0013 - val_mape: 50.5585 - val_mae: 0.0257 - val_r_square: 0.9806\n",
      "Epoch 38/500\n",
      "8550/8550 - 46s - loss: 0.0021 - mape: 56.4977 - mae: 0.0329 - r_square: 0.9680 - val_loss: 0.0012 - val_mape: 50.3167 - val_mae: 0.0252 - val_r_square: 0.9813\n",
      "Epoch 39/500\n",
      "8550/8550 - 46s - loss: 0.0020 - mape: 56.2313 - mae: 0.0321 - r_square: 0.9696 - val_loss: 0.0012 - val_mape: 49.8408 - val_mae: 0.0252 - val_r_square: 0.9817\n",
      "Epoch 40/500\n",
      "8550/8550 - 46s - loss: 0.0019 - mape: 56.0111 - mae: 0.0320 - r_square: 0.9699 - val_loss: 0.0012 - val_mape: 51.0604 - val_mae: 0.0249 - val_r_square: 0.9821\n",
      "Epoch 41/500\n",
      "8550/8550 - 46s - loss: 0.0019 - mape: 55.8909 - mae: 0.0315 - r_square: 0.9705 - val_loss: 0.0011 - val_mape: 49.9087 - val_mae: 0.0243 - val_r_square: 0.9830\n",
      "Epoch 42/500\n",
      "8550/8550 - 46s - loss: 0.0018 - mape: 55.6779 - mae: 0.0313 - r_square: 0.9718 - val_loss: 0.0011 - val_mape: 47.4692 - val_mae: 0.0245 - val_r_square: 0.9828\n",
      "Epoch 43/500\n",
      "8550/8550 - 46s - loss: 0.0018 - mape: 55.2156 - mae: 0.0309 - r_square: 0.9720 - val_loss: 0.0011 - val_mape: 49.1019 - val_mae: 0.0244 - val_r_square: 0.9828\n",
      "Epoch 44/500\n",
      "8550/8550 - 46s - loss: 0.0017 - mape: 54.9361 - mae: 0.0306 - r_square: 0.9733 - val_loss: 0.0010 - val_mape: 48.9813 - val_mae: 0.0231 - val_r_square: 0.9840\n",
      "Epoch 45/500\n",
      "8550/8550 - 46s - loss: 0.0017 - mape: 54.7856 - mae: 0.0306 - r_square: 0.9724 - val_loss: 0.0010 - val_mape: 48.4755 - val_mae: 0.0228 - val_r_square: 0.9845\n",
      "Epoch 46/500\n",
      "8550/8550 - 46s - loss: 0.0017 - mape: 54.4460 - mae: 0.0300 - r_square: 0.9742 - val_loss: 9.1859e-04 - val_mape: 47.6928 - val_mae: 0.0222 - val_r_square: 0.9858\n",
      "Epoch 47/500\n",
      "8550/8550 - 46s - loss: 0.0016 - mape: 54.0242 - mae: 0.0295 - r_square: 0.9755 - val_loss: 8.8732e-04 - val_mape: 48.4712 - val_mae: 0.0215 - val_r_square: 0.9863\n",
      "Epoch 48/500\n",
      "8550/8550 - 46s - loss: 0.0016 - mape: 53.7611 - mae: 0.0291 - r_square: 0.9753 - val_loss: 9.1533e-04 - val_mape: 48.0009 - val_mae: 0.0223 - val_r_square: 0.9858\n"
     ]
    },
    {
     "name": "stdout",
     "output_type": "stream",
     "text": [
      "Epoch 49/500\n",
      "8550/8550 - 46s - loss: 0.0015 - mape: 53.2752 - mae: 0.0292 - r_square: 0.9757 - val_loss: 9.1808e-04 - val_mape: 49.4944 - val_mae: 0.0222 - val_r_square: 0.9857\n",
      "Epoch 50/500\n",
      "8550/8550 - 46s - loss: 0.0015 - mape: 53.5358 - mae: 0.0289 - r_square: 0.9765 - val_loss: 8.4456e-04 - val_mape: 47.6696 - val_mae: 0.0213 - val_r_square: 0.9869\n",
      "Epoch 51/500\n",
      "8550/8550 - 46s - loss: 0.0014 - mape: 52.8854 - mae: 0.0282 - r_square: 0.9780 - val_loss: 8.3189e-04 - val_mape: 45.7013 - val_mae: 0.0210 - val_r_square: 0.9871\n",
      "Epoch 52/500\n",
      "8550/8550 - 46s - loss: 0.0014 - mape: 52.4313 - mae: 0.0281 - r_square: 0.9775 - val_loss: 7.8569e-04 - val_mape: 49.2303 - val_mae: 0.0204 - val_r_square: 0.9879\n",
      "Epoch 53/500\n",
      "8550/8550 - 46s - loss: 0.0014 - mape: 51.7267 - mae: 0.0278 - r_square: 0.9782 - val_loss: 8.0117e-04 - val_mape: 47.3660 - val_mae: 0.0205 - val_r_square: 0.9876\n",
      "Epoch 54/500\n",
      "8550/8550 - 46s - loss: 0.0013 - mape: 51.0567 - mae: 0.0271 - r_square: 0.9792 - val_loss: 7.4810e-04 - val_mape: 47.0428 - val_mae: 0.0199 - val_r_square: 0.9883\n",
      "Epoch 55/500\n",
      "8550/8550 - 46s - loss: 0.0013 - mape: 51.3963 - mae: 0.0271 - r_square: 0.9794 - val_loss: 7.3109e-04 - val_mape: 47.4131 - val_mae: 0.0195 - val_r_square: 0.9886\n",
      "Epoch 56/500\n",
      "8550/8550 - 46s - loss: 0.0013 - mape: 51.1996 - mae: 0.0269 - r_square: 0.9796 - val_loss: 7.6303e-04 - val_mape: 45.3661 - val_mae: 0.0203 - val_r_square: 0.9882\n",
      "Epoch 57/500\n",
      "8550/8550 - 46s - loss: 0.0013 - mape: 50.4799 - mae: 0.0269 - r_square: 0.9791 - val_loss: 7.1624e-04 - val_mape: 44.2892 - val_mae: 0.0199 - val_r_square: 0.9889\n",
      "Epoch 58/500\n",
      "8550/8550 - 46s - loss: 0.0012 - mape: 49.2703 - mae: 0.0261 - r_square: 0.9805 - val_loss: 7.1521e-04 - val_mape: 46.2607 - val_mae: 0.0197 - val_r_square: 0.9889\n",
      "Epoch 59/500\n",
      "8550/8550 - 46s - loss: 0.0012 - mape: 49.0485 - mae: 0.0258 - r_square: 0.9814 - val_loss: 6.7781e-04 - val_mape: 44.4330 - val_mae: 0.0189 - val_r_square: 0.9896\n",
      "Epoch 60/500\n",
      "8550/8550 - 46s - loss: 0.0012 - mape: 48.9897 - mae: 0.0256 - r_square: 0.9812 - val_loss: 6.4747e-04 - val_mape: 42.2441 - val_mae: 0.0183 - val_r_square: 0.9900\n",
      "Epoch 61/500\n",
      "8550/8550 - 46s - loss: 0.0012 - mape: 47.7337 - mae: 0.0253 - r_square: 0.9815 - val_loss: 6.1850e-04 - val_mape: 40.9532 - val_mae: 0.0174 - val_r_square: 0.9904\n",
      "Epoch 62/500\n",
      "8550/8550 - 46s - loss: 0.0011 - mape: 47.4543 - mae: 0.0250 - r_square: 0.9823 - val_loss: 6.3261e-04 - val_mape: 41.8448 - val_mae: 0.0183 - val_r_square: 0.9902\n",
      "Epoch 63/500\n",
      "8550/8550 - 46s - loss: 0.0011 - mape: 46.6856 - mae: 0.0247 - r_square: 0.9827 - val_loss: 6.1089e-04 - val_mape: 41.7151 - val_mae: 0.0178 - val_r_square: 0.9906\n",
      "Epoch 64/500\n",
      "8550/8550 - 46s - loss: 0.0011 - mape: 46.2159 - mae: 0.0244 - r_square: 0.9829 - val_loss: 6.1640e-04 - val_mape: 39.0598 - val_mae: 0.0175 - val_r_square: 0.9905\n",
      "Epoch 65/500\n",
      "8550/8550 - 46s - loss: 0.0011 - mape: 45.7943 - mae: 0.0245 - r_square: 0.9828 - val_loss: 6.0650e-04 - val_mape: 39.2425 - val_mae: 0.0176 - val_r_square: 0.9908\n",
      "Epoch 66/500\n",
      "8550/8550 - 46s - loss: 0.0011 - mape: 45.5360 - mae: 0.0240 - r_square: 0.9835 - val_loss: 5.6472e-04 - val_mape: 39.2207 - val_mae: 0.0169 - val_r_square: 0.9914\n",
      "Epoch 67/500\n",
      "8550/8550 - 46s - loss: 0.0010 - mape: 44.8331 - mae: 0.0239 - r_square: 0.9838 - val_loss: 4.9398e-04 - val_mape: 39.4762 - val_mae: 0.0159 - val_r_square: 0.9924\n",
      "Epoch 68/500\n",
      "8550/8550 - 46s - loss: 0.0010 - mape: 44.3655 - mae: 0.0236 - r_square: 0.9844 - val_loss: 5.0030e-04 - val_mape: 38.6266 - val_mae: 0.0160 - val_r_square: 0.9923\n",
      "Epoch 69/500\n",
      "8550/8550 - 46s - loss: 0.0010 - mape: 43.7773 - mae: 0.0236 - r_square: 0.9843 - val_loss: 5.1369e-04 - val_mape: 38.4379 - val_mae: 0.0164 - val_r_square: 0.9920\n",
      "Epoch 70/500\n",
      "8550/8550 - 46s - loss: 9.9177e-04 - mape: 43.0789 - mae: 0.0231 - r_square: 0.9843 - val_loss: 4.8768e-04 - val_mape: 36.5326 - val_mae: 0.0163 - val_r_square: 0.9925\n",
      "Epoch 71/500\n",
      "8550/8550 - 46s - loss: 9.8091e-04 - mape: 42.9692 - mae: 0.0231 - r_square: 0.9848 - val_loss: 4.9619e-04 - val_mape: 36.8133 - val_mae: 0.0161 - val_r_square: 0.9924\n",
      "Epoch 72/500\n",
      "8550/8550 - 46s - loss: 9.4575e-04 - mape: 42.1437 - mae: 0.0227 - r_square: 0.9853 - val_loss: 4.6501e-04 - val_mape: 36.4069 - val_mae: 0.0152 - val_r_square: 0.9929\n",
      "Epoch 73/500\n",
      "8550/8550 - 47s - loss: 9.2061e-04 - mape: 42.1263 - mae: 0.0225 - r_square: 0.9855 - val_loss: 4.3766e-04 - val_mape: 35.4312 - val_mae: 0.0151 - val_r_square: 0.9933\n",
      "Epoch 74/500\n",
      "8550/8550 - 47s - loss: 9.0860e-04 - mape: 41.5952 - mae: 0.0223 - r_square: 0.9861 - val_loss: 4.3983e-04 - val_mape: 36.9474 - val_mae: 0.0153 - val_r_square: 0.9932\n",
      "Epoch 75/500\n",
      "8550/8550 - 46s - loss: 9.5832e-04 - mape: 41.7437 - mae: 0.0225 - r_square: 0.9853 - val_loss: 4.5209e-04 - val_mape: 34.7780 - val_mae: 0.0148 - val_r_square: 0.9931\n",
      "Epoch 76/500\n",
      "8550/8550 - 46s - loss: 8.8992e-04 - mape: 40.7725 - mae: 0.0220 - r_square: 0.9863 - val_loss: 4.8624e-04 - val_mape: 34.9065 - val_mae: 0.0161 - val_r_square: 0.9924\n",
      "Epoch 77/500\n",
      "8550/8550 - 46s - loss: 8.6531e-04 - mape: 40.5704 - mae: 0.0218 - r_square: 0.9864 - val_loss: 4.4008e-04 - val_mape: 35.8340 - val_mae: 0.0149 - val_r_square: 0.9933\n",
      "Epoch 78/500\n",
      "8550/8550 - 46s - loss: 9.0615e-04 - mape: 40.3300 - mae: 0.0221 - r_square: 0.9859 - val_loss: 4.3110e-04 - val_mape: 32.9184 - val_mae: 0.0153 - val_r_square: 0.9935\n",
      "Epoch 79/500\n",
      "8550/8550 - 46s - loss: 8.4180e-04 - mape: 40.1215 - mae: 0.0215 - r_square: 0.9870 - val_loss: 4.0783e-04 - val_mape: 32.7253 - val_mae: 0.0148 - val_r_square: 0.9936\n",
      "Epoch 80/500\n",
      "8550/8550 - 46s - loss: 8.5528e-04 - mape: 39.9056 - mae: 0.0215 - r_square: 0.9868 - val_loss: 3.6979e-04 - val_mape: 31.3328 - val_mae: 0.0136 - val_r_square: 0.9943\n",
      "Epoch 81/500\n",
      "8550/8550 - 46s - loss: 8.4291e-04 - mape: 39.7458 - mae: 0.0214 - r_square: 0.9870 - val_loss: 3.8311e-04 - val_mape: 32.7982 - val_mae: 0.0142 - val_r_square: 0.9941\n",
      "Epoch 82/500\n",
      "8550/8550 - 46s - loss: 8.3310e-04 - mape: 39.6441 - mae: 0.0212 - r_square: 0.9871 - val_loss: 3.9446e-04 - val_mape: 31.6621 - val_mae: 0.0144 - val_r_square: 0.9939\n",
      "Epoch 83/500\n",
      "8550/8550 - 46s - loss: 8.3005e-04 - mape: 38.6686 - mae: 0.0212 - r_square: 0.9873 - val_loss: 3.8000e-04 - val_mape: 33.5006 - val_mae: 0.0138 - val_r_square: 0.9942\n",
      "Epoch 84/500\n",
      "8550/8550 - 46s - loss: 8.1804e-04 - mape: 38.8652 - mae: 0.0211 - r_square: 0.9874 - val_loss: 3.5169e-04 - val_mape: 32.8999 - val_mae: 0.0133 - val_r_square: 0.9946\n",
      "Epoch 85/500\n",
      "8550/8550 - 46s - loss: 8.1828e-04 - mape: 38.7026 - mae: 0.0210 - r_square: 0.9873 - val_loss: 3.8477e-04 - val_mape: 32.7075 - val_mae: 0.0139 - val_r_square: 0.9942\n",
      "Epoch 86/500\n",
      "8550/8550 - 46s - loss: 7.9227e-04 - mape: 38.4338 - mae: 0.0206 - r_square: 0.9876 - val_loss: 3.4369e-04 - val_mape: 32.3046 - val_mae: 0.0134 - val_r_square: 0.9947\n",
      "Epoch 87/500\n",
      "8550/8550 - 46s - loss: 7.9666e-04 - mape: 38.0188 - mae: 0.0207 - r_square: 0.9876 - val_loss: 3.5798e-04 - val_mape: 31.0557 - val_mae: 0.0136 - val_r_square: 0.9945\n",
      "Epoch 88/500\n",
      "8550/8550 - 46s - loss: 7.6913e-04 - mape: 37.3844 - mae: 0.0203 - r_square: 0.9880 - val_loss: 3.7714e-04 - val_mape: 34.0885 - val_mae: 0.0140 - val_r_square: 0.9942\n",
      "Epoch 89/500\n",
      "8550/8550 - 46s - loss: 7.5521e-04 - mape: 37.3638 - mae: 0.0202 - r_square: 0.9885 - val_loss: 3.6186e-04 - val_mape: 32.6298 - val_mae: 0.0136 - val_r_square: 0.9945\n",
      "Epoch 90/500\n",
      "8550/8550 - 46s - loss: 7.7944e-04 - mape: 37.2552 - mae: 0.0204 - r_square: 0.9878 - val_loss: 3.6888e-04 - val_mape: 31.8437 - val_mae: 0.0134 - val_r_square: 0.9944\n",
      "Epoch 91/500\n",
      "8550/8550 - 46s - loss: 7.4446e-04 - mape: 37.4003 - mae: 0.0201 - r_square: 0.9883 - val_loss: 3.8266e-04 - val_mape: 31.1799 - val_mae: 0.0139 - val_r_square: 0.9941\n",
      "Epoch 92/500\n",
      "8550/8550 - 46s - loss: 7.4091e-04 - mape: 37.1550 - mae: 0.0202 - r_square: 0.9885 - val_loss: 3.4713e-04 - val_mape: 32.5451 - val_mae: 0.0132 - val_r_square: 0.9947\n",
      "Epoch 93/500\n",
      "8550/8550 - 46s - loss: 7.4120e-04 - mape: 36.8432 - mae: 0.0199 - r_square: 0.9884 - val_loss: 3.4670e-04 - val_mape: 31.8711 - val_mae: 0.0133 - val_r_square: 0.9947\n",
      "Epoch 94/500\n",
      "8550/8550 - 46s - loss: 7.3060e-04 - mape: 36.7179 - mae: 0.0198 - r_square: 0.9881 - val_loss: 3.1355e-04 - val_mape: 30.1466 - val_mae: 0.0126 - val_r_square: 0.9952\n"
     ]
    },
    {
     "name": "stdout",
     "output_type": "stream",
     "text": [
      "Epoch 95/500\n",
      "8550/8550 - 46s - loss: 7.1780e-04 - mape: 36.2706 - mae: 0.0197 - r_square: 0.9889 - val_loss: 3.6084e-04 - val_mape: 31.0857 - val_mae: 0.0141 - val_r_square: 0.9945\n",
      "Epoch 96/500\n",
      "8550/8550 - 46s - loss: 7.5312e-04 - mape: 36.2909 - mae: 0.0199 - r_square: 0.9883 - val_loss: 3.2454e-04 - val_mape: 30.8363 - val_mae: 0.0128 - val_r_square: 0.9950\n",
      "Epoch 97/500\n",
      "8550/8550 - 46s - loss: 7.2311e-04 - mape: 35.9779 - mae: 0.0197 - r_square: 0.9889 - val_loss: 3.1280e-04 - val_mape: 30.7254 - val_mae: 0.0128 - val_r_square: 0.9952\n",
      "Epoch 98/500\n",
      "8550/8550 - 46s - loss: 7.0453e-04 - mape: 35.9960 - mae: 0.0195 - r_square: 0.9891 - val_loss: 3.1691e-04 - val_mape: 29.0534 - val_mae: 0.0129 - val_r_square: 0.9952\n",
      "Epoch 99/500\n",
      "8550/8550 - 46s - loss: 7.3031e-04 - mape: 35.5550 - mae: 0.0197 - r_square: 0.9887 - val_loss: 3.1532e-04 - val_mape: 30.1858 - val_mae: 0.0128 - val_r_square: 0.9952\n",
      "Epoch 100/500\n",
      "8550/8550 - 46s - loss: 7.1583e-04 - mape: 35.7103 - mae: 0.0195 - r_square: 0.9889 - val_loss: 3.4008e-04 - val_mape: 28.4698 - val_mae: 0.0130 - val_r_square: 0.9948\n",
      "Epoch 101/500\n",
      "8550/8550 - 46s - loss: 6.7962e-04 - mape: 35.0763 - mae: 0.0191 - r_square: 0.9895 - val_loss: 2.9729e-04 - val_mape: 29.0536 - val_mae: 0.0123 - val_r_square: 0.9955\n",
      "Epoch 102/500\n",
      "8550/8550 - 46s - loss: 7.1264e-04 - mape: 35.7076 - mae: 0.0193 - r_square: 0.9891 - val_loss: 2.9461e-04 - val_mape: 29.8390 - val_mae: 0.0124 - val_r_square: 0.9955\n",
      "Epoch 103/500\n",
      "8550/8550 - 46s - loss: 6.5721e-04 - mape: 34.8698 - mae: 0.0189 - r_square: 0.9897 - val_loss: 3.0097e-04 - val_mape: 29.4951 - val_mae: 0.0123 - val_r_square: 0.9954\n",
      "Epoch 104/500\n",
      "8550/8550 - 46s - loss: 6.6842e-04 - mape: 35.0299 - mae: 0.0189 - r_square: 0.9895 - val_loss: 3.5186e-04 - val_mape: 27.1806 - val_mae: 0.0139 - val_r_square: 0.9947\n",
      "Epoch 105/500\n",
      "8550/8550 - 47s - loss: 7.1237e-04 - mape: 34.7334 - mae: 0.0193 - r_square: 0.9890 - val_loss: 3.2400e-04 - val_mape: 29.8670 - val_mae: 0.0129 - val_r_square: 0.9949\n",
      "Epoch 106/500\n",
      "8550/8550 - 46s - loss: 6.7171e-04 - mape: 34.7715 - mae: 0.0191 - r_square: 0.9896 - val_loss: 2.9527e-04 - val_mape: 29.5018 - val_mae: 0.0120 - val_r_square: 0.9955\n",
      "Epoch 107/500\n",
      "8550/8550 - 46s - loss: 6.8216e-04 - mape: 34.7944 - mae: 0.0193 - r_square: 0.9894 - val_loss: 2.8326e-04 - val_mape: 29.6693 - val_mae: 0.0122 - val_r_square: 0.9957\n",
      "Epoch 108/500\n",
      "8550/8550 - 46s - loss: 6.7086e-04 - mape: 34.2558 - mae: 0.0189 - r_square: 0.9897 - val_loss: 2.9140e-04 - val_mape: 30.9512 - val_mae: 0.0124 - val_r_square: 0.9955\n",
      "Epoch 109/500\n",
      "8550/8550 - 47s - loss: 6.7286e-04 - mape: 34.2096 - mae: 0.0189 - r_square: 0.9894 - val_loss: 3.1539e-04 - val_mape: 27.3577 - val_mae: 0.0130 - val_r_square: 0.9952\n",
      "Epoch 110/500\n",
      "8550/8550 - 47s - loss: 6.4563e-04 - mape: 34.2631 - mae: 0.0187 - r_square: 0.9900 - val_loss: 3.0723e-04 - val_mape: 29.2091 - val_mae: 0.0125 - val_r_square: 0.9953\n",
      "Epoch 111/500\n",
      "8550/8550 - 48s - loss: 6.6403e-04 - mape: 34.3809 - mae: 0.0188 - r_square: 0.9896 - val_loss: 2.9744e-04 - val_mape: 28.1015 - val_mae: 0.0124 - val_r_square: 0.9954\n",
      "Epoch 112/500\n",
      "8550/8550 - 48s - loss: 6.3886e-04 - mape: 34.0502 - mae: 0.0186 - r_square: 0.9899 - val_loss: 2.9890e-04 - val_mape: 27.5885 - val_mae: 0.0125 - val_r_square: 0.9955\n",
      "Epoch 113/500\n",
      "8550/8550 - 48s - loss: 6.4386e-04 - mape: 33.8108 - mae: 0.0186 - r_square: 0.9900 - val_loss: 2.9527e-04 - val_mape: 27.5741 - val_mae: 0.0120 - val_r_square: 0.9956\n",
      "Epoch 114/500\n",
      "8550/8550 - 46s - loss: 6.6284e-04 - mape: 33.7830 - mae: 0.0188 - r_square: 0.9896 - val_loss: 2.7954e-04 - val_mape: 28.5541 - val_mae: 0.0119 - val_r_square: 0.9957\n",
      "Epoch 115/500\n",
      "8550/8550 - 47s - loss: 6.3388e-04 - mape: 33.8613 - mae: 0.0185 - r_square: 0.9902 - val_loss: 2.5954e-04 - val_mape: 27.9984 - val_mae: 0.0115 - val_r_square: 0.9960\n",
      "Epoch 116/500\n",
      "8550/8550 - 47s - loss: 6.2300e-04 - mape: 33.4260 - mae: 0.0184 - r_square: 0.9903 - val_loss: 2.7620e-04 - val_mape: 28.3008 - val_mae: 0.0120 - val_r_square: 0.9957\n",
      "Epoch 117/500\n",
      "8550/8550 - 49s - loss: 6.2539e-04 - mape: 32.7175 - mae: 0.0183 - r_square: 0.9903 - val_loss: 2.4484e-04 - val_mape: 25.8092 - val_mae: 0.0114 - val_r_square: 0.9962\n",
      "Epoch 118/500\n",
      "8550/8550 - 48s - loss: 6.1136e-04 - mape: 33.1990 - mae: 0.0182 - r_square: 0.9905 - val_loss: 2.6799e-04 - val_mape: 27.9413 - val_mae: 0.0119 - val_r_square: 0.9959\n",
      "Epoch 119/500\n",
      "8550/8550 - 47s - loss: 6.3036e-04 - mape: 33.6452 - mae: 0.0183 - r_square: 0.9902 - val_loss: 2.7107e-04 - val_mape: 25.6803 - val_mae: 0.0119 - val_r_square: 0.9958\n",
      "Epoch 120/500\n",
      "8550/8550 - 47s - loss: 6.3477e-04 - mape: 33.2892 - mae: 0.0184 - r_square: 0.9900 - val_loss: 2.6809e-04 - val_mape: 26.1468 - val_mae: 0.0120 - val_r_square: 0.9958\n",
      "Epoch 121/500\n",
      "8550/8550 - 47s - loss: 5.9833e-04 - mape: 32.7214 - mae: 0.0180 - r_square: 0.9906 - val_loss: 2.5357e-04 - val_mape: 26.4714 - val_mae: 0.0116 - val_r_square: 0.9961\n",
      "Epoch 122/500\n",
      "8550/8550 - 46s - loss: 6.2377e-04 - mape: 32.9596 - mae: 0.0182 - r_square: 0.9903 - val_loss: 2.7103e-04 - val_mape: 27.4071 - val_mae: 0.0121 - val_r_square: 0.9959\n",
      "Epoch 123/500\n",
      "8550/8550 - 46s - loss: 6.0221e-04 - mape: 32.8669 - mae: 0.0180 - r_square: 0.9906 - val_loss: 2.5103e-04 - val_mape: 26.2057 - val_mae: 0.0114 - val_r_square: 0.9961\n",
      "Epoch 124/500\n",
      "8550/8550 - 46s - loss: 6.0243e-04 - mape: 32.1226 - mae: 0.0180 - r_square: 0.9905 - val_loss: 2.3473e-04 - val_mape: 26.1696 - val_mae: 0.0110 - val_r_square: 0.9964\n",
      "Epoch 125/500\n",
      "8550/8550 - 46s - loss: 6.0227e-04 - mape: 32.8145 - mae: 0.0180 - r_square: 0.9906 - val_loss: 2.5318e-04 - val_mape: 27.6718 - val_mae: 0.0116 - val_r_square: 0.9961\n",
      "Epoch 126/500\n",
      "8550/8550 - 46s - loss: 6.1443e-04 - mape: 32.6621 - mae: 0.0181 - r_square: 0.9904 - val_loss: 2.7214e-04 - val_mape: 26.3806 - val_mae: 0.0123 - val_r_square: 0.9958\n",
      "Epoch 127/500\n",
      "8550/8550 - 46s - loss: 5.8934e-04 - mape: 32.2090 - mae: 0.0179 - r_square: 0.9909 - val_loss: 2.3509e-04 - val_mape: 26.4054 - val_mae: 0.0111 - val_r_square: 0.9964\n",
      "Epoch 128/500\n",
      "8550/8550 - 46s - loss: 5.8799e-04 - mape: 32.2616 - mae: 0.0179 - r_square: 0.9908 - val_loss: 2.4007e-04 - val_mape: 25.2504 - val_mae: 0.0109 - val_r_square: 0.9963\n",
      "Epoch 129/500\n",
      "8550/8550 - 46s - loss: 5.8753e-04 - mape: 32.0896 - mae: 0.0178 - r_square: 0.9907 - val_loss: 2.4278e-04 - val_mape: 24.9397 - val_mae: 0.0112 - val_r_square: 0.9963\n",
      "Epoch 130/500\n",
      "8550/8550 - 46s - loss: 6.0107e-04 - mape: 32.1926 - mae: 0.0180 - r_square: 0.9907 - val_loss: 2.4571e-04 - val_mape: 27.4165 - val_mae: 0.0112 - val_r_square: 0.9963\n",
      "Epoch 131/500\n",
      "8550/8550 - 46s - loss: 5.7587e-04 - mape: 31.6628 - mae: 0.0177 - r_square: 0.9910 - val_loss: 2.4117e-04 - val_mape: 27.3150 - val_mae: 0.0113 - val_r_square: 0.9963\n",
      "Epoch 132/500\n",
      "8550/8550 - 47s - loss: 5.8631e-04 - mape: 31.6173 - mae: 0.0177 - r_square: 0.9908 - val_loss: 2.3024e-04 - val_mape: 26.6367 - val_mae: 0.0110 - val_r_square: 0.9964\n",
      "Epoch 133/500\n",
      "8550/8550 - 46s - loss: 6.1015e-04 - mape: 31.9735 - mae: 0.0180 - r_square: 0.9904 - val_loss: 2.3761e-04 - val_mape: 26.6138 - val_mae: 0.0112 - val_r_square: 0.9963\n",
      "Epoch 134/500\n",
      "8550/8550 - 46s - loss: 5.8094e-04 - mape: 31.5915 - mae: 0.0176 - r_square: 0.9909 - val_loss: 2.6961e-04 - val_mape: 25.6827 - val_mae: 0.0122 - val_r_square: 0.9959\n",
      "Epoch 135/500\n",
      "8550/8550 - 46s - loss: 5.8304e-04 - mape: 31.3926 - mae: 0.0177 - r_square: 0.9909 - val_loss: 2.3598e-04 - val_mape: 26.8476 - val_mae: 0.0112 - val_r_square: 0.9963\n",
      "Epoch 136/500\n",
      "8550/8550 - 46s - loss: 5.7650e-04 - mape: 31.1846 - mae: 0.0175 - r_square: 0.9909 - val_loss: 2.4603e-04 - val_mape: 25.6444 - val_mae: 0.0111 - val_r_square: 0.9962\n",
      "Epoch 137/500\n",
      "8550/8550 - 46s - loss: 5.6192e-04 - mape: 30.8420 - mae: 0.0174 - r_square: 0.9912 - val_loss: 2.3733e-04 - val_mape: 26.6656 - val_mae: 0.0113 - val_r_square: 0.9964\n",
      "Epoch 138/500\n",
      "8550/8550 - 46s - loss: 5.6167e-04 - mape: 31.0034 - mae: 0.0174 - r_square: 0.9912 - val_loss: 2.3170e-04 - val_mape: 24.8547 - val_mae: 0.0111 - val_r_square: 0.9964\n",
      "Epoch 139/500\n",
      "8550/8550 - 46s - loss: 5.6174e-04 - mape: 30.8760 - mae: 0.0174 - r_square: 0.9911 - val_loss: 2.2787e-04 - val_mape: 25.0426 - val_mae: 0.0112 - val_r_square: 0.9965\n",
      "Epoch 140/500\n"
     ]
    },
    {
     "name": "stdout",
     "output_type": "stream",
     "text": [
      "8550/8550 - 46s - loss: 5.7230e-04 - mape: 30.3721 - mae: 0.0174 - r_square: 0.9911 - val_loss: 2.1713e-04 - val_mape: 25.0166 - val_mae: 0.0105 - val_r_square: 0.9967\n",
      "Epoch 141/500\n",
      "8550/8550 - 46s - loss: 5.6311e-04 - mape: 30.9393 - mae: 0.0174 - r_square: 0.9912 - val_loss: 2.2003e-04 - val_mape: 24.8356 - val_mae: 0.0106 - val_r_square: 0.9966\n",
      "Epoch 142/500\n",
      "8550/8550 - 46s - loss: 5.6951e-04 - mape: 30.8986 - mae: 0.0173 - r_square: 0.9912 - val_loss: 2.1301e-04 - val_mape: 26.1082 - val_mae: 0.0103 - val_r_square: 0.9968\n",
      "Epoch 143/500\n",
      "8550/8550 - 46s - loss: 5.6314e-04 - mape: 30.6730 - mae: 0.0173 - r_square: 0.9912 - val_loss: 2.2524e-04 - val_mape: 25.5811 - val_mae: 0.0108 - val_r_square: 0.9965\n",
      "Epoch 144/500\n",
      "8550/8550 - 46s - loss: 5.3619e-04 - mape: 30.1467 - mae: 0.0170 - r_square: 0.9917 - val_loss: 2.3050e-04 - val_mape: 23.9256 - val_mae: 0.0111 - val_r_square: 0.9965\n",
      "Epoch 145/500\n",
      "8550/8550 - 46s - loss: 5.4384e-04 - mape: 30.6903 - mae: 0.0172 - r_square: 0.9915 - val_loss: 2.4247e-04 - val_mape: 26.1845 - val_mae: 0.0113 - val_r_square: 0.9962\n",
      "Epoch 146/500\n",
      "8550/8550 - 47s - loss: 5.5320e-04 - mape: 30.5871 - mae: 0.0172 - r_square: 0.9913 - val_loss: 2.1716e-04 - val_mape: 25.9550 - val_mae: 0.0106 - val_r_square: 0.9966\n",
      "Epoch 147/500\n",
      "8550/8550 - 47s - loss: 5.4807e-04 - mape: 30.2120 - mae: 0.0172 - r_square: 0.9915 - val_loss: 2.1530e-04 - val_mape: 24.8835 - val_mae: 0.0106 - val_r_square: 0.9967\n",
      "Epoch 148/500\n",
      "8550/8550 - 47s - loss: 5.3672e-04 - mape: 30.3064 - mae: 0.0170 - r_square: 0.9916 - val_loss: 2.2743e-04 - val_mape: 26.3378 - val_mae: 0.0109 - val_r_square: 0.9965\n",
      "Epoch 149/500\n",
      "8550/8550 - 46s - loss: 5.3205e-04 - mape: 29.9948 - mae: 0.0168 - r_square: 0.9917 - val_loss: 2.1514e-04 - val_mape: 26.4196 - val_mae: 0.0107 - val_r_square: 0.9967\n",
      "Epoch 150/500\n",
      "8550/8550 - 47s - loss: 5.4239e-04 - mape: 30.4171 - mae: 0.0171 - r_square: 0.9915 - val_loss: 2.2419e-04 - val_mape: 24.3152 - val_mae: 0.0110 - val_r_square: 0.9966\n",
      "Epoch 151/500\n",
      "8550/8550 - 46s - loss: 5.3854e-04 - mape: 30.4232 - mae: 0.0169 - r_square: 0.9916 - val_loss: 1.9863e-04 - val_mape: 24.6038 - val_mae: 0.0102 - val_r_square: 0.9969\n",
      "Epoch 152/500\n",
      "8550/8550 - 47s - loss: 5.4393e-04 - mape: 29.7395 - mae: 0.0170 - r_square: 0.9915 - val_loss: 1.9677e-04 - val_mape: 23.3869 - val_mae: 0.0104 - val_r_square: 0.9969\n",
      "Epoch 153/500\n",
      "8550/8550 - 46s - loss: 5.2862e-04 - mape: 29.5466 - mae: 0.0168 - r_square: 0.9918 - val_loss: 1.9921e-04 - val_mape: 24.7209 - val_mae: 0.0102 - val_r_square: 0.9969\n",
      "Epoch 154/500\n",
      "8550/8550 - 46s - loss: 5.3089e-04 - mape: 29.8100 - mae: 0.0168 - r_square: 0.9917 - val_loss: 2.2486e-04 - val_mape: 25.6519 - val_mae: 0.0111 - val_r_square: 0.9966\n",
      "Epoch 155/500\n",
      "8550/8550 - 46s - loss: 5.3068e-04 - mape: 29.5774 - mae: 0.0169 - r_square: 0.9917 - val_loss: 2.0028e-04 - val_mape: 24.4460 - val_mae: 0.0103 - val_r_square: 0.9969\n",
      "Epoch 156/500\n",
      "8550/8550 - 47s - loss: 5.3344e-04 - mape: 29.5651 - mae: 0.0169 - r_square: 0.9916 - val_loss: 1.9521e-04 - val_mape: 23.5771 - val_mae: 0.0102 - val_r_square: 0.9970\n",
      "Epoch 157/500\n",
      "8550/8550 - 47s - loss: 5.3097e-04 - mape: 29.4601 - mae: 0.0168 - r_square: 0.9917 - val_loss: 2.0096e-04 - val_mape: 23.9225 - val_mae: 0.0104 - val_r_square: 0.9969\n",
      "Epoch 158/500\n",
      "8550/8550 - 46s - loss: 5.2805e-04 - mape: 29.1078 - mae: 0.0168 - r_square: 0.9918 - val_loss: 1.9177e-04 - val_mape: 24.9882 - val_mae: 0.0100 - val_r_square: 0.9970\n",
      "Epoch 159/500\n",
      "8550/8550 - 47s - loss: 5.2059e-04 - mape: 29.5074 - mae: 0.0167 - r_square: 0.9919 - val_loss: 2.0038e-04 - val_mape: 25.9229 - val_mae: 0.0105 - val_r_square: 0.9969\n",
      "Epoch 160/500\n",
      "8550/8550 - 47s - loss: 5.2059e-04 - mape: 29.1654 - mae: 0.0167 - r_square: 0.9919 - val_loss: 1.9158e-04 - val_mape: 23.9262 - val_mae: 0.0100 - val_r_square: 0.9971\n",
      "Epoch 161/500\n",
      "8550/8550 - 47s - loss: 5.0781e-04 - mape: 28.7693 - mae: 0.0165 - r_square: 0.9920 - val_loss: 1.9355e-04 - val_mape: 23.3571 - val_mae: 0.0100 - val_r_square: 0.9970\n",
      "Epoch 162/500\n",
      "8550/8550 - 46s - loss: 5.3081e-04 - mape: 29.0319 - mae: 0.0167 - r_square: 0.9917 - val_loss: 2.1193e-04 - val_mape: 23.8365 - val_mae: 0.0105 - val_r_square: 0.9967\n",
      "Epoch 163/500\n",
      "8550/8550 - 46s - loss: 5.2240e-04 - mape: 28.9096 - mae: 0.0167 - r_square: 0.9918 - val_loss: 2.1630e-04 - val_mape: 24.2375 - val_mae: 0.0107 - val_r_square: 0.9966\n",
      "Epoch 164/500\n",
      "8550/8550 - 46s - loss: 5.2729e-04 - mape: 29.1034 - mae: 0.0167 - r_square: 0.9918 - val_loss: 1.7448e-04 - val_mape: 23.3204 - val_mae: 0.0095 - val_r_square: 0.9973\n",
      "Epoch 165/500\n",
      "8550/8550 - 46s - loss: 5.1465e-04 - mape: 28.8080 - mae: 0.0166 - r_square: 0.9919 - val_loss: 1.8763e-04 - val_mape: 23.0657 - val_mae: 0.0100 - val_r_square: 0.9971\n",
      "Epoch 166/500\n",
      "8550/8550 - 46s - loss: 5.1386e-04 - mape: 28.7088 - mae: 0.0166 - r_square: 0.9921 - val_loss: 1.8981e-04 - val_mape: 24.2370 - val_mae: 0.0102 - val_r_square: 0.9971\n",
      "Epoch 167/500\n",
      "8550/8550 - 46s - loss: 4.9822e-04 - mape: 28.5407 - mae: 0.0163 - r_square: 0.9923 - val_loss: 1.8477e-04 - val_mape: 23.8459 - val_mae: 0.0097 - val_r_square: 0.9971\n",
      "Epoch 168/500\n",
      "8550/8550 - 46s - loss: 5.1388e-04 - mape: 28.6288 - mae: 0.0166 - r_square: 0.9920 - val_loss: 2.0708e-04 - val_mape: 23.4352 - val_mae: 0.0103 - val_r_square: 0.9968\n",
      "Epoch 169/500\n",
      "8550/8550 - 47s - loss: 5.1322e-04 - mape: 28.2741 - mae: 0.0165 - r_square: 0.9920 - val_loss: 2.0111e-04 - val_mape: 24.2973 - val_mae: 0.0105 - val_r_square: 0.9969\n",
      "Epoch 170/500\n",
      "8550/8550 - 47s - loss: 5.1727e-04 - mape: 28.8464 - mae: 0.0166 - r_square: 0.9918 - val_loss: 1.7814e-04 - val_mape: 22.1880 - val_mae: 0.0096 - val_r_square: 0.9972\n",
      "Epoch 171/500\n",
      "8550/8550 - 47s - loss: 5.0502e-04 - mape: 28.5349 - mae: 0.0164 - r_square: 0.9922 - val_loss: 1.7781e-04 - val_mape: 23.4172 - val_mae: 0.0097 - val_r_square: 0.9973\n",
      "Epoch 172/500\n",
      "8550/8550 - 47s - loss: 5.0911e-04 - mape: 28.7278 - mae: 0.0164 - r_square: 0.9920 - val_loss: 1.8810e-04 - val_mape: 23.6674 - val_mae: 0.0102 - val_r_square: 0.9971\n",
      "Epoch 173/500\n",
      "8550/8550 - 47s - loss: 4.8721e-04 - mape: 28.0772 - mae: 0.0162 - r_square: 0.9924 - val_loss: 1.6979e-04 - val_mape: 22.0667 - val_mae: 0.0094 - val_r_square: 0.9974\n",
      "Epoch 174/500\n",
      "8550/8550 - 47s - loss: 5.0945e-04 - mape: 28.7648 - mae: 0.0164 - r_square: 0.9919 - val_loss: 1.7476e-04 - val_mape: 22.0948 - val_mae: 0.0096 - val_r_square: 0.9973\n",
      "Epoch 175/500\n",
      "8550/8550 - 47s - loss: 4.9611e-04 - mape: 27.7608 - mae: 0.0162 - r_square: 0.9922 - val_loss: 2.1306e-04 - val_mape: 24.6005 - val_mae: 0.0108 - val_r_square: 0.9967\n",
      "Epoch 176/500\n",
      "8550/8550 - 46s - loss: 5.0034e-04 - mape: 28.4360 - mae: 0.0163 - r_square: 0.9922 - val_loss: 2.2078e-04 - val_mape: 23.8957 - val_mae: 0.0105 - val_r_square: 0.9966\n",
      "Epoch 177/500\n",
      "8550/8550 - 46s - loss: 4.8662e-04 - mape: 28.1791 - mae: 0.0161 - r_square: 0.9923 - val_loss: 1.8792e-04 - val_mape: 22.6672 - val_mae: 0.0101 - val_r_square: 0.9971\n",
      "Epoch 178/500\n",
      "8550/8550 - 46s - loss: 4.9742e-04 - mape: 28.1681 - mae: 0.0162 - r_square: 0.9921 - val_loss: 1.8231e-04 - val_mape: 23.0573 - val_mae: 0.0099 - val_r_square: 0.9971\n",
      "Epoch 179/500\n",
      "8550/8550 - 46s - loss: 4.8813e-04 - mape: 27.6290 - mae: 0.0162 - r_square: 0.9924 - val_loss: 1.7073e-04 - val_mape: 24.3784 - val_mae: 0.0096 - val_r_square: 0.9973\n",
      "Epoch 180/500\n",
      "8550/8550 - 46s - loss: 5.0144e-04 - mape: 28.1879 - mae: 0.0163 - r_square: 0.9920 - val_loss: 1.8043e-04 - val_mape: 21.1829 - val_mae: 0.0098 - val_r_square: 0.9972\n",
      "Epoch 181/500\n",
      "8550/8550 - 47s - loss: 5.0952e-04 - mape: 27.6428 - mae: 0.0163 - r_square: 0.9920 - val_loss: 1.8713e-04 - val_mape: 23.4815 - val_mae: 0.0100 - val_r_square: 0.9971\n",
      "Epoch 182/500\n",
      "8550/8550 - 47s - loss: 4.8227e-04 - mape: 27.8779 - mae: 0.0161 - r_square: 0.9924 - val_loss: 1.7803e-04 - val_mape: 21.1734 - val_mae: 0.0098 - val_r_square: 0.9973\n",
      "Epoch 183/500\n",
      "8550/8550 - 47s - loss: 4.9888e-04 - mape: 28.1186 - mae: 0.0164 - r_square: 0.9922 - val_loss: 1.6367e-04 - val_mape: 20.5045 - val_mae: 0.0091 - val_r_square: 0.9975\n",
      "Epoch 184/500\n",
      "8550/8550 - 46s - loss: 5.1152e-04 - mape: 27.5864 - mae: 0.0163 - r_square: 0.9920 - val_loss: 1.9314e-04 - val_mape: 25.7991 - val_mae: 0.0103 - val_r_square: 0.9970\n",
      "Epoch 185/500\n",
      "8550/8550 - 47s - loss: 5.1159e-04 - mape: 27.7649 - mae: 0.0164 - r_square: 0.9920 - val_loss: 1.6871e-04 - val_mape: 20.9490 - val_mae: 0.0093 - val_r_square: 0.9974\n"
     ]
    },
    {
     "name": "stdout",
     "output_type": "stream",
     "text": [
      "Epoch 186/500\n",
      "8550/8550 - 47s - loss: 4.7744e-04 - mape: 27.5278 - mae: 0.0160 - r_square: 0.9926 - val_loss: 1.7815e-04 - val_mape: 21.6964 - val_mae: 0.0097 - val_r_square: 0.9972\n",
      "Epoch 187/500\n",
      "8550/8550 - 46s - loss: 4.9606e-04 - mape: 27.7625 - mae: 0.0162 - r_square: 0.9922 - val_loss: 1.7259e-04 - val_mape: 21.1332 - val_mae: 0.0094 - val_r_square: 0.9973\n",
      "Epoch 188/500\n",
      "8550/8550 - 47s - loss: 4.7168e-04 - mape: 27.4042 - mae: 0.0158 - r_square: 0.9926 - val_loss: 1.6780e-04 - val_mape: 22.0654 - val_mae: 0.0096 - val_r_square: 0.9974\n",
      "Epoch 189/500\n",
      "8550/8550 - 48s - loss: 4.9357e-04 - mape: 27.3700 - mae: 0.0161 - r_square: 0.9923 - val_loss: 1.7576e-04 - val_mape: 20.5985 - val_mae: 0.0096 - val_r_square: 0.9972\n",
      "Epoch 190/500\n",
      "8550/8550 - 47s - loss: 4.7489e-04 - mape: 27.3258 - mae: 0.0159 - r_square: 0.9926 - val_loss: 1.6899e-04 - val_mape: 22.8428 - val_mae: 0.0096 - val_r_square: 0.9974\n",
      "Epoch 191/500\n",
      "8550/8550 - 47s - loss: 4.6974e-04 - mape: 26.8443 - mae: 0.0158 - r_square: 0.9927 - val_loss: 1.5538e-04 - val_mape: 21.3926 - val_mae: 0.0089 - val_r_square: 0.9976\n",
      "Epoch 192/500\n",
      "8550/8550 - 47s - loss: 4.8254e-04 - mape: 27.2907 - mae: 0.0159 - r_square: 0.9925 - val_loss: 1.5884e-04 - val_mape: 20.1207 - val_mae: 0.0091 - val_r_square: 0.9975\n",
      "Epoch 193/500\n",
      "8550/8550 - 48s - loss: 4.9708e-04 - mape: 27.0789 - mae: 0.0160 - r_square: 0.9923 - val_loss: 1.6367e-04 - val_mape: 21.1084 - val_mae: 0.0091 - val_r_square: 0.9975\n",
      "Epoch 194/500\n",
      "8550/8550 - 47s - loss: 4.8025e-04 - mape: 27.1042 - mae: 0.0159 - r_square: 0.9925 - val_loss: 1.6606e-04 - val_mape: 21.4526 - val_mae: 0.0093 - val_r_square: 0.9974\n",
      "Epoch 195/500\n",
      "8550/8550 - 48s - loss: 4.7915e-04 - mape: 26.8861 - mae: 0.0158 - r_square: 0.9923 - val_loss: 1.5712e-04 - val_mape: 22.7420 - val_mae: 0.0092 - val_r_square: 0.9976\n",
      "Epoch 196/500\n",
      "8550/8550 - 47s - loss: 4.7052e-04 - mape: 26.8885 - mae: 0.0157 - r_square: 0.9927 - val_loss: 1.7082e-04 - val_mape: 21.9519 - val_mae: 0.0094 - val_r_square: 0.9974\n",
      "Epoch 197/500\n",
      "8550/8550 - 46s - loss: 4.7645e-04 - mape: 26.9956 - mae: 0.0159 - r_square: 0.9924 - val_loss: 1.6139e-04 - val_mape: 19.2076 - val_mae: 0.0095 - val_r_square: 0.9975\n",
      "Epoch 198/500\n",
      "8550/8550 - 47s - loss: 4.9610e-04 - mape: 27.2395 - mae: 0.0160 - r_square: 0.9922 - val_loss: 1.5662e-04 - val_mape: 21.1426 - val_mae: 0.0090 - val_r_square: 0.9976\n",
      "Epoch 199/500\n",
      "8550/8550 - 46s - loss: 4.7518e-04 - mape: 26.1696 - mae: 0.0158 - r_square: 0.9926 - val_loss: 1.5056e-04 - val_mape: 21.7653 - val_mae: 0.0089 - val_r_square: 0.9976\n",
      "Epoch 200/500\n",
      "8550/8550 - 46s - loss: 4.5982e-04 - mape: 26.8465 - mae: 0.0157 - r_square: 0.9928 - val_loss: 1.5978e-04 - val_mape: 20.2365 - val_mae: 0.0092 - val_r_square: 0.9976\n",
      "Epoch 201/500\n",
      "8550/8550 - 47s - loss: 4.6716e-04 - mape: 26.7899 - mae: 0.0158 - r_square: 0.9927 - val_loss: 1.5377e-04 - val_mape: 20.5321 - val_mae: 0.0090 - val_r_square: 0.9976\n",
      "Epoch 202/500\n",
      "8550/8550 - 47s - loss: 4.6902e-04 - mape: 26.4793 - mae: 0.0157 - r_square: 0.9926 - val_loss: 1.7632e-04 - val_mape: 20.9188 - val_mae: 0.0099 - val_r_square: 0.9972\n",
      "Epoch 203/500\n",
      "8550/8550 - 48s - loss: 4.7770e-04 - mape: 26.5615 - mae: 0.0158 - r_square: 0.9924 - val_loss: 1.5364e-04 - val_mape: 21.1254 - val_mae: 0.0090 - val_r_square: 0.9976\n",
      "Epoch 204/500\n",
      "8550/8550 - 47s - loss: 4.6674e-04 - mape: 26.2682 - mae: 0.0157 - r_square: 0.9927 - val_loss: 1.4341e-04 - val_mape: 21.1375 - val_mae: 0.0087 - val_r_square: 0.9977\n",
      "Epoch 205/500\n",
      "8550/8550 - 47s - loss: 4.7952e-04 - mape: 26.1452 - mae: 0.0158 - r_square: 0.9925 - val_loss: 1.5999e-04 - val_mape: 19.3274 - val_mae: 0.0094 - val_r_square: 0.9975\n",
      "Epoch 206/500\n",
      "8550/8550 - 46s - loss: 4.7670e-04 - mape: 26.5426 - mae: 0.0158 - r_square: 0.9925 - val_loss: 1.6739e-04 - val_mape: 21.8942 - val_mae: 0.0096 - val_r_square: 0.9974\n",
      "Epoch 207/500\n",
      "8550/8550 - 48s - loss: 4.5291e-04 - mape: 26.1059 - mae: 0.0156 - r_square: 0.9929 - val_loss: 1.4689e-04 - val_mape: 19.7093 - val_mae: 0.0089 - val_r_square: 0.9977\n",
      "Epoch 208/500\n",
      "8550/8550 - 47s - loss: 4.7337e-04 - mape: 26.1691 - mae: 0.0157 - r_square: 0.9927 - val_loss: 1.4915e-04 - val_mape: 22.1925 - val_mae: 0.0089 - val_r_square: 0.9977\n",
      "Epoch 209/500\n",
      "8550/8550 - 47s - loss: 4.5854e-04 - mape: 26.5204 - mae: 0.0156 - r_square: 0.9928 - val_loss: 1.6251e-04 - val_mape: 20.2179 - val_mae: 0.0095 - val_r_square: 0.9975\n",
      "Epoch 210/500\n",
      "8550/8550 - 47s - loss: 4.7996e-04 - mape: 26.6633 - mae: 0.0159 - r_square: 0.9924 - val_loss: 1.4636e-04 - val_mape: 20.4934 - val_mae: 0.0089 - val_r_square: 0.9977\n",
      "Epoch 211/500\n",
      "8550/8550 - 48s - loss: 4.6036e-04 - mape: 26.4930 - mae: 0.0156 - r_square: 0.9928 - val_loss: 1.6224e-04 - val_mape: 20.8288 - val_mae: 0.0093 - val_r_square: 0.9975\n",
      "Epoch 212/500\n",
      "8550/8550 - 48s - loss: 4.6265e-04 - mape: 26.0846 - mae: 0.0156 - r_square: 0.9927 - val_loss: 1.4403e-04 - val_mape: 20.9511 - val_mae: 0.0088 - val_r_square: 0.9978\n",
      "Epoch 213/500\n",
      "8550/8550 - 46s - loss: 4.6830e-04 - mape: 25.8129 - mae: 0.0156 - r_square: 0.9926 - val_loss: 1.4720e-04 - val_mape: 19.4299 - val_mae: 0.0089 - val_r_square: 0.9977\n",
      "Epoch 214/500\n",
      "8550/8550 - 47s - loss: 4.4220e-04 - mape: 26.6106 - mae: 0.0153 - r_square: 0.9929 - val_loss: 1.5731e-04 - val_mape: 22.3314 - val_mae: 0.0091 - val_r_square: 0.9975\n",
      "Epoch 215/500\n",
      "8550/8550 - 46s - loss: 4.5351e-04 - mape: 26.0360 - mae: 0.0154 - r_square: 0.9930 - val_loss: 1.7244e-04 - val_mape: 18.3614 - val_mae: 0.0097 - val_r_square: 0.9973\n",
      "Epoch 216/500\n",
      "8550/8550 - 46s - loss: 4.4705e-04 - mape: 25.8018 - mae: 0.0154 - r_square: 0.9930 - val_loss: 1.4345e-04 - val_mape: 20.2752 - val_mae: 0.0087 - val_r_square: 0.9978\n",
      "Epoch 217/500\n",
      "8550/8550 - 46s - loss: 4.5242e-04 - mape: 26.1788 - mae: 0.0155 - r_square: 0.9930 - val_loss: 1.5190e-04 - val_mape: 20.7316 - val_mae: 0.0091 - val_r_square: 0.9977\n",
      "Epoch 218/500\n",
      "8550/8550 - 47s - loss: 4.4988e-04 - mape: 26.2425 - mae: 0.0154 - r_square: 0.9929 - val_loss: 1.3807e-04 - val_mape: 20.4482 - val_mae: 0.0085 - val_r_square: 0.9979\n",
      "Epoch 219/500\n",
      "8550/8550 - 47s - loss: 4.5827e-04 - mape: 25.9009 - mae: 0.0155 - r_square: 0.9928 - val_loss: 1.4397e-04 - val_mape: 21.0103 - val_mae: 0.0088 - val_r_square: 0.9978\n",
      "Epoch 220/500\n",
      "8550/8550 - 47s - loss: 4.7061e-04 - mape: 26.1719 - mae: 0.0156 - r_square: 0.9926 - val_loss: 1.4826e-04 - val_mape: 20.4341 - val_mae: 0.0089 - val_r_square: 0.9977\n",
      "Epoch 221/500\n",
      "8550/8550 - 47s - loss: 4.6834e-04 - mape: 26.0923 - mae: 0.0156 - r_square: 0.9927 - val_loss: 1.5385e-04 - val_mape: 20.9873 - val_mae: 0.0089 - val_r_square: 0.9976\n",
      "Epoch 222/500\n",
      "8550/8550 - 47s - loss: 4.5685e-04 - mape: 25.9549 - mae: 0.0154 - r_square: 0.9929 - val_loss: 1.3757e-04 - val_mape: 20.7068 - val_mae: 0.0086 - val_r_square: 0.9979\n",
      "Epoch 223/500\n",
      "8550/8550 - 47s - loss: 4.6038e-04 - mape: 26.2652 - mae: 0.0156 - r_square: 0.9928 - val_loss: 1.4991e-04 - val_mape: 19.4314 - val_mae: 0.0091 - val_r_square: 0.9977\n",
      "Epoch 224/500\n",
      "8550/8550 - 47s - loss: 4.5283e-04 - mape: 25.5156 - mae: 0.0154 - r_square: 0.9929 - val_loss: 1.3777e-04 - val_mape: 18.3771 - val_mae: 0.0084 - val_r_square: 0.9979\n",
      "Epoch 225/500\n",
      "8550/8550 - 47s - loss: 4.5305e-04 - mape: 25.8602 - mae: 0.0154 - r_square: 0.9929 - val_loss: 1.5395e-04 - val_mape: 20.5311 - val_mae: 0.0095 - val_r_square: 0.9976\n",
      "Epoch 226/500\n",
      "8550/8550 - 47s - loss: 4.5313e-04 - mape: 25.9945 - mae: 0.0154 - r_square: 0.9929 - val_loss: 1.4755e-04 - val_mape: 18.8817 - val_mae: 0.0090 - val_r_square: 0.9977\n",
      "Epoch 227/500\n",
      "8550/8550 - 47s - loss: 4.5699e-04 - mape: 25.7464 - mae: 0.0154 - r_square: 0.9929 - val_loss: 1.4041e-04 - val_mape: 19.2632 - val_mae: 0.0086 - val_r_square: 0.9978\n",
      "Epoch 228/500\n",
      "8550/8550 - 47s - loss: 4.6127e-04 - mape: 25.7129 - mae: 0.0154 - r_square: 0.9927 - val_loss: 1.4473e-04 - val_mape: 18.8280 - val_mae: 0.0087 - val_r_square: 0.9977\n",
      "Epoch 229/500\n",
      "8550/8550 - 47s - loss: 4.3950e-04 - mape: 25.5627 - mae: 0.0152 - r_square: 0.9930 - val_loss: 1.4116e-04 - val_mape: 19.8861 - val_mae: 0.0086 - val_r_square: 0.9978\n",
      "Epoch 230/500\n",
      "8550/8550 - 46s - loss: 4.4443e-04 - mape: 25.6781 - mae: 0.0152 - r_square: 0.9931 - val_loss: 1.5747e-04 - val_mape: 20.2563 - val_mae: 0.0093 - val_r_square: 0.9975\n",
      "Epoch 231/500\n"
     ]
    },
    {
     "name": "stdout",
     "output_type": "stream",
     "text": [
      "8550/8550 - 46s - loss: 4.4530e-04 - mape: 25.5545 - mae: 0.0153 - r_square: 0.9930 - val_loss: 1.3254e-04 - val_mape: 18.2698 - val_mae: 0.0085 - val_r_square: 0.9979\n",
      "Epoch 232/500\n",
      "8550/8550 - 47s - loss: 4.4581e-04 - mape: 25.4400 - mae: 0.0153 - r_square: 0.9929 - val_loss: 1.5337e-04 - val_mape: 20.3014 - val_mae: 0.0091 - val_r_square: 0.9976\n",
      "Epoch 233/500\n",
      "8550/8550 - 47s - loss: 4.4567e-04 - mape: 25.7374 - mae: 0.0153 - r_square: 0.9931 - val_loss: 1.4715e-04 - val_mape: 20.6166 - val_mae: 0.0088 - val_r_square: 0.9977\n",
      "Epoch 234/500\n",
      "8550/8550 - 46s - loss: 4.3843e-04 - mape: 25.5185 - mae: 0.0152 - r_square: 0.9931 - val_loss: 1.3309e-04 - val_mape: 19.3549 - val_mae: 0.0083 - val_r_square: 0.9979\n",
      "Epoch 235/500\n",
      "8550/8550 - 46s - loss: 4.3926e-04 - mape: 24.8558 - mae: 0.0152 - r_square: 0.9931 - val_loss: 1.3482e-04 - val_mape: 18.9007 - val_mae: 0.0086 - val_r_square: 0.9979\n",
      "Epoch 236/500\n",
      "8550/8550 - 46s - loss: 4.4361e-04 - mape: 25.7536 - mae: 0.0153 - r_square: 0.9930 - val_loss: 1.3066e-04 - val_mape: 18.3182 - val_mae: 0.0084 - val_r_square: 0.9980\n",
      "Epoch 237/500\n",
      "8550/8550 - 46s - loss: 4.3971e-04 - mape: 25.6668 - mae: 0.0152 - r_square: 0.9930 - val_loss: 1.3388e-04 - val_mape: 20.5457 - val_mae: 0.0084 - val_r_square: 0.9979\n",
      "Epoch 238/500\n",
      "8550/8550 - 46s - loss: 4.2733e-04 - mape: 25.3367 - mae: 0.0150 - r_square: 0.9934 - val_loss: 1.2839e-04 - val_mape: 19.0079 - val_mae: 0.0083 - val_r_square: 0.9980\n",
      "Epoch 239/500\n",
      "8550/8550 - 46s - loss: 4.3207e-04 - mape: 25.4174 - mae: 0.0152 - r_square: 0.9932 - val_loss: 1.6000e-04 - val_mape: 21.1940 - val_mae: 0.0092 - val_r_square: 0.9975\n",
      "Epoch 240/500\n",
      "8550/8550 - 47s - loss: 4.3220e-04 - mape: 24.8893 - mae: 0.0150 - r_square: 0.9932 - val_loss: 1.3101e-04 - val_mape: 19.4242 - val_mae: 0.0084 - val_r_square: 0.9980\n",
      "Epoch 241/500\n",
      "8550/8550 - 47s - loss: 4.4248e-04 - mape: 25.6005 - mae: 0.0152 - r_square: 0.9930 - val_loss: 1.3781e-04 - val_mape: 18.5358 - val_mae: 0.0085 - val_r_square: 0.9979\n",
      "Epoch 242/500\n",
      "8550/8550 - 47s - loss: 4.3044e-04 - mape: 25.4233 - mae: 0.0150 - r_square: 0.9932 - val_loss: 1.1333e-04 - val_mape: 17.5335 - val_mae: 0.0077 - val_r_square: 0.9982\n",
      "Epoch 243/500\n",
      "8550/8550 - 47s - loss: 4.4211e-04 - mape: 24.8012 - mae: 0.0152 - r_square: 0.9931 - val_loss: 1.3353e-04 - val_mape: 18.8212 - val_mae: 0.0084 - val_r_square: 0.9979\n",
      "Epoch 244/500\n",
      "8550/8550 - 46s - loss: 4.2072e-04 - mape: 25.3751 - mae: 0.0149 - r_square: 0.9933 - val_loss: 1.2568e-04 - val_mape: 18.4665 - val_mae: 0.0080 - val_r_square: 0.9981\n",
      "Epoch 245/500\n",
      "8550/8550 - 46s - loss: 4.3086e-04 - mape: 24.9381 - mae: 0.0150 - r_square: 0.9932 - val_loss: 1.3381e-04 - val_mape: 19.0393 - val_mae: 0.0085 - val_r_square: 0.9979\n",
      "Epoch 246/500\n",
      "8550/8550 - 46s - loss: 4.3264e-04 - mape: 24.6683 - mae: 0.0149 - r_square: 0.9933 - val_loss: 1.4101e-04 - val_mape: 20.1443 - val_mae: 0.0087 - val_r_square: 0.9978\n",
      "Epoch 247/500\n",
      "8550/8550 - 46s - loss: 4.2891e-04 - mape: 25.0902 - mae: 0.0149 - r_square: 0.9933 - val_loss: 1.3783e-04 - val_mape: 21.2479 - val_mae: 0.0086 - val_r_square: 0.9978\n",
      "Epoch 248/500\n",
      "8550/8550 - 46s - loss: 4.3527e-04 - mape: 25.4329 - mae: 0.0151 - r_square: 0.9932 - val_loss: 1.2952e-04 - val_mape: 20.0424 - val_mae: 0.0083 - val_r_square: 0.9980\n",
      "Epoch 249/500\n",
      "8550/8550 - 46s - loss: 4.3847e-04 - mape: 25.2497 - mae: 0.0151 - r_square: 0.9932 - val_loss: 1.3921e-04 - val_mape: 19.9622 - val_mae: 0.0087 - val_r_square: 0.9978\n",
      "Epoch 250/500\n",
      "8550/8550 - 46s - loss: 4.4491e-04 - mape: 24.8066 - mae: 0.0152 - r_square: 0.9930 - val_loss: 1.4290e-04 - val_mape: 20.5026 - val_mae: 0.0087 - val_r_square: 0.9978\n",
      "Epoch 251/500\n",
      "8550/8550 - 46s - loss: 4.2288e-04 - mape: 24.9017 - mae: 0.0149 - r_square: 0.9934 - val_loss: 1.4259e-04 - val_mape: 18.4312 - val_mae: 0.0087 - val_r_square: 0.9978\n",
      "Epoch 252/500\n",
      "8550/8550 - 46s - loss: 4.3781e-04 - mape: 25.4087 - mae: 0.0152 - r_square: 0.9932 - val_loss: 1.3678e-04 - val_mape: 19.9000 - val_mae: 0.0087 - val_r_square: 0.9979\n",
      "Epoch 253/500\n",
      "8550/8550 - 46s - loss: 4.2217e-04 - mape: 25.3271 - mae: 0.0149 - r_square: 0.9935 - val_loss: 1.2669e-04 - val_mape: 17.7167 - val_mae: 0.0083 - val_r_square: 0.9981\n",
      "Epoch 254/500\n",
      "8550/8550 - 46s - loss: 4.3069e-04 - mape: 25.2763 - mae: 0.0150 - r_square: 0.9933 - val_loss: 1.1661e-04 - val_mape: 17.8719 - val_mae: 0.0079 - val_r_square: 0.9982\n",
      "Epoch 255/500\n",
      "8550/8550 - 46s - loss: 4.2523e-04 - mape: 24.9605 - mae: 0.0149 - r_square: 0.9933 - val_loss: 1.3291e-04 - val_mape: 18.8807 - val_mae: 0.0084 - val_r_square: 0.9980\n",
      "Epoch 256/500\n",
      "8550/8550 - 46s - loss: 4.3074e-04 - mape: 24.5969 - mae: 0.0149 - r_square: 0.9932 - val_loss: 1.3258e-04 - val_mape: 18.8765 - val_mae: 0.0082 - val_r_square: 0.9980\n",
      "Epoch 257/500\n",
      "8550/8550 - 46s - loss: 4.3771e-04 - mape: 25.1180 - mae: 0.0151 - r_square: 0.9932 - val_loss: 1.1288e-04 - val_mape: 18.2393 - val_mae: 0.0078 - val_r_square: 0.9982\n",
      "Epoch 258/500\n",
      "8550/8550 - 46s - loss: 4.2616e-04 - mape: 24.8104 - mae: 0.0149 - r_square: 0.9933 - val_loss: 1.3760e-04 - val_mape: 19.4080 - val_mae: 0.0087 - val_r_square: 0.9979\n",
      "Epoch 259/500\n",
      "8550/8550 - 47s - loss: 4.1665e-04 - mape: 24.6631 - mae: 0.0147 - r_square: 0.9935 - val_loss: 1.1838e-04 - val_mape: 18.4489 - val_mae: 0.0079 - val_r_square: 0.9981\n",
      "Epoch 260/500\n",
      "8550/8550 - 47s - loss: 4.1271e-04 - mape: 24.6729 - mae: 0.0148 - r_square: 0.9935 - val_loss: 1.1487e-04 - val_mape: 19.7813 - val_mae: 0.0078 - val_r_square: 0.9982\n",
      "Epoch 261/500\n",
      "8550/8550 - 47s - loss: 4.2647e-04 - mape: 25.0706 - mae: 0.0150 - r_square: 0.9933 - val_loss: 1.3298e-04 - val_mape: 17.9287 - val_mae: 0.0084 - val_r_square: 0.9980\n",
      "Epoch 262/500\n",
      "8550/8550 - 47s - loss: 4.3417e-04 - mape: 24.9372 - mae: 0.0150 - r_square: 0.9931 - val_loss: 1.4657e-04 - val_mape: 19.3487 - val_mae: 0.0088 - val_r_square: 0.9978\n",
      "Epoch 263/500\n",
      "8550/8550 - 47s - loss: 4.2259e-04 - mape: 24.4296 - mae: 0.0148 - r_square: 0.9933 - val_loss: 1.2601e-04 - val_mape: 18.0376 - val_mae: 0.0079 - val_r_square: 0.9981\n",
      "Epoch 264/500\n",
      "8550/8550 - 47s - loss: 4.1307e-04 - mape: 24.5978 - mae: 0.0147 - r_square: 0.9936 - val_loss: 1.2829e-04 - val_mape: 20.9733 - val_mae: 0.0083 - val_r_square: 0.9980\n",
      "Epoch 265/500\n",
      "8550/8550 - 49s - loss: 4.2824e-04 - mape: 24.6180 - mae: 0.0150 - r_square: 0.9933 - val_loss: 1.3168e-04 - val_mape: 19.9843 - val_mae: 0.0083 - val_r_square: 0.9980\n",
      "Epoch 266/500\n",
      "8550/8550 - 47s - loss: 4.2093e-04 - mape: 24.0208 - mae: 0.0147 - r_square: 0.9934 - val_loss: 1.2406e-04 - val_mape: 18.2845 - val_mae: 0.0082 - val_r_square: 0.9981\n",
      "Epoch 267/500\n",
      "8550/8550 - 46s - loss: 4.1318e-04 - mape: 24.5743 - mae: 0.0147 - r_square: 0.9935 - val_loss: 1.1645e-04 - val_mape: 18.8009 - val_mae: 0.0078 - val_r_square: 0.9982\n",
      "Epoch 268/500\n",
      "8550/8550 - 46s - loss: 4.2651e-04 - mape: 24.3159 - mae: 0.0149 - r_square: 0.9933 - val_loss: 1.2319e-04 - val_mape: 18.6247 - val_mae: 0.0082 - val_r_square: 0.9981\n",
      "Epoch 269/500\n",
      "8550/8550 - 46s - loss: 4.1063e-04 - mape: 24.7006 - mae: 0.0147 - r_square: 0.9935 - val_loss: 1.3875e-04 - val_mape: 19.0326 - val_mae: 0.0083 - val_r_square: 0.9979\n",
      "Epoch 270/500\n",
      "8550/8550 - 46s - loss: 4.1484e-04 - mape: 24.5776 - mae: 0.0147 - r_square: 0.9936 - val_loss: 1.1980e-04 - val_mape: 17.3880 - val_mae: 0.0080 - val_r_square: 0.9981\n",
      "Epoch 271/500\n",
      "8550/8550 - 46s - loss: 4.0920e-04 - mape: 24.3038 - mae: 0.0146 - r_square: 0.9936 - val_loss: 1.2411e-04 - val_mape: 18.3863 - val_mae: 0.0079 - val_r_square: 0.9981\n",
      "Epoch 272/500\n",
      "8550/8550 - 46s - loss: 4.2859e-04 - mape: 24.6352 - mae: 0.0149 - r_square: 0.9933 - val_loss: 1.2179e-04 - val_mape: 16.5542 - val_mae: 0.0080 - val_r_square: 0.9981\n",
      "Epoch 273/500\n",
      "8550/8550 - 46s - loss: 4.0910e-04 - mape: 24.0751 - mae: 0.0146 - r_square: 0.9935 - val_loss: 1.2594e-04 - val_mape: 17.7419 - val_mae: 0.0082 - val_r_square: 0.9981\n",
      "Epoch 274/500\n",
      "8550/8550 - 46s - loss: 4.1038e-04 - mape: 24.5132 - mae: 0.0146 - r_square: 0.9936 - val_loss: 1.1104e-04 - val_mape: 17.2161 - val_mae: 0.0077 - val_r_square: 0.9983\n",
      "Epoch 275/500\n",
      "8550/8550 - 46s - loss: 4.1730e-04 - mape: 24.1726 - mae: 0.0147 - r_square: 0.9935 - val_loss: 1.2182e-04 - val_mape: 18.5821 - val_mae: 0.0079 - val_r_square: 0.9981\n",
      "Epoch 276/500\n",
      "8550/8550 - 46s - loss: 4.1339e-04 - mape: 24.2455 - mae: 0.0147 - r_square: 0.9936 - val_loss: 1.3109e-04 - val_mape: 17.8776 - val_mae: 0.0084 - val_r_square: 0.9980\n"
     ]
    },
    {
     "name": "stdout",
     "output_type": "stream",
     "text": [
      "Epoch 277/500\n",
      "8550/8550 - 46s - loss: 4.0996e-04 - mape: 23.8094 - mae: 0.0146 - r_square: 0.9936 - val_loss: 1.2320e-04 - val_mape: 18.6549 - val_mae: 0.0081 - val_r_square: 0.9981\n",
      "Epoch 278/500\n",
      "8550/8550 - 46s - loss: 4.0770e-04 - mape: 24.1493 - mae: 0.0146 - r_square: 0.9937 - val_loss: 1.3090e-04 - val_mape: 17.9254 - val_mae: 0.0084 - val_r_square: 0.9980\n",
      "Epoch 279/500\n",
      "8550/8550 - 46s - loss: 4.1590e-04 - mape: 24.7388 - mae: 0.0147 - r_square: 0.9935 - val_loss: 1.4707e-04 - val_mape: 18.5109 - val_mae: 0.0088 - val_r_square: 0.9977\n",
      "Epoch 280/500\n",
      "8550/8550 - 46s - loss: 4.0484e-04 - mape: 23.7286 - mae: 0.0145 - r_square: 0.9937 - val_loss: 1.2536e-04 - val_mape: 20.4127 - val_mae: 0.0081 - val_r_square: 0.9981\n",
      "Epoch 281/500\n",
      "8550/8550 - 46s - loss: 4.1412e-04 - mape: 24.4847 - mae: 0.0146 - r_square: 0.9935 - val_loss: 1.2433e-04 - val_mape: 17.5330 - val_mae: 0.0081 - val_r_square: 0.9981\n",
      "Epoch 282/500\n",
      "8550/8550 - 46s - loss: 4.0957e-04 - mape: 24.3303 - mae: 0.0147 - r_square: 0.9935 - val_loss: 1.1411e-04 - val_mape: 17.9571 - val_mae: 0.0077 - val_r_square: 0.9982\n",
      "Epoch 283/500\n",
      "8550/8550 - 46s - loss: 4.0829e-04 - mape: 24.1487 - mae: 0.0146 - r_square: 0.9936 - val_loss: 1.1429e-04 - val_mape: 18.4436 - val_mae: 0.0077 - val_r_square: 0.9982\n",
      "Epoch 284/500\n",
      "8550/8550 - 46s - loss: 4.0393e-04 - mape: 23.6773 - mae: 0.0145 - r_square: 0.9937 - val_loss: 1.1459e-04 - val_mape: 17.4583 - val_mae: 0.0078 - val_r_square: 0.9982\n",
      "Epoch 285/500\n",
      "8550/8550 - 46s - loss: 4.0853e-04 - mape: 24.6388 - mae: 0.0146 - r_square: 0.9935 - val_loss: 1.1288e-04 - val_mape: 18.3238 - val_mae: 0.0076 - val_r_square: 0.9983\n",
      "Epoch 286/500\n",
      "8550/8550 - 46s - loss: 4.0537e-04 - mape: 24.3531 - mae: 0.0145 - r_square: 0.9937 - val_loss: 1.2089e-04 - val_mape: 17.5219 - val_mae: 0.0080 - val_r_square: 0.9982\n",
      "Epoch 287/500\n",
      "8550/8550 - 46s - loss: 4.2163e-04 - mape: 23.7792 - mae: 0.0147 - r_square: 0.9934 - val_loss: 1.2726e-04 - val_mape: 17.1193 - val_mae: 0.0081 - val_r_square: 0.9980\n",
      "Epoch 288/500\n",
      "8550/8550 - 46s - loss: 4.0419e-04 - mape: 24.0764 - mae: 0.0145 - r_square: 0.9937 - val_loss: 1.0992e-04 - val_mape: 18.0847 - val_mae: 0.0076 - val_r_square: 0.9983\n",
      "Epoch 289/500\n",
      "8550/8550 - 46s - loss: 4.1813e-04 - mape: 23.4257 - mae: 0.0147 - r_square: 0.9935 - val_loss: 1.2830e-04 - val_mape: 18.5862 - val_mae: 0.0084 - val_r_square: 0.9980\n",
      "Epoch 290/500\n",
      "8550/8550 - 46s - loss: 4.0494e-04 - mape: 24.2705 - mae: 0.0145 - r_square: 0.9936 - val_loss: 1.1649e-04 - val_mape: 18.9787 - val_mae: 0.0078 - val_r_square: 0.9982\n",
      "Epoch 291/500\n",
      "8550/8550 - 46s - loss: 4.0390e-04 - mape: 24.0051 - mae: 0.0145 - r_square: 0.9936 - val_loss: 1.1164e-04 - val_mape: 17.4249 - val_mae: 0.0077 - val_r_square: 0.9983\n",
      "Epoch 292/500\n",
      "8550/8550 - 46s - loss: 3.9426e-04 - mape: 23.8018 - mae: 0.0144 - r_square: 0.9938 - val_loss: 1.0960e-04 - val_mape: 16.7517 - val_mae: 0.0075 - val_r_square: 0.9983\n",
      "Epoch 293/500\n",
      "8550/8550 - 46s - loss: 3.9112e-04 - mape: 23.9313 - mae: 0.0143 - r_square: 0.9938 - val_loss: 1.1215e-04 - val_mape: 18.5180 - val_mae: 0.0077 - val_r_square: 0.9983\n",
      "Epoch 294/500\n",
      "8550/8550 - 46s - loss: 3.9930e-04 - mape: 24.0161 - mae: 0.0145 - r_square: 0.9937 - val_loss: 1.2161e-04 - val_mape: 18.1407 - val_mae: 0.0082 - val_r_square: 0.9981\n",
      "Epoch 295/500\n",
      "8550/8550 - 46s - loss: 4.2467e-04 - mape: 24.2579 - mae: 0.0148 - r_square: 0.9934 - val_loss: 1.0970e-04 - val_mape: 16.7671 - val_mae: 0.0076 - val_r_square: 0.9983\n",
      "Epoch 296/500\n",
      "8550/8550 - 46s - loss: 3.8916e-04 - mape: 23.7415 - mae: 0.0143 - r_square: 0.9938 - val_loss: 1.0646e-04 - val_mape: 16.8210 - val_mae: 0.0075 - val_r_square: 0.9983\n",
      "Epoch 297/500\n",
      "8550/8550 - 46s - loss: 4.0937e-04 - mape: 23.7664 - mae: 0.0145 - r_square: 0.9935 - val_loss: 1.1809e-04 - val_mape: 19.0741 - val_mae: 0.0080 - val_r_square: 0.9982\n",
      "Epoch 298/500\n",
      "8550/8550 - 46s - loss: 4.0214e-04 - mape: 23.7178 - mae: 0.0144 - r_square: 0.9938 - val_loss: 1.1374e-04 - val_mape: 17.0838 - val_mae: 0.0080 - val_r_square: 0.9983\n",
      "Epoch 299/500\n",
      "8550/8550 - 46s - loss: 4.0940e-04 - mape: 23.8999 - mae: 0.0145 - r_square: 0.9936 - val_loss: 1.1137e-04 - val_mape: 17.2054 - val_mae: 0.0077 - val_r_square: 0.9983\n",
      "Epoch 300/500\n",
      "8550/8550 - 46s - loss: 4.0397e-04 - mape: 23.4532 - mae: 0.0144 - r_square: 0.9937 - val_loss: 1.1902e-04 - val_mape: 17.4559 - val_mae: 0.0081 - val_r_square: 0.9982\n",
      "Epoch 301/500\n",
      "8550/8550 - 46s - loss: 4.0208e-04 - mape: 23.7675 - mae: 0.0144 - r_square: 0.9938 - val_loss: 1.0275e-04 - val_mape: 17.4717 - val_mae: 0.0074 - val_r_square: 0.9984\n",
      "Epoch 302/500\n",
      "8550/8550 - 46s - loss: 4.0606e-04 - mape: 24.2575 - mae: 0.0145 - r_square: 0.9936 - val_loss: 1.1029e-04 - val_mape: 16.8739 - val_mae: 0.0076 - val_r_square: 0.9983\n",
      "Epoch 303/500\n",
      "8550/8550 - 46s - loss: 4.0438e-04 - mape: 23.6322 - mae: 0.0144 - r_square: 0.9937 - val_loss: 1.1476e-04 - val_mape: 19.1046 - val_mae: 0.0078 - val_r_square: 0.9982\n",
      "Epoch 304/500\n",
      "8550/8550 - 46s - loss: 3.9856e-04 - mape: 24.0098 - mae: 0.0144 - r_square: 0.9937 - val_loss: 1.1406e-04 - val_mape: 16.5003 - val_mae: 0.0078 - val_r_square: 0.9982\n",
      "Epoch 305/500\n",
      "8550/8550 - 46s - loss: 3.9727e-04 - mape: 23.7696 - mae: 0.0143 - r_square: 0.9937 - val_loss: 1.1241e-04 - val_mape: 18.1687 - val_mae: 0.0079 - val_r_square: 0.9983\n",
      "Epoch 306/500\n",
      "8550/8550 - 46s - loss: 3.9959e-04 - mape: 23.7718 - mae: 0.0145 - r_square: 0.9937 - val_loss: 1.2135e-04 - val_mape: 18.1767 - val_mae: 0.0082 - val_r_square: 0.9982\n",
      "Epoch 307/500\n",
      "8550/8550 - 46s - loss: 4.0527e-04 - mape: 24.0590 - mae: 0.0145 - r_square: 0.9937 - val_loss: 1.3710e-04 - val_mape: 17.4978 - val_mae: 0.0088 - val_r_square: 0.9979\n",
      "Epoch 308/500\n",
      "8550/8550 - 46s - loss: 3.9580e-04 - mape: 23.5787 - mae: 0.0144 - r_square: 0.9937 - val_loss: 1.0354e-04 - val_mape: 17.8377 - val_mae: 0.0073 - val_r_square: 0.9984\n",
      "Epoch 309/500\n",
      "8550/8550 - 46s - loss: 3.9736e-04 - mape: 23.3373 - mae: 0.0143 - r_square: 0.9938 - val_loss: 1.0513e-04 - val_mape: 17.6698 - val_mae: 0.0075 - val_r_square: 0.9984\n",
      "Epoch 310/500\n",
      "8550/8550 - 46s - loss: 4.1276e-04 - mape: 23.9697 - mae: 0.0145 - r_square: 0.9935 - val_loss: 1.1768e-04 - val_mape: 18.7430 - val_mae: 0.0079 - val_r_square: 0.9982\n",
      "Epoch 311/500\n",
      "8550/8550 - 46s - loss: 3.7713e-04 - mape: 22.8992 - mae: 0.0140 - r_square: 0.9941 - val_loss: 1.0555e-04 - val_mape: 16.0767 - val_mae: 0.0076 - val_r_square: 0.9984\n",
      "Epoch 312/500\n",
      "8550/8550 - 46s - loss: 3.9420e-04 - mape: 23.4683 - mae: 0.0144 - r_square: 0.9938 - val_loss: 1.0385e-04 - val_mape: 15.6891 - val_mae: 0.0073 - val_r_square: 0.9984\n",
      "Epoch 313/500\n",
      "8550/8550 - 46s - loss: 3.9587e-04 - mape: 22.9914 - mae: 0.0142 - r_square: 0.9939 - val_loss: 1.1080e-04 - val_mape: 18.0039 - val_mae: 0.0077 - val_r_square: 0.9983\n",
      "Epoch 314/500\n",
      "8550/8550 - 46s - loss: 3.8855e-04 - mape: 23.1008 - mae: 0.0142 - r_square: 0.9940 - val_loss: 9.8039e-05 - val_mape: 17.2721 - val_mae: 0.0071 - val_r_square: 0.9985\n",
      "Epoch 315/500\n",
      "8550/8550 - 46s - loss: 3.9229e-04 - mape: 23.7046 - mae: 0.0143 - r_square: 0.9937 - val_loss: 1.2945e-04 - val_mape: 17.4578 - val_mae: 0.0084 - val_r_square: 0.9980\n",
      "Epoch 316/500\n",
      "8550/8550 - 46s - loss: 3.9463e-04 - mape: 23.6369 - mae: 0.0143 - r_square: 0.9937 - val_loss: 1.0451e-04 - val_mape: 16.3113 - val_mae: 0.0073 - val_r_square: 0.9984\n",
      "Epoch 317/500\n",
      "8550/8550 - 46s - loss: 3.9441e-04 - mape: 23.9308 - mae: 0.0143 - r_square: 0.9938 - val_loss: 1.1144e-04 - val_mape: 16.3803 - val_mae: 0.0078 - val_r_square: 0.9983\n",
      "Epoch 318/500\n",
      "8550/8550 - 46s - loss: 3.7388e-04 - mape: 23.0169 - mae: 0.0140 - r_square: 0.9942 - val_loss: 1.0702e-04 - val_mape: 17.2829 - val_mae: 0.0075 - val_r_square: 0.9983\n",
      "Epoch 319/500\n",
      "8550/8550 - 46s - loss: 3.9565e-04 - mape: 23.5084 - mae: 0.0143 - r_square: 0.9937 - val_loss: 1.0294e-04 - val_mape: 16.6025 - val_mae: 0.0073 - val_r_square: 0.9984\n",
      "Epoch 320/500\n",
      "8550/8550 - 46s - loss: 3.9315e-04 - mape: 23.7779 - mae: 0.0143 - r_square: 0.9939 - val_loss: 1.1944e-04 - val_mape: 18.0783 - val_mae: 0.0078 - val_r_square: 0.9981\n",
      "Epoch 321/500\n",
      "8550/8550 - 46s - loss: 3.9272e-04 - mape: 22.9197 - mae: 0.0143 - r_square: 0.9939 - val_loss: 1.1805e-04 - val_mape: 16.5884 - val_mae: 0.0079 - val_r_square: 0.9982\n",
      "Epoch 322/500\n"
     ]
    },
    {
     "name": "stdout",
     "output_type": "stream",
     "text": [
      "8550/8550 - 46s - loss: 3.9405e-04 - mape: 23.2980 - mae: 0.0143 - r_square: 0.9939 - val_loss: 1.0297e-04 - val_mape: 16.2109 - val_mae: 0.0075 - val_r_square: 0.9984\n",
      "Epoch 323/500\n",
      "8550/8550 - 46s - loss: 4.0074e-04 - mape: 23.2934 - mae: 0.0144 - r_square: 0.9937 - val_loss: 1.1333e-04 - val_mape: 16.7197 - val_mae: 0.0078 - val_r_square: 0.9982\n",
      "Epoch 324/500\n",
      "8550/8550 - 46s - loss: 4.0337e-04 - mape: 22.9180 - mae: 0.0143 - r_square: 0.9936 - val_loss: 1.0966e-04 - val_mape: 18.6570 - val_mae: 0.0077 - val_r_square: 0.9983\n",
      "Epoch 325/500\n",
      "8550/8550 - 46s - loss: 3.8203e-04 - mape: 23.0073 - mae: 0.0140 - r_square: 0.9940 - val_loss: 1.1461e-04 - val_mape: 16.1808 - val_mae: 0.0079 - val_r_square: 0.9983\n",
      "Epoch 326/500\n",
      "8550/8550 - 46s - loss: 3.9278e-04 - mape: 23.1923 - mae: 0.0142 - r_square: 0.9938 - val_loss: 1.0287e-04 - val_mape: 16.9223 - val_mae: 0.0073 - val_r_square: 0.9984\n",
      "Epoch 327/500\n",
      "8550/8550 - 46s - loss: 3.9521e-04 - mape: 23.5678 - mae: 0.0143 - r_square: 0.9938 - val_loss: 1.1839e-04 - val_mape: 17.5453 - val_mae: 0.0080 - val_r_square: 0.9982\n",
      "Epoch 328/500\n",
      "8550/8550 - 46s - loss: 3.7917e-04 - mape: 23.7097 - mae: 0.0141 - r_square: 0.9940 - val_loss: 9.7229e-05 - val_mape: 16.1192 - val_mae: 0.0070 - val_r_square: 0.9985\n",
      "Epoch 329/500\n",
      "8550/8550 - 46s - loss: 3.9934e-04 - mape: 23.3641 - mae: 0.0144 - r_square: 0.9938 - val_loss: 1.1804e-04 - val_mape: 17.2897 - val_mae: 0.0079 - val_r_square: 0.9982\n",
      "Epoch 330/500\n",
      "8550/8550 - 46s - loss: 3.9756e-04 - mape: 23.3558 - mae: 0.0142 - r_square: 0.9938 - val_loss: 1.1800e-04 - val_mape: 17.5057 - val_mae: 0.0080 - val_r_square: 0.9982\n",
      "Epoch 331/500\n",
      "8550/8550 - 46s - loss: 3.9597e-04 - mape: 23.2370 - mae: 0.0143 - r_square: 0.9939 - val_loss: 1.1684e-04 - val_mape: 17.2523 - val_mae: 0.0079 - val_r_square: 0.9982\n",
      "Epoch 332/500\n",
      "8550/8550 - 46s - loss: 3.7696e-04 - mape: 23.0907 - mae: 0.0140 - r_square: 0.9940 - val_loss: 1.1285e-04 - val_mape: 17.5163 - val_mae: 0.0080 - val_r_square: 0.9983\n",
      "Epoch 333/500\n",
      "8550/8550 - 46s - loss: 3.9003e-04 - mape: 23.1099 - mae: 0.0141 - r_square: 0.9938 - val_loss: 9.6890e-05 - val_mape: 17.3316 - val_mae: 0.0072 - val_r_square: 0.9985\n",
      "Epoch 334/500\n",
      "8550/8550 - 46s - loss: 3.9372e-04 - mape: 23.6672 - mae: 0.0142 - r_square: 0.9939 - val_loss: 1.1123e-04 - val_mape: 17.6279 - val_mae: 0.0077 - val_r_square: 0.9983\n",
      "Epoch 335/500\n",
      "8550/8550 - 46s - loss: 3.7190e-04 - mape: 22.5864 - mae: 0.0139 - r_square: 0.9942 - val_loss: 1.0407e-04 - val_mape: 17.5820 - val_mae: 0.0074 - val_r_square: 0.9984\n",
      "Epoch 336/500\n",
      "8550/8550 - 46s - loss: 3.9312e-04 - mape: 22.8455 - mae: 0.0141 - r_square: 0.9938 - val_loss: 1.0606e-04 - val_mape: 17.1855 - val_mae: 0.0076 - val_r_square: 0.9984\n",
      "Epoch 337/500\n",
      "8550/8550 - 46s - loss: 3.8280e-04 - mape: 23.0120 - mae: 0.0141 - r_square: 0.9940 - val_loss: 1.0010e-04 - val_mape: 16.7794 - val_mae: 0.0073 - val_r_square: 0.9984\n",
      "Epoch 338/500\n",
      "8550/8550 - 46s - loss: 3.8866e-04 - mape: 23.1883 - mae: 0.0141 - r_square: 0.9940 - val_loss: 1.1988e-04 - val_mape: 19.6944 - val_mae: 0.0082 - val_r_square: 0.9981\n",
      "Epoch 339/500\n",
      "8550/8550 - 46s - loss: 3.8149e-04 - mape: 23.3250 - mae: 0.0140 - r_square: 0.9940 - val_loss: 9.4671e-05 - val_mape: 17.0092 - val_mae: 0.0070 - val_r_square: 0.9985\n",
      "Epoch 340/500\n",
      "8550/8550 - 46s - loss: 3.9629e-04 - mape: 23.1038 - mae: 0.0142 - r_square: 0.9938 - val_loss: 1.1638e-04 - val_mape: 17.1927 - val_mae: 0.0079 - val_r_square: 0.9982\n",
      "Epoch 341/500\n",
      "8550/8550 - 46s - loss: 3.9405e-04 - mape: 23.2354 - mae: 0.0141 - r_square: 0.9938 - val_loss: 1.0573e-04 - val_mape: 17.8738 - val_mae: 0.0075 - val_r_square: 0.9984\n",
      "Epoch 342/500\n",
      "8550/8550 - 46s - loss: 3.7020e-04 - mape: 23.1040 - mae: 0.0139 - r_square: 0.9942 - val_loss: 1.1034e-04 - val_mape: 16.9951 - val_mae: 0.0077 - val_r_square: 0.9983\n",
      "Epoch 343/500\n",
      "8550/8550 - 46s - loss: 3.8493e-04 - mape: 22.9030 - mae: 0.0140 - r_square: 0.9940 - val_loss: 9.8670e-05 - val_mape: 16.6819 - val_mae: 0.0073 - val_r_square: 0.9985\n",
      "Epoch 344/500\n",
      "8550/8550 - 46s - loss: 3.8376e-04 - mape: 22.7842 - mae: 0.0142 - r_square: 0.9939 - val_loss: 1.1154e-04 - val_mape: 16.2974 - val_mae: 0.0080 - val_r_square: 0.9983\n",
      "Epoch 345/500\n",
      "8550/8550 - 46s - loss: 3.8514e-04 - mape: 23.1768 - mae: 0.0141 - r_square: 0.9940 - val_loss: 9.8457e-05 - val_mape: 17.5669 - val_mae: 0.0074 - val_r_square: 0.9985\n",
      "Epoch 346/500\n",
      "8550/8550 - 46s - loss: 3.9190e-04 - mape: 23.0482 - mae: 0.0142 - r_square: 0.9938 - val_loss: 1.1042e-04 - val_mape: 17.8073 - val_mae: 0.0077 - val_r_square: 0.9983\n",
      "Epoch 347/500\n",
      "8550/8550 - 46s - loss: 3.9003e-04 - mape: 23.3276 - mae: 0.0142 - r_square: 0.9938 - val_loss: 1.1928e-04 - val_mape: 16.9815 - val_mae: 0.0080 - val_r_square: 0.9982\n",
      "Epoch 348/500\n",
      "8550/8550 - 46s - loss: 3.7944e-04 - mape: 23.3970 - mae: 0.0140 - r_square: 0.9940 - val_loss: 1.0033e-04 - val_mape: 16.9000 - val_mae: 0.0073 - val_r_square: 0.9984\n",
      "Epoch 349/500\n",
      "8550/8550 - 47s - loss: 3.7878e-04 - mape: 22.7142 - mae: 0.0139 - r_square: 0.9940 - val_loss: 9.8018e-05 - val_mape: 16.2280 - val_mae: 0.0073 - val_r_square: 0.9985\n",
      "Epoch 350/500\n",
      "8550/8550 - 46s - loss: 3.8647e-04 - mape: 22.8738 - mae: 0.0141 - r_square: 0.9939 - val_loss: 9.3002e-05 - val_mape: 17.5951 - val_mae: 0.0069 - val_r_square: 0.9985\n",
      "Epoch 351/500\n",
      "8550/8550 - 46s - loss: 3.8603e-04 - mape: 22.9964 - mae: 0.0141 - r_square: 0.9940 - val_loss: 9.1402e-05 - val_mape: 17.0879 - val_mae: 0.0070 - val_r_square: 0.9986\n",
      "Epoch 352/500\n",
      "8550/8550 - 46s - loss: 3.8197e-04 - mape: 22.4660 - mae: 0.0140 - r_square: 0.9941 - val_loss: 1.0187e-04 - val_mape: 16.5544 - val_mae: 0.0073 - val_r_square: 0.9984\n",
      "Epoch 353/500\n",
      "8550/8550 - 46s - loss: 3.7391e-04 - mape: 23.2908 - mae: 0.0139 - r_square: 0.9941 - val_loss: 1.0475e-04 - val_mape: 17.3105 - val_mae: 0.0076 - val_r_square: 0.9984\n",
      "Epoch 354/500\n",
      "8550/8550 - 46s - loss: 3.8211e-04 - mape: 22.8461 - mae: 0.0140 - r_square: 0.9940 - val_loss: 8.6391e-05 - val_mape: 16.1478 - val_mae: 0.0067 - val_r_square: 0.9987\n",
      "Epoch 355/500\n",
      "8550/8550 - 46s - loss: 3.6480e-04 - mape: 22.9330 - mae: 0.0138 - r_square: 0.9942 - val_loss: 8.7996e-05 - val_mape: 15.6443 - val_mae: 0.0068 - val_r_square: 0.9986\n",
      "Epoch 356/500\n",
      "8550/8550 - 46s - loss: 3.8550e-04 - mape: 22.9025 - mae: 0.0140 - r_square: 0.9939 - val_loss: 1.0363e-04 - val_mape: 17.9407 - val_mae: 0.0074 - val_r_square: 0.9984\n",
      "Epoch 357/500\n",
      "8550/8550 - 46s - loss: 3.5714e-04 - mape: 22.7659 - mae: 0.0137 - r_square: 0.9944 - val_loss: 9.6974e-05 - val_mape: 16.4799 - val_mae: 0.0071 - val_r_square: 0.9985\n",
      "Epoch 358/500\n",
      "8550/8550 - 46s - loss: 3.8587e-04 - mape: 22.1718 - mae: 0.0140 - r_square: 0.9940 - val_loss: 1.0414e-04 - val_mape: 16.6326 - val_mae: 0.0076 - val_r_square: 0.9984\n",
      "Epoch 359/500\n",
      "8550/8550 - 46s - loss: 3.7493e-04 - mape: 22.6920 - mae: 0.0139 - r_square: 0.9942 - val_loss: 1.0231e-04 - val_mape: 17.4309 - val_mae: 0.0073 - val_r_square: 0.9984\n",
      "Epoch 360/500\n",
      "8550/8550 - 46s - loss: 3.7480e-04 - mape: 22.6211 - mae: 0.0139 - r_square: 0.9941 - val_loss: 9.8568e-05 - val_mape: 17.1652 - val_mae: 0.0073 - val_r_square: 0.9985\n",
      "Epoch 361/500\n",
      "8550/8550 - 46s - loss: 3.7418e-04 - mape: 22.5576 - mae: 0.0139 - r_square: 0.9942 - val_loss: 8.7534e-05 - val_mape: 16.4723 - val_mae: 0.0069 - val_r_square: 0.9986\n",
      "Epoch 362/500\n",
      "8550/8550 - 46s - loss: 3.7987e-04 - mape: 22.7003 - mae: 0.0139 - r_square: 0.9940 - val_loss: 9.7365e-05 - val_mape: 15.9622 - val_mae: 0.0074 - val_r_square: 0.9985\n",
      "Epoch 363/500\n",
      "8550/8550 - 46s - loss: 3.7790e-04 - mape: 22.5820 - mae: 0.0139 - r_square: 0.9941 - val_loss: 1.0330e-04 - val_mape: 17.4740 - val_mae: 0.0074 - val_r_square: 0.9984\n",
      "Epoch 364/500\n",
      "8550/8550 - 46s - loss: 3.7515e-04 - mape: 22.6591 - mae: 0.0139 - r_square: 0.9941 - val_loss: 9.6131e-05 - val_mape: 15.8698 - val_mae: 0.0072 - val_r_square: 0.9985\n",
      "Epoch 365/500\n",
      "8550/8550 - 46s - loss: 3.6937e-04 - mape: 22.5886 - mae: 0.0138 - r_square: 0.9942 - val_loss: 1.0574e-04 - val_mape: 18.7213 - val_mae: 0.0077 - val_r_square: 0.9983\n",
      "Epoch 366/500\n",
      "8550/8550 - 46s - loss: 3.7810e-04 - mape: 22.0095 - mae: 0.0139 - r_square: 0.9941 - val_loss: 1.2026e-04 - val_mape: 16.9533 - val_mae: 0.0082 - val_r_square: 0.9982\n",
      "Epoch 367/500\n",
      "8550/8550 - 46s - loss: 3.9243e-04 - mape: 22.5469 - mae: 0.0140 - r_square: 0.9939 - val_loss: 9.7448e-05 - val_mape: 15.5952 - val_mae: 0.0072 - val_r_square: 0.9985\n"
     ]
    },
    {
     "name": "stdout",
     "output_type": "stream",
     "text": [
      "Epoch 368/500\n",
      "8550/8550 - 46s - loss: 3.6565e-04 - mape: 22.3525 - mae: 0.0137 - r_square: 0.9943 - val_loss: 1.0669e-04 - val_mape: 17.1545 - val_mae: 0.0077 - val_r_square: 0.9984\n",
      "Epoch 369/500\n",
      "8550/8550 - 46s - loss: 3.6285e-04 - mape: 22.2198 - mae: 0.0137 - r_square: 0.9944 - val_loss: 8.7337e-05 - val_mape: 16.2036 - val_mae: 0.0068 - val_r_square: 0.9986\n",
      "Epoch 370/500\n",
      "8550/8550 - 46s - loss: 3.7381e-04 - mape: 22.6831 - mae: 0.0138 - r_square: 0.9941 - val_loss: 9.0745e-05 - val_mape: 15.3396 - val_mae: 0.0070 - val_r_square: 0.9986\n",
      "Epoch 371/500\n",
      "8550/8550 - 46s - loss: 3.6063e-04 - mape: 22.8769 - mae: 0.0136 - r_square: 0.9944 - val_loss: 1.0031e-04 - val_mape: 17.9306 - val_mae: 0.0074 - val_r_square: 0.9984\n",
      "Epoch 372/500\n",
      "8550/8550 - 46s - loss: 3.7162e-04 - mape: 22.9026 - mae: 0.0139 - r_square: 0.9942 - val_loss: 9.9980e-05 - val_mape: 17.5425 - val_mae: 0.0075 - val_r_square: 0.9985\n",
      "Epoch 373/500\n",
      "8550/8550 - 46s - loss: 3.8061e-04 - mape: 22.3134 - mae: 0.0139 - r_square: 0.9941 - val_loss: 9.9477e-05 - val_mape: 15.2891 - val_mae: 0.0072 - val_r_square: 0.9984\n",
      "Epoch 374/500\n",
      "8550/8550 - 46s - loss: 3.7717e-04 - mape: 22.3989 - mae: 0.0139 - r_square: 0.9941 - val_loss: 9.0144e-05 - val_mape: 15.9928 - val_mae: 0.0068 - val_r_square: 0.9986\n",
      "Epoch 375/500\n",
      "8550/8550 - 46s - loss: 3.8672e-04 - mape: 22.7771 - mae: 0.0139 - r_square: 0.9939 - val_loss: 9.2738e-05 - val_mape: 16.8422 - val_mae: 0.0072 - val_r_square: 0.9986\n",
      "Epoch 376/500\n",
      "8550/8550 - 46s - loss: 3.6468e-04 - mape: 22.2394 - mae: 0.0136 - r_square: 0.9943 - val_loss: 9.0458e-05 - val_mape: 14.9909 - val_mae: 0.0070 - val_r_square: 0.9986\n",
      "Epoch 377/500\n",
      "8550/8550 - 46s - loss: 3.6942e-04 - mape: 22.3099 - mae: 0.0138 - r_square: 0.9942 - val_loss: 9.2730e-05 - val_mape: 15.8779 - val_mae: 0.0071 - val_r_square: 0.9985\n",
      "Epoch 378/500\n",
      "8550/8550 - 46s - loss: 3.6655e-04 - mape: 22.3444 - mae: 0.0137 - r_square: 0.9942 - val_loss: 9.9110e-05 - val_mape: 16.9075 - val_mae: 0.0074 - val_r_square: 0.9984\n",
      "Epoch 379/500\n",
      "8550/8550 - 46s - loss: 3.7007e-04 - mape: 22.5238 - mae: 0.0137 - r_square: 0.9942 - val_loss: 9.2887e-05 - val_mape: 16.1927 - val_mae: 0.0069 - val_r_square: 0.9986\n",
      "Epoch 380/500\n",
      "8550/8550 - 46s - loss: 3.7162e-04 - mape: 22.4293 - mae: 0.0137 - r_square: 0.9941 - val_loss: 1.0638e-04 - val_mape: 17.6378 - val_mae: 0.0075 - val_r_square: 0.9983\n",
      "Epoch 381/500\n",
      "8550/8550 - 46s - loss: 3.6939e-04 - mape: 22.1835 - mae: 0.0137 - r_square: 0.9942 - val_loss: 9.2023e-05 - val_mape: 15.9033 - val_mae: 0.0070 - val_r_square: 0.9986\n",
      "Epoch 382/500\n",
      "8550/8550 - 46s - loss: 3.7885e-04 - mape: 22.6289 - mae: 0.0138 - r_square: 0.9941 - val_loss: 9.4577e-05 - val_mape: 15.6853 - val_mae: 0.0071 - val_r_square: 0.9985\n",
      "Epoch 383/500\n",
      "8550/8550 - 46s - loss: 3.5510e-04 - mape: 21.5849 - mae: 0.0136 - r_square: 0.9945 - val_loss: 8.9482e-05 - val_mape: 16.9220 - val_mae: 0.0069 - val_r_square: 0.9986\n",
      "Epoch 384/500\n",
      "8550/8550 - 46s - loss: 3.6469e-04 - mape: 22.3564 - mae: 0.0136 - r_square: 0.9943 - val_loss: 9.0089e-05 - val_mape: 16.3647 - val_mae: 0.0068 - val_r_square: 0.9986\n",
      "Epoch 385/500\n",
      "8550/8550 - 46s - loss: 3.6246e-04 - mape: 22.2302 - mae: 0.0137 - r_square: 0.9943 - val_loss: 9.1685e-05 - val_mape: 16.5025 - val_mae: 0.0069 - val_r_square: 0.9986\n",
      "Epoch 386/500\n",
      "8550/8550 - 46s - loss: 3.6363e-04 - mape: 22.3228 - mae: 0.0137 - r_square: 0.9942 - val_loss: 9.3749e-05 - val_mape: 15.8227 - val_mae: 0.0070 - val_r_square: 0.9985\n",
      "Epoch 387/500\n",
      "8550/8550 - 46s - loss: 3.7392e-04 - mape: 22.7114 - mae: 0.0139 - r_square: 0.9942 - val_loss: 8.6398e-05 - val_mape: 17.0117 - val_mae: 0.0068 - val_r_square: 0.9987\n",
      "Epoch 388/500\n",
      "8550/8550 - 46s - loss: 3.6871e-04 - mape: 22.4992 - mae: 0.0137 - r_square: 0.9942 - val_loss: 9.4014e-05 - val_mape: 16.5991 - val_mae: 0.0073 - val_r_square: 0.9986\n",
      "Epoch 389/500\n",
      "8550/8550 - 46s - loss: 3.6423e-04 - mape: 22.0031 - mae: 0.0136 - r_square: 0.9944 - val_loss: 9.1134e-05 - val_mape: 15.1440 - val_mae: 0.0069 - val_r_square: 0.9986\n",
      "Epoch 390/500\n",
      "8550/8550 - 46s - loss: 3.6604e-04 - mape: 21.5003 - mae: 0.0136 - r_square: 0.9942 - val_loss: 1.0019e-04 - val_mape: 16.3602 - val_mae: 0.0073 - val_r_square: 0.9984\n",
      "Epoch 391/500\n",
      "8550/8550 - 46s - loss: 3.6806e-04 - mape: 22.2681 - mae: 0.0137 - r_square: 0.9942 - val_loss: 8.9520e-05 - val_mape: 16.2561 - val_mae: 0.0070 - val_r_square: 0.9986\n",
      "Epoch 392/500\n",
      "8550/8550 - 46s - loss: 3.7995e-04 - mape: 22.2629 - mae: 0.0138 - r_square: 0.9941 - val_loss: 1.0890e-04 - val_mape: 17.9957 - val_mae: 0.0079 - val_r_square: 0.9983\n",
      "Epoch 393/500\n",
      "8550/8550 - 46s - loss: 3.8114e-04 - mape: 22.1481 - mae: 0.0138 - r_square: 0.9938 - val_loss: 9.1779e-05 - val_mape: 14.5966 - val_mae: 0.0072 - val_r_square: 0.9986\n",
      "Epoch 394/500\n",
      "8550/8550 - 46s - loss: 3.6779e-04 - mape: 22.5398 - mae: 0.0137 - r_square: 0.9943 - val_loss: 8.9243e-05 - val_mape: 15.9775 - val_mae: 0.0071 - val_r_square: 0.9986\n",
      "Epoch 395/500\n",
      "8550/8550 - 46s - loss: 3.6084e-04 - mape: 21.8266 - mae: 0.0136 - r_square: 0.9944 - val_loss: 9.8487e-05 - val_mape: 16.2726 - val_mae: 0.0073 - val_r_square: 0.9985\n",
      "Epoch 396/500\n",
      "8550/8550 - 46s - loss: 3.5729e-04 - mape: 21.9602 - mae: 0.0136 - r_square: 0.9943 - val_loss: 9.7117e-05 - val_mape: 16.3318 - val_mae: 0.0072 - val_r_square: 0.9985\n",
      "Epoch 397/500\n",
      "8550/8550 - 46s - loss: 3.6374e-04 - mape: 22.5662 - mae: 0.0136 - r_square: 0.9943 - val_loss: 9.0679e-05 - val_mape: 15.7878 - val_mae: 0.0070 - val_r_square: 0.9986\n",
      "Epoch 398/500\n",
      "8550/8550 - 47s - loss: 3.7367e-04 - mape: 22.3167 - mae: 0.0137 - r_square: 0.9942 - val_loss: 9.3928e-05 - val_mape: 15.6724 - val_mae: 0.0072 - val_r_square: 0.9985\n",
      "Epoch 399/500\n",
      "8550/8550 - 47s - loss: 3.6125e-04 - mape: 21.7409 - mae: 0.0136 - r_square: 0.9944 - val_loss: 8.8263e-05 - val_mape: 14.9734 - val_mae: 0.0069 - val_r_square: 0.9987\n",
      "Epoch 400/500\n",
      "8550/8550 - 47s - loss: 3.5111e-04 - mape: 21.7510 - mae: 0.0134 - r_square: 0.9945 - val_loss: 9.2415e-05 - val_mape: 15.4605 - val_mae: 0.0069 - val_r_square: 0.9986\n",
      "Epoch 401/500\n",
      "8550/8550 - 47s - loss: 3.7639e-04 - mape: 21.8638 - mae: 0.0136 - r_square: 0.9942 - val_loss: 8.5657e-05 - val_mape: 15.2407 - val_mae: 0.0066 - val_r_square: 0.9987\n",
      "Epoch 402/500\n",
      "8550/8550 - 46s - loss: 3.7432e-04 - mape: 22.2503 - mae: 0.0137 - r_square: 0.9942 - val_loss: 8.5279e-05 - val_mape: 15.1979 - val_mae: 0.0068 - val_r_square: 0.9987\n",
      "Epoch 403/500\n",
      "8550/8550 - 46s - loss: 3.6217e-04 - mape: 21.9459 - mae: 0.0135 - r_square: 0.9944 - val_loss: 1.0534e-04 - val_mape: 17.2252 - val_mae: 0.0073 - val_r_square: 0.9984\n",
      "Epoch 404/500\n",
      "8550/8550 - 47s - loss: 3.7077e-04 - mape: 22.0483 - mae: 0.0137 - r_square: 0.9940 - val_loss: 7.9146e-05 - val_mape: 14.2283 - val_mae: 0.0065 - val_r_square: 0.9988\n",
      "Epoch 405/500\n",
      "8550/8550 - 46s - loss: 3.5129e-04 - mape: 21.9851 - mae: 0.0135 - r_square: 0.9945 - val_loss: 7.6781e-05 - val_mape: 14.9089 - val_mae: 0.0064 - val_r_square: 0.9988\n",
      "Epoch 406/500\n",
      "8550/8550 - 47s - loss: 3.4778e-04 - mape: 21.6029 - mae: 0.0134 - r_square: 0.9946 - val_loss: 1.0307e-04 - val_mape: 16.7820 - val_mae: 0.0073 - val_r_square: 0.9984\n",
      "Epoch 407/500\n",
      "8550/8550 - 47s - loss: 3.6487e-04 - mape: 21.9460 - mae: 0.0136 - r_square: 0.9942 - val_loss: 9.2184e-05 - val_mape: 15.4760 - val_mae: 0.0071 - val_r_square: 0.9986\n",
      "Epoch 408/500\n",
      "8550/8550 - 46s - loss: 3.4793e-04 - mape: 21.6284 - mae: 0.0134 - r_square: 0.9946 - val_loss: 7.9721e-05 - val_mape: 15.7279 - val_mae: 0.0065 - val_r_square: 0.9988\n",
      "Epoch 409/500\n",
      "8550/8550 - 47s - loss: 3.5857e-04 - mape: 22.3712 - mae: 0.0135 - r_square: 0.9944 - val_loss: 7.9468e-05 - val_mape: 14.7822 - val_mae: 0.0065 - val_r_square: 0.9988\n",
      "Epoch 410/500\n",
      "8550/8550 - 46s - loss: 3.6936e-04 - mape: 21.8743 - mae: 0.0137 - r_square: 0.9942 - val_loss: 1.0472e-04 - val_mape: 15.7279 - val_mae: 0.0075 - val_r_square: 0.9984\n",
      "Epoch 411/500\n",
      "8550/8550 - 47s - loss: 3.5020e-04 - mape: 21.8732 - mae: 0.0134 - r_square: 0.9945 - val_loss: 8.0287e-05 - val_mape: 15.1628 - val_mae: 0.0065 - val_r_square: 0.9987\n",
      "Epoch 412/500\n",
      "8550/8550 - 49s - loss: 3.5708e-04 - mape: 22.1123 - mae: 0.0135 - r_square: 0.9944 - val_loss: 8.6039e-05 - val_mape: 15.7053 - val_mae: 0.0067 - val_r_square: 0.9987\n",
      "Epoch 413/500\n"
     ]
    },
    {
     "name": "stdout",
     "output_type": "stream",
     "text": [
      "8550/8550 - 47s - loss: 3.6306e-04 - mape: 22.1803 - mae: 0.0136 - r_square: 0.9943 - val_loss: 9.1018e-05 - val_mape: 16.3121 - val_mae: 0.0069 - val_r_square: 0.9986\n",
      "Epoch 414/500\n",
      "8550/8550 - 46s - loss: 3.5845e-04 - mape: 21.9298 - mae: 0.0135 - r_square: 0.9943 - val_loss: 8.9585e-05 - val_mape: 15.6720 - val_mae: 0.0069 - val_r_square: 0.9986\n",
      "Epoch 415/500\n",
      "8550/8550 - 47s - loss: 3.5300e-04 - mape: 21.8156 - mae: 0.0134 - r_square: 0.9944 - val_loss: 8.5504e-05 - val_mape: 14.8077 - val_mae: 0.0068 - val_r_square: 0.9987\n",
      "Epoch 416/500\n",
      "8550/8550 - 47s - loss: 3.5588e-04 - mape: 21.5060 - mae: 0.0135 - r_square: 0.9943 - val_loss: 9.4007e-05 - val_mape: 15.1592 - val_mae: 0.0070 - val_r_square: 0.9985\n",
      "Epoch 417/500\n",
      "8550/8550 - 46s - loss: 3.6218e-04 - mape: 21.9524 - mae: 0.0136 - r_square: 0.9944 - val_loss: 9.6236e-05 - val_mape: 14.0549 - val_mae: 0.0073 - val_r_square: 0.9985\n",
      "Epoch 418/500\n",
      "8550/8550 - 47s - loss: 3.5127e-04 - mape: 21.7376 - mae: 0.0134 - r_square: 0.9945 - val_loss: 8.6602e-05 - val_mape: 15.1693 - val_mae: 0.0067 - val_r_square: 0.9986\n",
      "Epoch 419/500\n",
      "8550/8550 - 47s - loss: 3.5312e-04 - mape: 21.6320 - mae: 0.0134 - r_square: 0.9944 - val_loss: 9.5904e-05 - val_mape: 16.2998 - val_mae: 0.0071 - val_r_square: 0.9986\n",
      "Epoch 420/500\n",
      "8550/8550 - 47s - loss: 3.5720e-04 - mape: 22.1901 - mae: 0.0135 - r_square: 0.9944 - val_loss: 8.9022e-05 - val_mape: 14.7856 - val_mae: 0.0070 - val_r_square: 0.9986\n",
      "Epoch 421/500\n",
      "8550/8550 - 47s - loss: 3.5951e-04 - mape: 22.1620 - mae: 0.0135 - r_square: 0.9944 - val_loss: 8.2905e-05 - val_mape: 16.1863 - val_mae: 0.0067 - val_r_square: 0.9987\n",
      "Epoch 422/500\n",
      "8550/8550 - 48s - loss: 3.4888e-04 - mape: 21.7054 - mae: 0.0134 - r_square: 0.9946 - val_loss: 8.6995e-05 - val_mape: 14.8994 - val_mae: 0.0068 - val_r_square: 0.9987\n",
      "Epoch 423/500\n",
      "8550/8550 - 48s - loss: 3.5340e-04 - mape: 21.9516 - mae: 0.0134 - r_square: 0.9945 - val_loss: 8.3739e-05 - val_mape: 14.9215 - val_mae: 0.0066 - val_r_square: 0.9987\n",
      "Epoch 424/500\n",
      "8550/8550 - 48s - loss: 3.5826e-04 - mape: 21.8952 - mae: 0.0134 - r_square: 0.9945 - val_loss: 7.9704e-05 - val_mape: 15.6222 - val_mae: 0.0066 - val_r_square: 0.9988\n",
      "Epoch 425/500\n",
      "8550/8550 - 47s - loss: 3.4325e-04 - mape: 21.0453 - mae: 0.0132 - r_square: 0.9946 - val_loss: 9.5467e-05 - val_mape: 14.9269 - val_mae: 0.0071 - val_r_square: 0.9985\n",
      "Epoch 426/500\n",
      "8550/8550 - 47s - loss: 3.5868e-04 - mape: 22.1816 - mae: 0.0135 - r_square: 0.9944 - val_loss: 9.1876e-05 - val_mape: 14.0277 - val_mae: 0.0071 - val_r_square: 0.9986\n",
      "Epoch 427/500\n",
      "8550/8550 - 47s - loss: 3.6182e-04 - mape: 21.9142 - mae: 0.0136 - r_square: 0.9944 - val_loss: 9.3418e-05 - val_mape: 15.3981 - val_mae: 0.0069 - val_r_square: 0.9986\n",
      "Epoch 428/500\n",
      "8550/8550 - 47s - loss: 3.4084e-04 - mape: 21.3631 - mae: 0.0133 - r_square: 0.9946 - val_loss: 8.7084e-05 - val_mape: 14.6725 - val_mae: 0.0067 - val_r_square: 0.9986\n",
      "Epoch 429/500\n",
      "8550/8550 - 47s - loss: 3.6049e-04 - mape: 21.7311 - mae: 0.0135 - r_square: 0.9943 - val_loss: 9.7117e-05 - val_mape: 13.9124 - val_mae: 0.0074 - val_r_square: 0.9985\n",
      "Epoch 430/500\n",
      "8550/8550 - 46s - loss: 3.4701e-04 - mape: 22.0983 - mae: 0.0134 - r_square: 0.9946 - val_loss: 1.0022e-04 - val_mape: 15.6520 - val_mae: 0.0073 - val_r_square: 0.9984\n",
      "Epoch 431/500\n",
      "8550/8550 - 47s - loss: 3.4681e-04 - mape: 21.6761 - mae: 0.0134 - r_square: 0.9945 - val_loss: 1.0926e-04 - val_mape: 17.4293 - val_mae: 0.0078 - val_r_square: 0.9983\n",
      "Epoch 432/500\n",
      "8550/8550 - 47s - loss: 3.5775e-04 - mape: 22.3087 - mae: 0.0135 - r_square: 0.9944 - val_loss: 7.7196e-05 - val_mape: 14.8928 - val_mae: 0.0064 - val_r_square: 0.9988\n",
      "Epoch 433/500\n",
      "8550/8550 - 47s - loss: 3.5546e-04 - mape: 21.9425 - mae: 0.0134 - r_square: 0.9944 - val_loss: 8.7149e-05 - val_mape: 16.2774 - val_mae: 0.0069 - val_r_square: 0.9986\n",
      "Epoch 434/500\n",
      "8550/8550 - 47s - loss: 3.5989e-04 - mape: 21.6703 - mae: 0.0134 - r_square: 0.9943 - val_loss: 9.3154e-05 - val_mape: 14.4384 - val_mae: 0.0072 - val_r_square: 0.9986\n",
      "Epoch 435/500\n",
      "8550/8550 - 47s - loss: 3.4579e-04 - mape: 21.9419 - mae: 0.0134 - r_square: 0.9946 - val_loss: 7.6621e-05 - val_mape: 15.0535 - val_mae: 0.0064 - val_r_square: 0.9988\n",
      "Epoch 436/500\n",
      "8550/8550 - 47s - loss: 3.5297e-04 - mape: 21.8182 - mae: 0.0134 - r_square: 0.9945 - val_loss: 8.7451e-05 - val_mape: 15.2686 - val_mae: 0.0069 - val_r_square: 0.9986\n",
      "Epoch 437/500\n",
      "8550/8550 - 47s - loss: 3.5251e-04 - mape: 21.1348 - mae: 0.0134 - r_square: 0.9945 - val_loss: 8.1640e-05 - val_mape: 13.8752 - val_mae: 0.0065 - val_r_square: 0.9987\n",
      "Epoch 438/500\n",
      "8550/8550 - 47s - loss: 3.5513e-04 - mape: 21.6566 - mae: 0.0135 - r_square: 0.9944 - val_loss: 8.0940e-05 - val_mape: 15.0562 - val_mae: 0.0065 - val_r_square: 0.9987\n",
      "Epoch 439/500\n",
      "8550/8550 - 47s - loss: 3.5001e-04 - mape: 21.9513 - mae: 0.0135 - r_square: 0.9946 - val_loss: 7.9389e-05 - val_mape: 15.6940 - val_mae: 0.0064 - val_r_square: 0.9988\n",
      "Epoch 440/500\n",
      "8550/8550 - 47s - loss: 3.5586e-04 - mape: 21.4659 - mae: 0.0134 - r_square: 0.9943 - val_loss: 8.5198e-05 - val_mape: 14.6862 - val_mae: 0.0069 - val_r_square: 0.9987\n",
      "Epoch 441/500\n",
      "8550/8550 - 47s - loss: 3.5335e-04 - mape: 21.5985 - mae: 0.0135 - r_square: 0.9945 - val_loss: 9.3353e-05 - val_mape: 14.4940 - val_mae: 0.0071 - val_r_square: 0.9986\n",
      "Epoch 442/500\n",
      "8550/8550 - 47s - loss: 3.4600e-04 - mape: 21.0694 - mae: 0.0132 - r_square: 0.9946 - val_loss: 7.9426e-05 - val_mape: 13.7950 - val_mae: 0.0065 - val_r_square: 0.9987\n",
      "Epoch 443/500\n",
      "8550/8550 - 46s - loss: 3.5738e-04 - mape: 21.5675 - mae: 0.0134 - r_square: 0.9943 - val_loss: 8.6636e-05 - val_mape: 15.7019 - val_mae: 0.0069 - val_r_square: 0.9987\n",
      "Epoch 444/500\n",
      "8550/8550 - 46s - loss: 3.4326e-04 - mape: 21.1006 - mae: 0.0132 - r_square: 0.9946 - val_loss: 7.3283e-05 - val_mape: 13.6791 - val_mae: 0.0062 - val_r_square: 0.9988\n",
      "Epoch 445/500\n",
      "8550/8550 - 46s - loss: 3.5371e-04 - mape: 21.5053 - mae: 0.0134 - r_square: 0.9945 - val_loss: 7.4490e-05 - val_mape: 14.5855 - val_mae: 0.0063 - val_r_square: 0.9988\n",
      "Epoch 446/500\n",
      "8550/8550 - 46s - loss: 3.5541e-04 - mape: 21.7925 - mae: 0.0134 - r_square: 0.9944 - val_loss: 8.4146e-05 - val_mape: 15.4567 - val_mae: 0.0067 - val_r_square: 0.9987\n",
      "Epoch 447/500\n",
      "8550/8550 - 46s - loss: 3.4369e-04 - mape: 21.6632 - mae: 0.0133 - r_square: 0.9945 - val_loss: 7.9093e-05 - val_mape: 13.2088 - val_mae: 0.0066 - val_r_square: 0.9988\n",
      "Epoch 448/500\n",
      "8550/8550 - 46s - loss: 3.4890e-04 - mape: 21.5759 - mae: 0.0134 - r_square: 0.9945 - val_loss: 8.4886e-05 - val_mape: 14.2950 - val_mae: 0.0067 - val_r_square: 0.9987\n",
      "Epoch 449/500\n",
      "8550/8550 - 46s - loss: 3.5092e-04 - mape: 21.2767 - mae: 0.0133 - r_square: 0.9946 - val_loss: 8.1050e-05 - val_mape: 14.2992 - val_mae: 0.0065 - val_r_square: 0.9987\n",
      "Epoch 450/500\n",
      "8550/8550 - 46s - loss: 3.5339e-04 - mape: 21.0964 - mae: 0.0133 - r_square: 0.9945 - val_loss: 8.3032e-05 - val_mape: 15.5496 - val_mae: 0.0067 - val_r_square: 0.9987\n",
      "Epoch 451/500\n",
      "8550/8550 - 46s - loss: 3.5035e-04 - mape: 21.1537 - mae: 0.0133 - r_square: 0.9944 - val_loss: 8.1305e-05 - val_mape: 15.0465 - val_mae: 0.0066 - val_r_square: 0.9987\n",
      "Epoch 452/500\n",
      "8550/8550 - 46s - loss: 3.5670e-04 - mape: 21.3931 - mae: 0.0134 - r_square: 0.9944 - val_loss: 8.1347e-05 - val_mape: 14.7203 - val_mae: 0.0066 - val_r_square: 0.9987\n",
      "Epoch 453/500\n",
      "8550/8550 - 46s - loss: 3.3991e-04 - mape: 21.2983 - mae: 0.0132 - r_square: 0.9946 - val_loss: 9.2304e-05 - val_mape: 14.1407 - val_mae: 0.0073 - val_r_square: 0.9986\n",
      "Epoch 454/500\n",
      "8550/8550 - 47s - loss: 3.3610e-04 - mape: 21.0698 - mae: 0.0131 - r_square: 0.9947 - val_loss: 7.7253e-05 - val_mape: 14.1073 - val_mae: 0.0065 - val_r_square: 0.9988\n",
      "Epoch 455/500\n",
      "8550/8550 - 47s - loss: 3.4195e-04 - mape: 21.5200 - mae: 0.0133 - r_square: 0.9945 - val_loss: 8.2406e-05 - val_mape: 14.9680 - val_mae: 0.0068 - val_r_square: 0.9987\n",
      "Epoch 456/500\n",
      "8550/8550 - 47s - loss: 3.4201e-04 - mape: 21.2614 - mae: 0.0132 - r_square: 0.9946 - val_loss: 9.0856e-05 - val_mape: 16.7656 - val_mae: 0.0071 - val_r_square: 0.9986\n",
      "Epoch 457/500\n",
      "8550/8550 - 47s - loss: 3.4543e-04 - mape: 21.2091 - mae: 0.0132 - r_square: 0.9946 - val_loss: 8.3851e-05 - val_mape: 14.8488 - val_mae: 0.0067 - val_r_square: 0.9987\n",
      "Epoch 458/500\n",
      "8550/8550 - 47s - loss: 3.4786e-04 - mape: 21.4490 - mae: 0.0133 - r_square: 0.9945 - val_loss: 7.8222e-05 - val_mape: 14.5264 - val_mae: 0.0065 - val_r_square: 0.9988\n"
     ]
    },
    {
     "name": "stdout",
     "output_type": "stream",
     "text": [
      "Epoch 459/500\n",
      "8550/8550 - 47s - loss: 3.5574e-04 - mape: 21.4293 - mae: 0.0135 - r_square: 0.9945 - val_loss: 8.5478e-05 - val_mape: 14.8415 - val_mae: 0.0068 - val_r_square: 0.9987\n",
      "Epoch 460/500\n",
      "8550/8550 - 47s - loss: 3.4204e-04 - mape: 21.2650 - mae: 0.0132 - r_square: 0.9946 - val_loss: 8.1619e-05 - val_mape: 15.3362 - val_mae: 0.0065 - val_r_square: 0.9987\n",
      "Epoch 461/500\n",
      "8550/8550 - 47s - loss: 3.4110e-04 - mape: 21.0596 - mae: 0.0132 - r_square: 0.9947 - val_loss: 7.9269e-05 - val_mape: 15.4251 - val_mae: 0.0065 - val_r_square: 0.9988\n",
      "Epoch 462/500\n",
      "8550/8550 - 47s - loss: 3.5524e-04 - mape: 21.2972 - mae: 0.0134 - r_square: 0.9944 - val_loss: 8.5665e-05 - val_mape: 15.3500 - val_mae: 0.0067 - val_r_square: 0.9987\n",
      "Epoch 463/500\n",
      "8550/8550 - 47s - loss: 3.3753e-04 - mape: 21.0910 - mae: 0.0131 - r_square: 0.9948 - val_loss: 7.9808e-05 - val_mape: 15.3359 - val_mae: 0.0066 - val_r_square: 0.9988\n",
      "Epoch 464/500\n",
      "8550/8550 - 47s - loss: 3.4276e-04 - mape: 21.2651 - mae: 0.0132 - r_square: 0.9945 - val_loss: 7.6672e-05 - val_mape: 14.9534 - val_mae: 0.0064 - val_r_square: 0.9988\n",
      "Epoch 465/500\n",
      "8550/8550 - 47s - loss: 3.4699e-04 - mape: 21.3532 - mae: 0.0133 - r_square: 0.9945 - val_loss: 7.5675e-05 - val_mape: 13.4753 - val_mae: 0.0063 - val_r_square: 0.9989\n",
      "Epoch 466/500\n",
      "8550/8550 - 47s - loss: 3.4857e-04 - mape: 21.1909 - mae: 0.0132 - r_square: 0.9945 - val_loss: 8.4346e-05 - val_mape: 13.4739 - val_mae: 0.0068 - val_r_square: 0.9987\n",
      "Epoch 467/500\n",
      "8550/8550 - 47s - loss: 3.4138e-04 - mape: 20.9145 - mae: 0.0132 - r_square: 0.9946 - val_loss: 9.1336e-05 - val_mape: 16.2118 - val_mae: 0.0071 - val_r_square: 0.9986\n",
      "Epoch 468/500\n",
      "8550/8550 - 47s - loss: 3.3881e-04 - mape: 21.1544 - mae: 0.0131 - r_square: 0.9947 - val_loss: 7.7718e-05 - val_mape: 15.3148 - val_mae: 0.0064 - val_r_square: 0.9988\n",
      "Epoch 469/500\n",
      "8550/8550 - 47s - loss: 3.3293e-04 - mape: 21.6098 - mae: 0.0132 - r_square: 0.9948 - val_loss: 7.0547e-05 - val_mape: 15.6620 - val_mae: 0.0061 - val_r_square: 0.9989\n",
      "Epoch 470/500\n",
      "8550/8550 - 46s - loss: 3.2834e-04 - mape: 21.2524 - mae: 0.0131 - r_square: 0.9949 - val_loss: 7.8596e-05 - val_mape: 15.2537 - val_mae: 0.0065 - val_r_square: 0.9988\n",
      "Epoch 471/500\n",
      "8550/8550 - 47s - loss: 3.5059e-04 - mape: 21.1951 - mae: 0.0133 - r_square: 0.9945 - val_loss: 8.0074e-05 - val_mape: 15.2591 - val_mae: 0.0066 - val_r_square: 0.9987\n",
      "Epoch 472/500\n",
      "8550/8550 - 46s - loss: 3.4293e-04 - mape: 21.2652 - mae: 0.0132 - r_square: 0.9947 - val_loss: 7.9251e-05 - val_mape: 15.2068 - val_mae: 0.0066 - val_r_square: 0.9988\n",
      "Epoch 473/500\n",
      "8550/8550 - 46s - loss: 3.4749e-04 - mape: 21.0522 - mae: 0.0133 - r_square: 0.9945 - val_loss: 6.7544e-05 - val_mape: 13.7898 - val_mae: 0.0059 - val_r_square: 0.9989\n",
      "Epoch 474/500\n",
      "8550/8550 - 46s - loss: 3.3995e-04 - mape: 21.1960 - mae: 0.0132 - r_square: 0.9947 - val_loss: 7.5212e-05 - val_mape: 14.0128 - val_mae: 0.0064 - val_r_square: 0.9988\n",
      "Epoch 475/500\n",
      "8550/8550 - 46s - loss: 3.4199e-04 - mape: 21.3346 - mae: 0.0131 - r_square: 0.9947 - val_loss: 7.0566e-05 - val_mape: 13.9060 - val_mae: 0.0059 - val_r_square: 0.9989\n",
      "Epoch 476/500\n",
      "8550/8550 - 46s - loss: 3.3514e-04 - mape: 20.8231 - mae: 0.0131 - r_square: 0.9947 - val_loss: 8.0948e-05 - val_mape: 15.1660 - val_mae: 0.0066 - val_r_square: 0.9987\n",
      "Epoch 477/500\n",
      "8550/8550 - 46s - loss: 3.4821e-04 - mape: 20.9795 - mae: 0.0133 - r_square: 0.9945 - val_loss: 8.6960e-05 - val_mape: 15.1311 - val_mae: 0.0069 - val_r_square: 0.9987\n",
      "Epoch 478/500\n",
      "8550/8550 - 46s - loss: 3.4267e-04 - mape: 21.1731 - mae: 0.0132 - r_square: 0.9946 - val_loss: 8.0495e-05 - val_mape: 13.2052 - val_mae: 0.0066 - val_r_square: 0.9988\n",
      "Epoch 479/500\n",
      "8550/8550 - 46s - loss: 3.3592e-04 - mape: 21.0817 - mae: 0.0130 - r_square: 0.9947 - val_loss: 8.4459e-05 - val_mape: 13.8440 - val_mae: 0.0067 - val_r_square: 0.9987\n",
      "Epoch 480/500\n",
      "8550/8550 - 46s - loss: 3.3784e-04 - mape: 20.7094 - mae: 0.0132 - r_square: 0.9947 - val_loss: 7.2573e-05 - val_mape: 14.6786 - val_mae: 0.0062 - val_r_square: 0.9989\n",
      "Epoch 481/500\n",
      "8550/8550 - 47s - loss: 3.4378e-04 - mape: 21.0268 - mae: 0.0132 - r_square: 0.9946 - val_loss: 8.5335e-05 - val_mape: 15.6125 - val_mae: 0.0069 - val_r_square: 0.9987\n",
      "Epoch 482/500\n",
      "8550/8550 - 47s - loss: 3.4712e-04 - mape: 21.0609 - mae: 0.0132 - r_square: 0.9946 - val_loss: 7.9514e-05 - val_mape: 13.8103 - val_mae: 0.0065 - val_r_square: 0.9988\n",
      "Epoch 483/500\n",
      "8550/8550 - 47s - loss: 3.2951e-04 - mape: 21.1697 - mae: 0.0130 - r_square: 0.9948 - val_loss: 7.7808e-05 - val_mape: 14.3895 - val_mae: 0.0065 - val_r_square: 0.9988\n",
      "Epoch 484/500\n",
      "8550/8550 - 47s - loss: 3.6306e-04 - mape: 21.1376 - mae: 0.0132 - r_square: 0.9944 - val_loss: 7.8845e-05 - val_mape: 15.0713 - val_mae: 0.0067 - val_r_square: 0.9988\n",
      "Epoch 485/500\n",
      "8550/8550 - 47s - loss: 3.3444e-04 - mape: 21.2226 - mae: 0.0131 - r_square: 0.9948 - val_loss: 7.5211e-05 - val_mape: 14.1526 - val_mae: 0.0064 - val_r_square: 0.9988\n",
      "Epoch 486/500\n",
      "8550/8550 - 46s - loss: 3.4607e-04 - mape: 21.1143 - mae: 0.0131 - r_square: 0.9946 - val_loss: 8.8783e-05 - val_mape: 14.5552 - val_mae: 0.0068 - val_r_square: 0.9987\n",
      "Epoch 487/500\n",
      "8550/8550 - 47s - loss: 3.3672e-04 - mape: 21.2517 - mae: 0.0132 - r_square: 0.9948 - val_loss: 8.6514e-05 - val_mape: 15.2998 - val_mae: 0.0069 - val_r_square: 0.9987\n",
      "Epoch 488/500\n",
      "8550/8550 - 46s - loss: 3.5406e-04 - mape: 21.0281 - mae: 0.0133 - r_square: 0.9945 - val_loss: 7.2938e-05 - val_mape: 14.6443 - val_mae: 0.0062 - val_r_square: 0.9989\n",
      "Epoch 489/500\n",
      "8550/8550 - 46s - loss: 3.3685e-04 - mape: 21.2598 - mae: 0.0132 - r_square: 0.9947 - val_loss: 7.4384e-05 - val_mape: 13.4654 - val_mae: 0.0063 - val_r_square: 0.9989\n",
      "Epoch 490/500\n",
      "8550/8550 - 46s - loss: 3.3818e-04 - mape: 20.9273 - mae: 0.0130 - r_square: 0.9947 - val_loss: 7.6107e-05 - val_mape: 14.0563 - val_mae: 0.0063 - val_r_square: 0.9988\n",
      "Epoch 491/500\n",
      "8550/8550 - 46s - loss: 3.3759e-04 - mape: 21.0337 - mae: 0.0131 - r_square: 0.9947 - val_loss: 8.9991e-05 - val_mape: 14.0349 - val_mae: 0.0069 - val_r_square: 0.9986\n",
      "Epoch 492/500\n",
      "8550/8550 - 46s - loss: 3.2737e-04 - mape: 20.9967 - mae: 0.0130 - r_square: 0.9949 - val_loss: 7.2194e-05 - val_mape: 13.1782 - val_mae: 0.0061 - val_r_square: 0.9989\n",
      "Epoch 493/500\n",
      "8550/8550 - 46s - loss: 3.5239e-04 - mape: 20.7893 - mae: 0.0132 - r_square: 0.9944 - val_loss: 6.8286e-05 - val_mape: 14.2570 - val_mae: 0.0059 - val_r_square: 0.9989\n",
      "Epoch 494/500\n",
      "8550/8550 - 46s - loss: 3.3531e-04 - mape: 20.9518 - mae: 0.0131 - r_square: 0.9947 - val_loss: 7.8571e-05 - val_mape: 14.5742 - val_mae: 0.0066 - val_r_square: 0.9988\n",
      "Epoch 495/500\n",
      "8550/8550 - 46s - loss: 3.3389e-04 - mape: 20.7628 - mae: 0.0130 - r_square: 0.9948 - val_loss: 7.5620e-05 - val_mape: 13.7323 - val_mae: 0.0063 - val_r_square: 0.9988\n",
      "Epoch 496/500\n",
      "8550/8550 - 47s - loss: 3.4172e-04 - mape: 21.0697 - mae: 0.0131 - r_square: 0.9947 - val_loss: 9.3494e-05 - val_mape: 16.3084 - val_mae: 0.0071 - val_r_square: 0.9986\n",
      "Epoch 497/500\n",
      "8550/8550 - 47s - loss: 3.3776e-04 - mape: 20.7351 - mae: 0.0131 - r_square: 0.9947 - val_loss: 7.7469e-05 - val_mape: 14.4429 - val_mae: 0.0065 - val_r_square: 0.9988\n",
      "Epoch 498/500\n",
      "8550/8550 - 47s - loss: 3.2716e-04 - mape: 20.5122 - mae: 0.0128 - r_square: 0.9949 - val_loss: 8.4237e-05 - val_mape: 15.8900 - val_mae: 0.0069 - val_r_square: 0.9987\n",
      "Epoch 499/500\n",
      "8550/8550 - 47s - loss: 3.3477e-04 - mape: 21.2738 - mae: 0.0132 - r_square: 0.9948 - val_loss: 7.0239e-05 - val_mape: 13.7579 - val_mae: 0.0062 - val_r_square: 0.9989\n",
      "Epoch 500/500\n",
      "8550/8550 - 47s - loss: 3.3098e-04 - mape: 21.0128 - mae: 0.0129 - r_square: 0.9948 - val_loss: 8.2145e-05 - val_mape: 14.5160 - val_mae: 0.0066 - val_r_square: 0.9987\n"
     ]
    }
   ],
   "source": [
    "# call train function\n",
    "[Model, history] = train(Xtrain, ytrain, Xvalid, yvalid, model, 5e-5, 500, 8)"
   ]
  },
  {
   "cell_type": "code",
   "execution_count": 43,
   "metadata": {},
   "outputs": [
    {
     "data": {
      "image/png": "[encoded data removed]",
      "text/plain": [
       "<Figure size 1008x576 with 1 Axes>"
      ]
     },
     "metadata": {
      "needs_background": "light"
     },
     "output_type": "display_data"
    }
   ],
   "source": [
    "# call mseplot function\n",
    "mseplot(history, 0.02, 1e-5, 24, 0, 500)"
   ]
  },
  {
   "cell_type": "code",
   "execution_count": 46,
   "metadata": {},
   "outputs": [
    {
     "data": {
      "image/png": "[encoded data removed]",
      "text/plain": [
       "<Figure size 1008x576 with 1 Axes>"
      ]
     },
     "metadata": {
      "needs_background": "light"
     },
     "output_type": "display_data"
    }
   ],
   "source": [
    "# call mae function\n",
    "maeplot(history, 0.2, 0.0025, 24, 0, 500)"
   ]
  },
  {
   "cell_type": "code",
   "execution_count": 31,
   "metadata": {},
   "outputs": [
    {
     "data": {
      "image/png": "[encoded data removed]",
      "text/plain": [
       "<Figure size 1008x576 with 1 Axes>"
      ]
     },
     "metadata": {
      "needs_background": "light"
     },
     "output_type": "display_data"
    }
   ],
   "source": [
    "# call mape function\n",
    "mapeplot(history, 10, 100, 24, 0, 500)"
   ]
  },
  {
   "cell_type": "code",
   "execution_count": 33,
   "metadata": {},
   "outputs": [
    {
     "data": {
      "image/png": "[encoded data removed]",
      "text/plain": [
       "<Figure size 1008x576 with 1 Axes>"
      ]
     },
     "metadata": {
      "needs_background": "light"
     },
     "output_type": "display_data"
    }
   ],
   "source": [
    "# call mape function\n",
    "r2plot(history, 0.5, 1, 24, 0, 500)"
   ]
  },
  {
   "cell_type": "code",
   "execution_count": 47,
   "metadata": {},
   "outputs": [
    {
     "name": "stdout",
     "output_type": "stream",
     "text": [
      "500/1 - 1s\n"
     ]
    },
    {
     "data": {
      "text/html": [
       "<div>\n",
       "<style scoped>\n",
       "    .dataframe tbody tr th:only-of-type {\n",
       "        vertical-align: middle;\n",
       "    }\n",
       "\n",
       "    .dataframe tbody tr th {\n",
       "        vertical-align: top;\n",
       "    }\n",
       "\n",
       "    .dataframe thead th {\n",
       "        text-align: right;\n",
       "    }\n",
       "</style>\n",
       "<table border=\"1\" class=\"dataframe\">\n",
       "  <thead>\n",
       "    <tr style=\"text-align: right;\">\n",
       "      <th></th>\n",
       "      <th>True values (x)</th>\n",
       "      <th>True values (a)</th>\n",
       "      <th>Predicted values (x)</th>\n",
       "      <th>Predicted values (a)</th>\n",
       "      <th>APD (x)</th>\n",
       "      <th>APD (a)</th>\n",
       "    </tr>\n",
       "  </thead>\n",
       "  <tbody>\n",
       "    <tr>\n",
       "      <th>0</th>\n",
       "      <td>0.482653</td>\n",
       "      <td>0.008878</td>\n",
       "      <td>0.480106</td>\n",
       "      <td>0.023984</td>\n",
       "      <td>0.53</td>\n",
       "      <td>170.16</td>\n",
       "    </tr>\n",
       "    <tr>\n",
       "      <th>1</th>\n",
       "      <td>0.758163</td>\n",
       "      <td>0.070918</td>\n",
       "      <td>0.767856</td>\n",
       "      <td>0.069037</td>\n",
       "      <td>1.28</td>\n",
       "      <td>2.65</td>\n",
       "    </tr>\n",
       "    <tr>\n",
       "      <th>2</th>\n",
       "      <td>0.620408</td>\n",
       "      <td>0.065102</td>\n",
       "      <td>0.614577</td>\n",
       "      <td>0.065440</td>\n",
       "      <td>0.94</td>\n",
       "      <td>0.52</td>\n",
       "    </tr>\n",
       "    <tr>\n",
       "      <th>3</th>\n",
       "      <td>0.773469</td>\n",
       "      <td>0.086429</td>\n",
       "      <td>0.782512</td>\n",
       "      <td>0.089071</td>\n",
       "      <td>1.17</td>\n",
       "      <td>3.06</td>\n",
       "    </tr>\n",
       "    <tr>\n",
       "      <th>4</th>\n",
       "      <td>0.712245</td>\n",
       "      <td>0.045714</td>\n",
       "      <td>0.674636</td>\n",
       "      <td>0.053129</td>\n",
       "      <td>5.28</td>\n",
       "      <td>16.22</td>\n",
       "    </tr>\n",
       "    <tr>\n",
       "      <th>...</th>\n",
       "      <td>...</td>\n",
       "      <td>...</td>\n",
       "      <td>...</td>\n",
       "      <td>...</td>\n",
       "      <td>...</td>\n",
       "      <td>...</td>\n",
       "    </tr>\n",
       "    <tr>\n",
       "      <th>495</th>\n",
       "      <td>0.145918</td>\n",
       "      <td>0.043776</td>\n",
       "      <td>0.151330</td>\n",
       "      <td>0.040444</td>\n",
       "      <td>3.71</td>\n",
       "      <td>7.61</td>\n",
       "    </tr>\n",
       "    <tr>\n",
       "      <th>496</th>\n",
       "      <td>0.773469</td>\n",
       "      <td>0.014694</td>\n",
       "      <td>0.770898</td>\n",
       "      <td>0.025647</td>\n",
       "      <td>0.33</td>\n",
       "      <td>74.54</td>\n",
       "    </tr>\n",
       "    <tr>\n",
       "      <th>497</th>\n",
       "      <td>0.100000</td>\n",
       "      <td>0.047653</td>\n",
       "      <td>0.101381</td>\n",
       "      <td>0.051126</td>\n",
       "      <td>1.38</td>\n",
       "      <td>7.29</td>\n",
       "    </tr>\n",
       "    <tr>\n",
       "      <th>498</th>\n",
       "      <td>0.773469</td>\n",
       "      <td>0.034082</td>\n",
       "      <td>0.787948</td>\n",
       "      <td>0.026818</td>\n",
       "      <td>1.87</td>\n",
       "      <td>21.31</td>\n",
       "    </tr>\n",
       "    <tr>\n",
       "      <th>499</th>\n",
       "      <td>0.696939</td>\n",
       "      <td>0.039898</td>\n",
       "      <td>0.700190</td>\n",
       "      <td>0.037522</td>\n",
       "      <td>0.47</td>\n",
       "      <td>5.95</td>\n",
       "    </tr>\n",
       "  </tbody>\n",
       "</table>\n",
       "<p>500 rows × 6 columns</p>\n",
       "</div>"
      ],
      "text/plain": [
       "     True values (x)  True values (a)  Predicted values (x)  \\\n",
       "0           0.482653         0.008878              0.480106   \n",
       "1           0.758163         0.070918              0.767856   \n",
       "2           0.620408         0.065102              0.614577   \n",
       "3           0.773469         0.086429              0.782512   \n",
       "4           0.712245         0.045714              0.674636   \n",
       "..               ...              ...                   ...   \n",
       "495         0.145918         0.043776              0.151330   \n",
       "496         0.773469         0.014694              0.770898   \n",
       "497         0.100000         0.047653              0.101381   \n",
       "498         0.773469         0.034082              0.787948   \n",
       "499         0.696939         0.039898              0.700190   \n",
       "\n",
       "     Predicted values (a)  APD (x)  APD (a)  \n",
       "0                0.023984     0.53   170.16  \n",
       "1                0.069037     1.28     2.65  \n",
       "2                0.065440     0.94     0.52  \n",
       "3                0.089071     1.17     3.06  \n",
       "4                0.053129     5.28    16.22  \n",
       "..                    ...      ...      ...  \n",
       "495              0.040444     3.71     7.61  \n",
       "496              0.025647     0.33    74.54  \n",
       "497              0.051126     1.38     7.29  \n",
       "498              0.026818     1.87    21.31  \n",
       "499              0.037522     0.47     5.95  \n",
       "\n",
       "[500 rows x 6 columns]"
      ]
     },
     "execution_count": 47,
     "metadata": {},
     "output_type": "execute_result"
    }
   ],
   "source": [
    "# call pred function\n",
    "pred(Model,Xtest,ytest,'LSTM_DamLocal.xlsx')"
   ]
  },
  {
   "cell_type": "code",
   "execution_count": null,
   "metadata": {},
   "outputs": [],
   "source": [
    "# trained model weights\n",
    "#layer_weights = model.layers[0].get_weights()[0]\n",
    "#print(layer_weights.shape)\n",
    "#print(layer_weights)"
   ]
  },
  {
   "cell_type": "code",
   "execution_count": null,
   "metadata": {},
   "outputs": [],
   "source": [
    "# trained model biases\n",
    "#layer_biases  = model.layers[0].get_weights()[1]\n",
    "#print(layer_biases.shape)\n",
    "#print(layer_biases)"
   ]
  },
  {
   "cell_type": "markdown",
   "metadata": {},
   "source": [
    "# Generalization on frequencies"
   ]
  },
  {
   "cell_type": "code",
   "execution_count": 53,
   "metadata": {},
   "outputs": [],
   "source": [
    "df_Df100_Ax = pd.read_csv('D:/SDE/1_SDEisotropicDL/CollectData/4_TestSet/0Dataset/Ax225_Df100_17Aug20.txt',header=None)\n",
    "df_Df100_Flex = pd.read_csv('D:/SDE/1_SDEisotropicDL/CollectData/4_TestSet/0Dataset/Flex225_Df100_17Aug20.txt',header=None)\n",
    "\n",
    "df_Df150_Ax = pd.read_csv('D:/SDE/1_SDEisotropicDL/CollectData/4_TestSet/0Dataset/Ax225_Df150_17Aug20.txt',header=None)\n",
    "df_Df150_Flex = pd.read_csv('D:/SDE/1_SDEisotropicDL/CollectData/4_TestSet/0Dataset/Flex225_Df150_17Aug20.txt',header=None)\n",
    "\n",
    "y100 = pd.read_excel('D:/SDE/1_SDEisotropicDL/CollectData/4_TestSet/f100/3Labels/labels100.xlsx',header=None)\n",
    "y150 = pd.read_excel('D:/SDE/1_SDEisotropicDL/CollectData/4_TestSet/f150/3Labels/labels150.xlsx',header=None)"
   ]
  },
  {
   "cell_type": "code",
   "execution_count": 54,
   "metadata": {},
   "outputs": [
    {
     "name": "stdout",
     "output_type": "stream",
     "text": [
      "(225, 8192)\n",
      "(225, 8192)\n",
      "(225, 2)\n",
      "(225, 8192)\n",
      "(225, 8192)\n",
      "(225, 2)\n"
     ]
    }
   ],
   "source": [
    "print(df_Df100_Ax.shape)\n",
    "print(df_Df100_Flex.shape)\n",
    "print(y100.shape)\n",
    "\n",
    "print(df_Df150_Ax.shape)\n",
    "print(df_Df150_Flex.shape)\n",
    "print(y150.shape)"
   ]
  },
  {
   "cell_type": "code",
   "execution_count": 55,
   "metadata": {},
   "outputs": [],
   "source": [
    "DAx100 = df_Df100_Ax.iloc[:, 0 : index]\n",
    "DFlex100 = df_Df100_Flex.iloc[:, 0 : index]\n",
    "\n",
    "DAx150 = df_Df150_Ax.iloc[:, 0 : index]\n",
    "DFlex150 = df_Df150_Flex.iloc[:, 0 : index]"
   ]
  },
  {
   "cell_type": "code",
   "execution_count": 56,
   "metadata": {},
   "outputs": [
    {
     "name": "stdout",
     "output_type": "stream",
     "text": [
      "(225, 2000)\n",
      "(225, 2)\n"
     ]
    }
   ],
   "source": [
    "Xpred = DAx150  + DFlex150 # DAx150  + DFlex150 \n",
    "Xpred = np.array(Xpred)\n",
    "ypred = np.array(y150)/1000\n",
    "print(Xpred.shape)\n",
    "print(ypred.shape)"
   ]
  },
  {
   "cell_type": "code",
   "execution_count": 57,
   "metadata": {},
   "outputs": [
    {
     "name": "stdout",
     "output_type": "stream",
     "text": [
      "225/1 - 0s\n"
     ]
    },
    {
     "data": {
      "text/html": [
       "<div>\n",
       "<style scoped>\n",
       "    .dataframe tbody tr th:only-of-type {\n",
       "        vertical-align: middle;\n",
       "    }\n",
       "\n",
       "    .dataframe tbody tr th {\n",
       "        vertical-align: top;\n",
       "    }\n",
       "\n",
       "    .dataframe thead th {\n",
       "        text-align: right;\n",
       "    }\n",
       "</style>\n",
       "<table border=\"1\" class=\"dataframe\">\n",
       "  <thead>\n",
       "    <tr style=\"text-align: right;\">\n",
       "      <th></th>\n",
       "      <th>True values (x)</th>\n",
       "      <th>True values (a)</th>\n",
       "      <th>Predicted values (x)</th>\n",
       "      <th>Predicted values (a)</th>\n",
       "      <th>APD (x)</th>\n",
       "      <th>APD (a)</th>\n",
       "    </tr>\n",
       "  </thead>\n",
       "  <tbody>\n",
       "    <tr>\n",
       "      <th>0</th>\n",
       "      <td>0.10</td>\n",
       "      <td>0.020000</td>\n",
       "      <td>0.423797</td>\n",
       "      <td>0.054451</td>\n",
       "      <td>323.80</td>\n",
       "      <td>172.25</td>\n",
       "    </tr>\n",
       "    <tr>\n",
       "      <th>1</th>\n",
       "      <td>0.10</td>\n",
       "      <td>0.024643</td>\n",
       "      <td>0.373199</td>\n",
       "      <td>0.053451</td>\n",
       "      <td>273.20</td>\n",
       "      <td>116.90</td>\n",
       "    </tr>\n",
       "    <tr>\n",
       "      <th>2</th>\n",
       "      <td>0.10</td>\n",
       "      <td>0.029286</td>\n",
       "      <td>0.402864</td>\n",
       "      <td>0.054266</td>\n",
       "      <td>302.86</td>\n",
       "      <td>85.30</td>\n",
       "    </tr>\n",
       "    <tr>\n",
       "      <th>3</th>\n",
       "      <td>0.10</td>\n",
       "      <td>0.033929</td>\n",
       "      <td>0.411426</td>\n",
       "      <td>0.054521</td>\n",
       "      <td>311.43</td>\n",
       "      <td>60.69</td>\n",
       "    </tr>\n",
       "    <tr>\n",
       "      <th>4</th>\n",
       "      <td>0.10</td>\n",
       "      <td>0.038571</td>\n",
       "      <td>0.410078</td>\n",
       "      <td>0.054292</td>\n",
       "      <td>310.08</td>\n",
       "      <td>40.76</td>\n",
       "    </tr>\n",
       "    <tr>\n",
       "      <th>...</th>\n",
       "      <td>...</td>\n",
       "      <td>...</td>\n",
       "      <td>...</td>\n",
       "      <td>...</td>\n",
       "      <td>...</td>\n",
       "      <td>...</td>\n",
       "    </tr>\n",
       "    <tr>\n",
       "      <th>220</th>\n",
       "      <td>0.85</td>\n",
       "      <td>0.066429</td>\n",
       "      <td>0.339542</td>\n",
       "      <td>0.054468</td>\n",
       "      <td>60.05</td>\n",
       "      <td>18.00</td>\n",
       "    </tr>\n",
       "    <tr>\n",
       "      <th>221</th>\n",
       "      <td>0.85</td>\n",
       "      <td>0.071071</td>\n",
       "      <td>0.407138</td>\n",
       "      <td>0.057543</td>\n",
       "      <td>52.10</td>\n",
       "      <td>19.04</td>\n",
       "    </tr>\n",
       "    <tr>\n",
       "      <th>222</th>\n",
       "      <td>0.85</td>\n",
       "      <td>0.075714</td>\n",
       "      <td>0.414394</td>\n",
       "      <td>0.054946</td>\n",
       "      <td>51.25</td>\n",
       "      <td>27.43</td>\n",
       "    </tr>\n",
       "    <tr>\n",
       "      <th>223</th>\n",
       "      <td>0.85</td>\n",
       "      <td>0.080357</td>\n",
       "      <td>0.421967</td>\n",
       "      <td>0.054869</td>\n",
       "      <td>50.36</td>\n",
       "      <td>31.72</td>\n",
       "    </tr>\n",
       "    <tr>\n",
       "      <th>224</th>\n",
       "      <td>0.85</td>\n",
       "      <td>0.085000</td>\n",
       "      <td>0.419317</td>\n",
       "      <td>0.054988</td>\n",
       "      <td>50.67</td>\n",
       "      <td>35.31</td>\n",
       "    </tr>\n",
       "  </tbody>\n",
       "</table>\n",
       "<p>225 rows × 6 columns</p>\n",
       "</div>"
      ],
      "text/plain": [
       "     True values (x)  True values (a)  Predicted values (x)  \\\n",
       "0               0.10         0.020000              0.423797   \n",
       "1               0.10         0.024643              0.373199   \n",
       "2               0.10         0.029286              0.402864   \n",
       "3               0.10         0.033929              0.411426   \n",
       "4               0.10         0.038571              0.410078   \n",
       "..               ...              ...                   ...   \n",
       "220             0.85         0.066429              0.339542   \n",
       "221             0.85         0.071071              0.407138   \n",
       "222             0.85         0.075714              0.414394   \n",
       "223             0.85         0.080357              0.421967   \n",
       "224             0.85         0.085000              0.419317   \n",
       "\n",
       "     Predicted values (a)  APD (x)  APD (a)  \n",
       "0                0.054451   323.80   172.25  \n",
       "1                0.053451   273.20   116.90  \n",
       "2                0.054266   302.86    85.30  \n",
       "3                0.054521   311.43    60.69  \n",
       "4                0.054292   310.08    40.76  \n",
       "..                    ...      ...      ...  \n",
       "220              0.054468    60.05    18.00  \n",
       "221              0.057543    52.10    19.04  \n",
       "222              0.054946    51.25    27.43  \n",
       "223              0.054869    50.36    31.72  \n",
       "224              0.054988    50.67    35.31  \n",
       "\n",
       "[225 rows x 6 columns]"
      ]
     },
     "execution_count": 57,
     "metadata": {},
     "output_type": "execute_result"
    }
   ],
   "source": [
    "# call pred function\n",
    "pred(model,Xpred,ypred,'LSTM_DamLocal_pred150.xlsx')"
   ]
  },
  {
   "cell_type": "markdown",
   "metadata": {},
   "source": [
    "# Generalization on noise"
   ]
  },
  {
   "cell_type": "code",
   "execution_count": 58,
   "metadata": {},
   "outputs": [
    {
     "name": "stdout",
     "output_type": "stream",
     "text": [
      "SNR :  8.567352894620669\n"
     ]
    }
   ],
   "source": [
    "#---Random gaussian noise parameter\n",
    "beta4 = 0.042\n",
    "r = sigma*np.random.randn(2000,1) + mu   #random parameter with gaussian distribution\n",
    "r = np.transpose(r)\n",
    "\n",
    "#---Noisy signal\n",
    "n4 = beta4*r*np.max(X)\n",
    "Xn4 = X + n4\n",
    "\n",
    "n = random.sample(range(1, Xn4.shape[0]), 225)\n",
    "Xn4 = Xn4[n,:] # Xn should be defined\n",
    "yn4 = y[n]   # yn should be defined\n",
    "    \n",
    "#---Signal to noise ratio\n",
    "import math\n",
    "\n",
    "rms_Xn4 = np.sqrt(np.mean(Xn4**2))\n",
    "Power_Xn4 = rms_Xn4**2\n",
    "\n",
    "rms_n4 = np.sqrt(np.mean(n4**2))\n",
    "Power_n4 = rms_n4**2\n",
    "\n",
    "SNR_dB = 10*math.log10(Power_Xn4/Power_n4)\n",
    "print(\"SNR : \",SNR_dB)"
   ]
  },
  {
   "cell_type": "code",
   "execution_count": 59,
   "metadata": {},
   "outputs": [
    {
     "name": "stdout",
     "output_type": "stream",
     "text": [
      "31\n"
     ]
    },
    {
     "data": {
      "text/plain": [
       "Text(0.5, 1.0, 'Dam')"
      ]
     },
     "execution_count": 59,
     "metadata": {},
     "output_type": "execute_result"
    },
    {
     "data": {
      "image/png": "[encoded data removed]",
      "text/plain": [
       "<Figure size 720x288 with 1 Axes>"
      ]
     },
     "metadata": {
      "needs_background": "light"
     },
     "output_type": "display_data"
    }
   ],
   "source": [
    "#---Plot non-noisy signal\n",
    "Dp = random.randint(1, 225)\n",
    "print(Dp)\n",
    "\n",
    "plt.figure(figsize=(10,4))\n",
    "plt.plot(time[0:index-1], Xn4[Dp, 0 : index-1])\n",
    "plt.title('Dam')"
   ]
  },
  {
   "cell_type": "code",
   "execution_count": 60,
   "metadata": {},
   "outputs": [
    {
     "name": "stdout",
     "output_type": "stream",
     "text": [
      "225/1 - 0s\n"
     ]
    },
    {
     "data": {
      "text/html": [
       "<div>\n",
       "<style scoped>\n",
       "    .dataframe tbody tr th:only-of-type {\n",
       "        vertical-align: middle;\n",
       "    }\n",
       "\n",
       "    .dataframe tbody tr th {\n",
       "        vertical-align: top;\n",
       "    }\n",
       "\n",
       "    .dataframe thead th {\n",
       "        text-align: right;\n",
       "    }\n",
       "</style>\n",
       "<table border=\"1\" class=\"dataframe\">\n",
       "  <thead>\n",
       "    <tr style=\"text-align: right;\">\n",
       "      <th></th>\n",
       "      <th>True values (x)</th>\n",
       "      <th>True values (a)</th>\n",
       "      <th>Predicted values (x)</th>\n",
       "      <th>Predicted values (a)</th>\n",
       "      <th>APD (x)</th>\n",
       "      <th>APD (a)</th>\n",
       "    </tr>\n",
       "  </thead>\n",
       "  <tbody>\n",
       "    <tr>\n",
       "      <th>0</th>\n",
       "      <td>0.742857</td>\n",
       "      <td>0.047653</td>\n",
       "      <td>0.740169</td>\n",
       "      <td>0.061613</td>\n",
       "      <td>0.36</td>\n",
       "      <td>29.30</td>\n",
       "    </tr>\n",
       "    <tr>\n",
       "      <th>1</th>\n",
       "      <td>0.467347</td>\n",
       "      <td>0.065102</td>\n",
       "      <td>0.472400</td>\n",
       "      <td>0.064933</td>\n",
       "      <td>1.08</td>\n",
       "      <td>0.26</td>\n",
       "    </tr>\n",
       "    <tr>\n",
       "      <th>2</th>\n",
       "      <td>0.819388</td>\n",
       "      <td>0.078673</td>\n",
       "      <td>0.600289</td>\n",
       "      <td>0.053817</td>\n",
       "      <td>26.74</td>\n",
       "      <td>31.59</td>\n",
       "    </tr>\n",
       "    <tr>\n",
       "      <th>3</th>\n",
       "      <td>0.681633</td>\n",
       "      <td>0.057347</td>\n",
       "      <td>0.508055</td>\n",
       "      <td>0.055911</td>\n",
       "      <td>25.47</td>\n",
       "      <td>2.50</td>\n",
       "    </tr>\n",
       "    <tr>\n",
       "      <th>4</th>\n",
       "      <td>0.804082</td>\n",
       "      <td>0.072857</td>\n",
       "      <td>0.783610</td>\n",
       "      <td>0.066003</td>\n",
       "      <td>2.55</td>\n",
       "      <td>9.41</td>\n",
       "    </tr>\n",
       "    <tr>\n",
       "      <th>...</th>\n",
       "      <td>...</td>\n",
       "      <td>...</td>\n",
       "      <td>...</td>\n",
       "      <td>...</td>\n",
       "      <td>...</td>\n",
       "      <td>...</td>\n",
       "    </tr>\n",
       "    <tr>\n",
       "      <th>220</th>\n",
       "      <td>0.559184</td>\n",
       "      <td>0.008878</td>\n",
       "      <td>0.529513</td>\n",
       "      <td>0.040785</td>\n",
       "      <td>5.31</td>\n",
       "      <td>359.42</td>\n",
       "    </tr>\n",
       "    <tr>\n",
       "      <th>221</th>\n",
       "      <td>0.513265</td>\n",
       "      <td>0.036020</td>\n",
       "      <td>0.468338</td>\n",
       "      <td>0.057983</td>\n",
       "      <td>8.75</td>\n",
       "      <td>60.97</td>\n",
       "    </tr>\n",
       "    <tr>\n",
       "      <th>222</th>\n",
       "      <td>0.543878</td>\n",
       "      <td>0.098061</td>\n",
       "      <td>0.660234</td>\n",
       "      <td>0.072596</td>\n",
       "      <td>21.39</td>\n",
       "      <td>25.97</td>\n",
       "    </tr>\n",
       "    <tr>\n",
       "      <th>223</th>\n",
       "      <td>0.467347</td>\n",
       "      <td>0.008878</td>\n",
       "      <td>0.498963</td>\n",
       "      <td>0.054600</td>\n",
       "      <td>6.76</td>\n",
       "      <td>515.03</td>\n",
       "    </tr>\n",
       "    <tr>\n",
       "      <th>224</th>\n",
       "      <td>0.436735</td>\n",
       "      <td>0.067041</td>\n",
       "      <td>0.509487</td>\n",
       "      <td>0.065823</td>\n",
       "      <td>16.66</td>\n",
       "      <td>1.82</td>\n",
       "    </tr>\n",
       "  </tbody>\n",
       "</table>\n",
       "<p>225 rows × 6 columns</p>\n",
       "</div>"
      ],
      "text/plain": [
       "     True values (x)  True values (a)  Predicted values (x)  \\\n",
       "0           0.742857         0.047653              0.740169   \n",
       "1           0.467347         0.065102              0.472400   \n",
       "2           0.819388         0.078673              0.600289   \n",
       "3           0.681633         0.057347              0.508055   \n",
       "4           0.804082         0.072857              0.783610   \n",
       "..               ...              ...                   ...   \n",
       "220         0.559184         0.008878              0.529513   \n",
       "221         0.513265         0.036020              0.468338   \n",
       "222         0.543878         0.098061              0.660234   \n",
       "223         0.467347         0.008878              0.498963   \n",
       "224         0.436735         0.067041              0.509487   \n",
       "\n",
       "     Predicted values (a)  APD (x)  APD (a)  \n",
       "0                0.061613     0.36    29.30  \n",
       "1                0.064933     1.08     0.26  \n",
       "2                0.053817    26.74    31.59  \n",
       "3                0.055911    25.47     2.50  \n",
       "4                0.066003     2.55     9.41  \n",
       "..                    ...      ...      ...  \n",
       "220              0.040785     5.31   359.42  \n",
       "221              0.057983     8.75    60.97  \n",
       "222              0.072596    21.39    25.97  \n",
       "223              0.054600     6.76   515.03  \n",
       "224              0.065823    16.66     1.82  \n",
       "\n",
       "[225 rows x 6 columns]"
      ]
     },
     "execution_count": 60,
     "metadata": {},
     "output_type": "execute_result"
    }
   ],
   "source": [
    "# call pred function\n",
    "pred(model,Xn4,yn4,'LSTM_DamLocal_predNoise.xlsx')"
   ]
  },
  {
   "cell_type": "code",
   "execution_count": null,
   "metadata": {},
   "outputs": [],
   "source": []
  }
 ],
 "metadata": {
  "accelerator": "GPU",
  "colab": {
   "collapsed_sections": [],
   "name": "LSTM_SHM_Regression_7500withnoise.ipynb",
   "provenance": [
    {
     "file_id": "1fAwtf4nLoIks33Yy3RIJNQPS7GqeFE61",
     "timestamp": 1569917717681
    },
    {
     "file_id": "1zfHhfH2n9QuqNKOATxLm014NVJklU0gb",
     "timestamp": 1569819055385
    }
   ],
   "toc_visible": true
  },
  "kernelspec": {
   "display_name": "Python 3",
   "language": "python",
   "name": "python3"
  },
  "language_info": {
   "codemirror_mode": {
    "name": "ipython",
    "version": 3
   },
   "file_extension": ".py",
   "mimetype": "text/x-python",
   "name": "python",
   "nbconvert_exporter": "python",
   "pygments_lexer": "ipython3",
   "version": "3.7.7"
  }
 },
 "nbformat": 4,
 "nbformat_minor": 1
}
